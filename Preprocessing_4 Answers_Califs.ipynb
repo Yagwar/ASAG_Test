{
 "cells": [
  {
   "cell_type": "code",
   "execution_count": 1,
   "metadata": {},
   "outputs": [],
   "source": [
    "import pandas as pd\n",
    "import numpy as np\n",
    "import matplotlib.pyplot as plt\n",
    "import seaborn as sns\n",
    "\n",
    "# from sklearn.metrics import f1_score\n",
    "\n",
    "# from sklearn.feature_extraction.text import CountVectorizer\n",
    "# from sklearn.feature_extraction.text import TfidfTransformer\n",
    "\n",
    "# from sklearn.naive_bayes import GaussianNB\n"
   ]
  },
  {
   "cell_type": "code",
   "execution_count": 2,
   "metadata": {},
   "outputs": [
    {
     "name": "stdout",
     "output_type": "stream",
     "text": [
      "Questions\n",
      "Index(['dtset', 'qtype', 'stype', 'quest_id', 'question'], dtype='object')\n",
      "Index(['dtset', 'qtype', 'stype', 'quest_id', 'question'], dtype='object')\n",
      "Student Answers\n",
      "Index(['quest_id', 'st_answ', 'id_st', 'st_ans_calif'], dtype='object')\n",
      "Index(['quest_id', 'st_answ', 'id_st', 'st_ans_calif'], dtype='object')\n",
      "Reference Answers\n",
      "Index(['quest_id', 'ref_ans'], dtype='object')\n",
      "Index(['quest_id', 'ref_ans'], dtype='object')\n"
     ]
    }
   ],
   "source": [
    "print(\"Questions\")\n",
    "train_questions=pd.read_csv(\"train_questions.csv\", sep=\";\",index_col=0);print(train_questions.columns)\n",
    "test_questions=pd.read_csv(\"test_questions.csv\", sep=\";\",index_col=0);print(test_questions.columns)\n",
    "\n",
    "print(\"Student Answers\")\n",
    "train_stud_ans=pd.read_csv(\"train_stud_ans.csv\", sep=\";\",index_col=0);print(train_stud_ans.columns)\n",
    "test_stud_ans=pd.read_csv(\"test_stud_ans.csv\", sep=\";\",index_col=0);print(test_stud_ans.columns)\n",
    "\n",
    "print(\"Reference Answers\")\n",
    "train_ref_ans=pd.read_csv(\"train_ref_ans.csv\", sep=\";\",index_col=0);print(train_ref_ans.columns)\n",
    "test_ref_ans=pd.read_csv(\"test_ref_ans.csv\", sep=\";\",index_col=0);print(test_ref_ans.columns)\n"
   ]
  },
  {
   "cell_type": "code",
   "execution_count": 25,
   "metadata": {},
   "outputs": [
    {
     "name": "stdout",
     "output_type": "stream",
     "text": [
      "HYBRID_BURNED_OUT_WHY_Q2\n",
      "163    TRAIN Beetle\n",
      "Name: dtset, dtype: object\n",
      "7176    SwitchesBulbsParallel-HYBRID_BURNED_OUT_WHY_Q2...\n",
      "7177    SwitchesBulbsParallel-HYBRID_BURNED_OUT_WHY_Q2...\n",
      "7178    SwitchesBulbsParallel-HYBRID_BURNED_OUT_WHY_Q2...\n",
      "7179    SwitchesBulbsParallel-HYBRID_BURNED_OUT_WHY_Q2...\n",
      "7180    SwitchesBulbsParallel-HYBRID_BURNED_OUT_WHY_Q2...\n",
      "7181    SwitchesBulbsParallel-HYBRID_BURNED_OUT_WHY_Q2...\n",
      "7182    SwitchesBulbsParallel-HYBRID_BURNED_OUT_WHY_Q2...\n",
      "7183    SwitchesBulbsParallel-HYBRID_BURNED_OUT_WHY_Q2...\n",
      "7184    SwitchesBulbsParallel-HYBRID_BURNED_OUT_WHY_Q2...\n",
      "7185    SwitchesBulbsParallel-HYBRID_BURNED_OUT_WHY_Q2...\n",
      "7186    SwitchesBulbsParallel-HYBRID_BURNED_OUT_WHY_Q2...\n",
      "7187    SwitchesBulbsParallel-HYBRID_BURNED_OUT_WHY_Q2...\n",
      "7188    SwitchesBulbsParallel-HYBRID_BURNED_OUT_WHY_Q2...\n",
      "7189    SwitchesBulbsParallel-HYBRID_BURNED_OUT_WHY_Q2...\n",
      "7190    SwitchesBulbsParallel-HYBRID_BURNED_OUT_WHY_Q2...\n",
      "7191    SwitchesBulbsParallel-HYBRID_BURNED_OUT_WHY_Q2...\n",
      "7192    SwitchesBulbsParallel-HYBRID_BURNED_OUT_WHY_Q2...\n",
      "7193    SwitchesBulbsParallel-HYBRID_BURNED_OUT_WHY_Q2...\n",
      "7194    SwitchesBulbsParallel-HYBRID_BURNED_OUT_WHY_Q2...\n",
      "7195    SwitchesBulbsParallel-HYBRID_BURNED_OUT_WHY_Q2...\n",
      "7196    SwitchesBulbsParallel-HYBRID_BURNED_OUT_WHY_Q2...\n",
      "7197    SwitchesBulbsParallel-HYBRID_BURNED_OUT_WHY_Q2...\n",
      "7198    SwitchesBulbsParallel-HYBRID_BURNED_OUT_WHY_Q2...\n",
      "7199    SwitchesBulbsParallel-HYBRID_BURNED_OUT_WHY_Q2...\n",
      "7200    SwitchesBulbsParallel-HYBRID_BURNED_OUT_WHY_Q2...\n",
      "7201    SwitchesBulbsParallel-HYBRID_BURNED_OUT_WHY_Q2...\n",
      "7202    SwitchesBulbsParallel-HYBRID_BURNED_OUT_WHY_Q2...\n",
      "7203    SwitchesBulbsParallel-HYBRID_BURNED_OUT_WHY_Q2...\n",
      "7204    SwitchesBulbsParallel-HYBRID_BURNED_OUT_WHY_Q2...\n",
      "7205    SwitchesBulbsParallel-HYBRID_BURNED_OUT_WHY_Q2...\n",
      "                              ...                        \n",
      "7230    SwitchesBulbsParallel-HYBRID_BURNED_OUT_WHY_Q2...\n",
      "7231    SwitchesBulbsParallel-HYBRID_BURNED_OUT_WHY_Q2...\n",
      "7232    SwitchesBulbsParallel-HYBRID_BURNED_OUT_WHY_Q2...\n",
      "7233    SwitchesBulbsParallel-HYBRID_BURNED_OUT_WHY_Q2...\n",
      "7234    SwitchesBulbsParallel-HYBRID_BURNED_OUT_WHY_Q2...\n",
      "7235    SwitchesBulbsParallel-HYBRID_BURNED_OUT_WHY_Q2...\n",
      "7236    SwitchesBulbsParallel-HYBRID_BURNED_OUT_WHY_Q2...\n",
      "7237    SwitchesBulbsParallel-HYBRID_BURNED_OUT_WHY_Q2...\n",
      "7238    SwitchesBulbsParallel-HYBRID_BURNED_OUT_WHY_Q2...\n",
      "7239    SwitchesBulbsParallel-HYBRID_BURNED_OUT_WHY_Q2...\n",
      "7240    SwitchesBulbsParallel-HYBRID_BURNED_OUT_WHY_Q2...\n",
      "7241    SwitchesBulbsParallel-HYBRID_BURNED_OUT_WHY_Q2...\n",
      "7242    SwitchesBulbsParallel-HYBRID_BURNED_OUT_WHY_Q2...\n",
      "7243    SwitchesBulbsParallel-HYBRID_BURNED_OUT_WHY_Q2...\n",
      "7244    SwitchesBulbsParallel-HYBRID_BURNED_OUT_WHY_Q2...\n",
      "7245    SwitchesBulbsParallel-HYBRID_BURNED_OUT_WHY_Q2...\n",
      "7246    SwitchesBulbsParallel-HYBRID_BURNED_OUT_WHY_Q2...\n",
      "7247    SwitchesBulbsParallel-HYBRID_BURNED_OUT_WHY_Q2...\n",
      "7248    SwitchesBulbsParallel-HYBRID_BURNED_OUT_WHY_Q2...\n",
      "7249    SwitchesBulbsParallel-HYBRID_BURNED_OUT_WHY_Q2...\n",
      "7250    SwitchesBulbsParallel-HYBRID_BURNED_OUT_WHY_Q2...\n",
      "7251    SwitchesBulbsParallel-HYBRID_BURNED_OUT_WHY_Q2...\n",
      "7252    SwitchesBulbsParallel-HYBRID_BURNED_OUT_WHY_Q2...\n",
      "7253    SwitchesBulbsParallel-HYBRID_BURNED_OUT_WHY_Q2...\n",
      "7254    SwitchesBulbsParallel-HYBRID_BURNED_OUT_WHY_Q2...\n",
      "7255    SwitchesBulbsParallel-HYBRID_BURNED_OUT_WHY_Q2...\n",
      "7256    SwitchesBulbsParallel-HYBRID_BURNED_OUT_WHY_Q2...\n",
      "7257    SwitchesBulbsParallel-HYBRID_BURNED_OUT_WHY_Q2...\n",
      "7258    SwitchesBulbsParallel-HYBRID_BURNED_OUT_WHY_Q2...\n",
      "7259    SwitchesBulbsParallel-HYBRID_BURNED_OUT_WHY_Q2...\n",
      "Name: id_st, Length: 84, dtype: object\n"
     ]
    }
   ],
   "source": [
    "# train_questions[[\"dtset\",\"quest_id\"]]\n",
    "# for qst_id in train_stud_ans[\"quest_id\"]:\n",
    "#     qst_id \n",
    "\n",
    "i_quest=np.random.randint(train_stud_ans.shape[0])\n",
    "preg_busq=train_stud_ans.iloc[i_quest].quest_id\n",
    "print(preg_busq)\n",
    "print(train_questions.loc[train_questions.quest_id==preg_busq,\"dtset\"])\n",
    "\n",
    "print(train_stud_ans.loc[train_stud_ans.quest_id==preg_busq,\"id_st\"])"
   ]
  },
  {
   "cell_type": "code",
   "execution_count": 16,
   "metadata": {},
   "outputs": [
    {
     "data": {
      "text/plain": [
       "'PARALLEL_SWITCH_EXPLAIN_Q2'"
      ]
     },
     "execution_count": 16,
     "metadata": {},
     "output_type": "execute_result"
    }
   ],
   "source": [
    "preg_busq"
   ]
  },
  {
   "cell_type": "code",
   "execution_count": 14,
   "metadata": {},
   "outputs": [
    {
     "data": {
      "text/plain": [
       "0      TRAIN SciEntsBank\n",
       "1      TRAIN SciEntsBank\n",
       "2      TRAIN SciEntsBank\n",
       "3      TRAIN SciEntsBank\n",
       "4      TRAIN SciEntsBank\n",
       "5      TRAIN SciEntsBank\n",
       "6      TRAIN SciEntsBank\n",
       "7      TRAIN SciEntsBank\n",
       "8      TRAIN SciEntsBank\n",
       "9      TRAIN SciEntsBank\n",
       "10     TRAIN SciEntsBank\n",
       "11     TRAIN SciEntsBank\n",
       "12     TRAIN SciEntsBank\n",
       "13     TRAIN SciEntsBank\n",
       "14     TRAIN SciEntsBank\n",
       "15     TRAIN SciEntsBank\n",
       "16     TRAIN SciEntsBank\n",
       "17     TRAIN SciEntsBank\n",
       "18     TRAIN SciEntsBank\n",
       "19     TRAIN SciEntsBank\n",
       "20     TRAIN SciEntsBank\n",
       "21     TRAIN SciEntsBank\n",
       "22     TRAIN SciEntsBank\n",
       "23     TRAIN SciEntsBank\n",
       "24     TRAIN SciEntsBank\n",
       "25     TRAIN SciEntsBank\n",
       "26     TRAIN SciEntsBank\n",
       "27     TRAIN SciEntsBank\n",
       "28     TRAIN SciEntsBank\n",
       "29     TRAIN SciEntsBank\n",
       "             ...        \n",
       "152         TRAIN Beetle\n",
       "153         TRAIN Beetle\n",
       "154         TRAIN Beetle\n",
       "155         TRAIN Beetle\n",
       "156         TRAIN Beetle\n",
       "157         TRAIN Beetle\n",
       "158         TRAIN Beetle\n",
       "159         TRAIN Beetle\n",
       "160         TRAIN Beetle\n",
       "161         TRAIN Beetle\n",
       "162         TRAIN Beetle\n",
       "163         TRAIN Beetle\n",
       "164         TRAIN Beetle\n",
       "165         TRAIN Beetle\n",
       "166         TRAIN Beetle\n",
       "167         TRAIN Beetle\n",
       "168         TRAIN Beetle\n",
       "169         TRAIN Beetle\n",
       "170         TRAIN Beetle\n",
       "171         TRAIN Beetle\n",
       "172         TRAIN Beetle\n",
       "173         TRAIN Beetle\n",
       "174         TRAIN Beetle\n",
       "175         TRAIN Beetle\n",
       "176         TRAIN Beetle\n",
       "177         TRAIN Beetle\n",
       "178         TRAIN Beetle\n",
       "179         TRAIN Beetle\n",
       "180         TRAIN Beetle\n",
       "181         TRAIN Beetle\n",
       "Name: dtset, Length: 182, dtype: object"
      ]
     },
     "execution_count": 14,
     "metadata": {},
     "output_type": "execute_result"
    }
   ],
   "source": [
    "train_questions.dtset"
   ]
  },
  {
   "cell_type": "code",
   "execution_count": 6,
   "metadata": {},
   "outputs": [
    {
     "data": {
      "text/plain": [
       "8910"
      ]
     },
     "execution_count": 6,
     "metadata": {},
     "output_type": "execute_result"
    }
   ],
   "source": [
    "len(set(train_stud_ans.id_st))\n"
   ]
  },
  {
   "cell_type": "code",
   "execution_count": null,
   "metadata": {},
   "outputs": [],
   "source": []
  }
 ],
 "metadata": {
  "kernelspec": {
   "display_name": "Python 3",
   "language": "python",
   "name": "python3"
  },
  "language_info": {
   "codemirror_mode": {
    "name": "ipython",
    "version": 3
   },
   "file_extension": ".py",
   "mimetype": "text/x-python",
   "name": "python",
   "nbconvert_exporter": "python",
   "pygments_lexer": "ipython3",
   "version": "3.7.1"
  }
 },
 "nbformat": 4,
 "nbformat_minor": 2
}
