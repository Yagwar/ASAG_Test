{
 "cells": [
  {
   "cell_type": "markdown",
   "metadata": {},
   "source": [
    "# Artificial Neural Network for Automatic Short Answer Grading\n",
    "Automatic Short Answer Grading (ASAG) is the task of implementing a system that automatically assigns a class value related to the quality of an short-answer question (correct - incorrect). The aim of this project is to take a question from the ScientistBank dataset for train an Artifical Neural Network (ANN) that clasifies the answers of the students. The architecture is based on the model of -2016-"
   ]
  },
  {
   "cell_type": "code",
   "execution_count": 1,
   "metadata": {
    "collapsed": false
   },
   "outputs": [
    {
     "name": "stderr",
     "output_type": "stream",
     "text": [
      "Vendor:  Continuum Analytics, Inc.\n",
      "Package: mkl\n",
      "Message: trial mode expires in 25 days\n",
      "Using TensorFlow backend.\n"
     ]
    }
   ],
   "source": [
    "# Libraries\n",
    "import xml.etree.ElementTree as ET\n",
    "import sswe\n",
    "import pandas as pd\n",
    "import numpy as np\n",
    "import keras\n",
    "import theano"
   ]
  },
  {
   "cell_type": "markdown",
   "metadata": {},
   "source": [
    "## Load Data\n"
   ]
  },
  {
   "cell_type": "code",
   "execution_count": 2,
   "metadata": {
    "collapsed": true
   },
   "outputs": [],
   "source": [
    "tree = ET.parse('PS-inv1-2a_ScientisTrain.xml')\n",
    "root = tree.getroot()\n",
    "question=root[0].text\n",
    "grade=[branch.attrib[\"accuracy\"] for branch in root[2]]\n",
    "answers_st=[branch.text for branch in root[2]]\n",
    "answers_ref=[branch.text for branch in root[1]]"
   ]
  },
  {
   "cell_type": "code",
   "execution_count": 3,
   "metadata": {
    "collapsed": false
   },
   "outputs": [],
   "source": [
    "califs=[1 if resp==\"correct\" else 0 for resp in grade]"
   ]
  },
  {
   "cell_type": "code",
   "execution_count": 4,
   "metadata": {
    "collapsed": false
   },
   "outputs": [
    {
     "data": {
      "text/plain": [
       "'Why does a rubber band make a sound when you pluck it (pull and let go quickly)?'"
      ]
     },
     "execution_count": 4,
     "metadata": {},
     "output_type": "execute_result"
    }
   ],
   "source": [
    "question"
   ]
  },
  {
   "cell_type": "code",
   "execution_count": 5,
   "metadata": {
    "collapsed": false
   },
   "outputs": [
    {
     "data": {
      "text/plain": [
       "[\"['The\", 'rubber', 'band', \"vibrates.']\"]"
      ]
     },
     "execution_count": 5,
     "metadata": {},
     "output_type": "execute_result"
    }
   ],
   "source": [
    "str(answers_ref).split()"
   ]
  },
  {
   "cell_type": "code",
   "execution_count": 6,
   "metadata": {
    "collapsed": false
   },
   "outputs": [],
   "source": [
    "strs=[str(answer).split() for answer in answers_st]"
   ]
  },
  {
   "cell_type": "code",
   "execution_count": 7,
   "metadata": {
    "collapsed": false
   },
   "outputs": [
    {
     "data": {
      "text/plain": [
       "['Because it is sticky!',\n",
       " 'Because it hits the other side.',\n",
       " 'Because vibration.',\n",
       " 'It makes the plucking sound from stretching and then it vibrates and make sound.',\n",
       " 'Because if you stretch it and let it go it makes a volume.',\n",
       " 'Plucking is pull.',\n",
       " 'Because it hits the other part of the rubber band.',\n",
       " 'Because it vibrates.',\n",
       " 'Because your making vibrations.',\n",
       " 'Because it vibrates.',\n",
       " 'Because the vibrations.',\n",
       " 'Because it is tight.',\n",
       " 'Because it is vibrating.',\n",
       " 'Vibrations.',\n",
       " 'The rubber band makes a sound because it is on the doorknob.',\n",
       " 'Because it is like a string.',\n",
       " 'It vibration.',\n",
       " 'Because it goes up.',\n",
       " 'It makes a sound.',\n",
       " 'Because it is vibrating.',\n",
       " 'Guitars have wires that makes sound Just like a rubber band.',\n",
       " 'Because it hits something.',\n",
       " 'Because your finger smacks on it.',\n",
       " 'It will make a soft sound.',\n",
       " 'It vibrates.',\n",
       " 'It makes noise.',\n",
       " 'Because it is.',\n",
       " 'When you let go it vibrates.',\n",
       " 'Because it is vibrating.',\n",
       " 'Because it vibrates.',\n",
       " 'Because each side of the rubber band will snap together.',\n",
       " 'Because it vibrates.',\n",
       " 'It makes it louder.',\n",
       " 'It is vibrating.',\n",
       " 'If you have something close to the rubber band it would hit it and make noise.',\n",
       " 'Because vibration runs through it.',\n",
       " 'Because you stretch it and then it is tight.',\n",
       " 'Because each side hits each other and make noise.',\n",
       " 'It vibrates off the other side.',\n",
       " 'Low.',\n",
       " 'Because of the vibration.',\n",
       " 'It cuts through.',\n",
       " 'When you let it go you can see it make a vibration that makes the sound.',\n",
       " 'There is vibrations.',\n",
       " 'The rubber band is low.',\n",
       " 'It is like a guitar string only rubber.',\n",
       " 'By the vibrations.',\n",
       " 'The rubber band would make a high pitch.',\n",
       " 'Because the rubber band vibrates.',\n",
       " 'Because the rubber band is vibrating.',\n",
       " 'Because when you pluck it it makes the vibrations and vibrations make sound.',\n",
       " 'Because the 2 parts bump against each other.',\n",
       " 'Because it is vibrating.',\n",
       " 'It moves fast enough to make a sound.',\n",
       " 'Because of the vibrations it makes.',\n",
       " 'Because there is a vibration on the rubber band.',\n",
       " 'Because all things make sound.',\n",
       " 'A rhythm.',\n",
       " 'It will make a soft sound.',\n",
       " 'A rubber band makes a sound because vibration are made and sounds come from vibrations.',\n",
       " 'Because it hit the top and makes it vibrate.',\n",
       " 'Because you stretch it, then you pluck it.',\n",
       " 'Because our hand is causing it to make a sound.',\n",
       " 'Because when you pluck it the rudder band touches the top part.',\n",
       " 'Because it rubber.',\n",
       " 'It hit the first one.',\n",
       " 'Because it vibrates.',\n",
       " 'Because it is vibrating.',\n",
       " 'When you pull it and it hits the other part.',\n",
       " 'Because it hits the top.',\n",
       " 'Because you make it vibrate.',\n",
       " 'Because it vibrates.',\n",
       " 'It hits your finger.',\n",
       " 'Because the rubber band vibrated, and vibration caused sound.',\n",
       " 'Because of the vibration.',\n",
       " 'It does that because it vibrates.',\n",
       " 'Because it is vibrating.',\n",
       " 'Because there is a vibration.',\n",
       " 'Because it is vibrating.',\n",
       " 'Because it vibrates.',\n",
       " 'Because if you pull it, it goes like that.',\n",
       " 'Because it snaps together.',\n",
       " 'Because it is gently.',\n",
       " 'Because it snaps.',\n",
       " 'Pull it.',\n",
       " 'It makes the sound softer.',\n",
       " 'It is rubber.',\n",
       " 'You pulled and it flies.',\n",
       " 'It makes sound.',\n",
       " 'Because of the vibration.',\n",
       " 'It will make a doom sound.',\n",
       " 'Because it vibrates.',\n",
       " 'When you pluck a rubber band and let it go it moves back and forth which makes it vibrate.',\n",
       " 'Because you can make you hand is hurt.',\n",
       " 'I think because it vibrating.',\n",
       " 'It will say: dinininin!',\n",
       " 'It moves back and forth makes vibration.',\n",
       " 'Because it is making vibration.',\n",
       " 'Because it hits your Finger.',\n",
       " 'It makes a sound because it vibrates.',\n",
       " 'Because when you pull it. It hits your thumb.',\n",
       " 'Sound like Pum!',\n",
       " 'So it could a sound.',\n",
       " 'Because it vibrates and vibration makes Sound.']"
      ]
     },
     "execution_count": 7,
     "metadata": {},
     "output_type": "execute_result"
    }
   ],
   "source": [
    "#pd.DataFrame(np.column_stack([answers_st,grade]),columns=[\"Respuesta\",\"Calif\"])\n",
    "answers_st"
   ]
  },
  {
   "cell_type": "code",
   "execution_count": 8,
   "metadata": {
    "collapsed": false,
    "scrolled": true
   },
   "outputs": [],
   "source": [
    "#test_1=sswe.SSWEModel(1,1,1,1,1,1)\n",
    "#test_1.train(answers_st,califs)"
   ]
  },
  {
   "cell_type": "code",
   "execution_count": null,
   "metadata": {
    "collapsed": true
   },
   "outputs": [],
   "source": []
  },
  {
   "cell_type": "markdown",
   "metadata": {},
   "source": [
    "## Preprocessing"
   ]
  },
  {
   "cell_type": "markdown",
   "metadata": {},
   "source": [
    "## Words embedding trainning"
   ]
  },
  {
   "cell_type": "markdown",
   "metadata": {},
   "source": [
    "## Long-short term memory network\n"
   ]
  },
  {
   "cell_type": "markdown",
   "metadata": {},
   "source": [
    "## Validation"
   ]
  },
  {
   "cell_type": "markdown",
   "metadata": {},
   "source": [
    "# Word2vec Embeddings"
   ]
  },
  {
   "cell_type": "code",
   "execution_count": 9,
   "metadata": {
    "collapsed": true
   },
   "outputs": [],
   "source": [
    "import gensim, logging"
   ]
  },
  {
   "cell_type": "code",
   "execution_count": 10,
   "metadata": {
    "collapsed": false
   },
   "outputs": [
    {
     "name": "stderr",
     "output_type": "stream",
     "text": [
      "/opt/anaconda/envs/mindlabenv/lib/python2.7/site-packages/gensim/models/word2vec.py:651: UserWarning: C extension not loaded for Word2Vec, training will be slow. Install a C compiler and reinstall gensim for fast training.\n",
      "  warnings.warn(\"C extension not loaded for Word2Vec, training will be slow. \"\n"
     ]
    }
   ],
   "source": [
    "logging.basicConfig(format='%(asctime)s : %(levelname)s : %(message)s', level=logging.INFO)\n",
    "model = gensim.models.Word2Vec(answers_st)"
   ]
  },
  {
   "cell_type": "code",
   "execution_count": null,
   "metadata": {
    "collapsed": true
   },
   "outputs": [],
   "source": []
  }
 ],
 "metadata": {
  "kernelspec": {
   "display_name": "Python 2",
   "language": "python",
   "name": "python2"
  },
  "language_info": {
   "codemirror_mode": {
    "name": "ipython",
    "version": 2
   },
   "file_extension": ".py",
   "mimetype": "text/x-python",
   "name": "python",
   "nbconvert_exporter": "python",
   "pygments_lexer": "ipython2",
   "version": "2.7.12"
  }
 },
 "nbformat": 4,
 "nbformat_minor": 0
}
