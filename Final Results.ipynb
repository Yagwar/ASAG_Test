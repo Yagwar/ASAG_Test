{
 "cells": [
  {
   "cell_type": "code",
   "execution_count": 1,
   "metadata": {},
   "outputs": [],
   "source": [
    "wants <- c(\"car\",\"ggplot2\",\"reshape\", \"tidyverse\", \"hrbrthemes\", \"viridis\", \"plotly\")\n",
    "has   <- wants %in% rownames(installed.packages())\n",
    "if(any(!has)) install.packages(wants[!has],repos=\"https://cloud.r-project.org/\")\n"
   ]
  },
  {
   "cell_type": "code",
   "execution_count": 2,
   "metadata": {},
   "outputs": [
    {
     "data": {
      "text/html": [
       "'R version 3.5.2 (2018-12-20)'"
      ],
      "text/latex": [
       "'R version 3.5.2 (2018-12-20)'"
      ],
      "text/markdown": [
       "'R version 3.5.2 (2018-12-20)'"
      ],
      "text/plain": [
       "[1] \"R version 3.5.2 (2018-12-20)\""
      ]
     },
     "metadata": {},
     "output_type": "display_data"
    }
   ],
   "source": [
    "version$version.string"
   ]
  },
  {
   "cell_type": "code",
   "execution_count": 3,
   "metadata": {},
   "outputs": [
    {
     "name": "stderr",
     "output_type": "stream",
     "text": [
      "Warning message:\n",
      "\"package 'ggplot2' was built under R version 3.5.3\"\n",
      "Attaching package: 'ggplot2'\n",
      "\n",
      "The following object is masked from 'package:crayon':\n",
      "\n",
      "    %+%\n",
      "\n",
      "Warning message:\n",
      "\"package 'reshape' was built under R version 3.5.3\"Warning message:\n",
      "\"package 'tidyverse' was built under R version 3.5.3\"-- Attaching packages --------------------------------------- tidyverse 1.2.1 --\n",
      "v tibble  2.0.1       v purrr   0.3.0  \n",
      "v tidyr   0.8.2       v dplyr   0.8.0.1\n",
      "v readr   1.3.1       v stringr 1.4.0  \n",
      "v tibble  2.0.1       v forcats 0.4.0  \n",
      "-- Conflicts ------------------------------------------ tidyverse_conflicts() --\n",
      "x ggplot2::%+%()  masks crayon::%+%()\n",
      "x tidyr::expand() masks reshape::expand()\n",
      "x dplyr::filter() masks stats::filter()\n",
      "x dplyr::lag()    masks stats::lag()\n",
      "x dplyr::recode() masks car::recode()\n",
      "x dplyr::rename() masks reshape::rename()\n",
      "x dplyr::select() masks MASS::select()\n",
      "x purrr::some()   masks car::some()\n",
      "Warning message:\n",
      "\"package 'hrbrthemes' was built under R version 3.5.3\"NOTE: Either Arial Narrow or Roboto Condensed fonts are required to use these themes.\n",
      "      Please use hrbrthemes::import_roboto_condensed() to install Roboto Condensed and\n",
      "      if Arial Narrow is not on your system, please see http://bit.ly/arialnarrow\n",
      "Warning message:\n",
      "\"package 'viridis' was built under R version 3.5.3\"Loading required package: viridisLite\n",
      "Warning message:\n",
      "\"package 'plotly' was built under R version 3.5.3\"\n",
      "Attaching package: 'plotly'\n",
      "\n",
      "The following object is masked from 'package:reshape':\n",
      "\n",
      "    rename\n",
      "\n",
      "The following object is masked from 'package:ggplot2':\n",
      "\n",
      "    last_plot\n",
      "\n",
      "The following object is masked from 'package:MASS':\n",
      "\n",
      "    select\n",
      "\n",
      "The following object is masked from 'package:stats':\n",
      "\n",
      "    filter\n",
      "\n",
      "The following object is masked from 'package:graphics':\n",
      "\n",
      "    layout\n",
      "\n",
      "The following object is masked from 'package:crayon':\n",
      "\n",
      "    style\n",
      "\n"
     ]
    }
   ],
   "source": [
    "library(car)\n",
    "library(ggplot2)\n",
    "library(reshape)\n",
    "\n",
    "library(tidyverse)\n",
    "library(hrbrthemes)\n",
    "library(viridis)\n",
    "library(plotly)\n",
    "options(repr.plot.width=11, repr.plot.height=6)\n",
    "\n",
    "data=read.csv2(\"final reults.csv\",row.names=1)"
   ]
  },
  {
   "cell_type": "code",
   "execution_count": 4,
   "metadata": {},
   "outputs": [],
   "source": [
    "data=data[!((rownames(data)==\"EM_45c\")|(rownames(data)==\"LF_18a\")|(rownames(data)==\"LF_31b\")),]\n",
    "data[\"IRT_cat\"]=\"Balanceado\"\n",
    "data[data$IRT_difficulty<=(-1.0),\"IRT_cat\"]=\"Fácil\"\n",
    "data[data$IRT_difficulty>=(1.0) ,\"IRT_cat\"]=\"Difícil\"\n",
    "data$IRT_cat=factor(data$IRT_cat, levels=c(\"Fácil\",\"Balanceado\",\"Difícil\"))"
   ]
  },
  {
   "cell_type": "code",
   "execution_count": 5,
   "metadata": {},
   "outputs": [],
   "source": [
    "data_2=data[!data$process_2==\"undefined\",]\n",
    "data_6=data[!data$process_6==\"undefined\",]"
   ]
  },
  {
   "cell_type": "code",
   "execution_count": 6,
   "metadata": {},
   "outputs": [
    {
     "data": {
      "text/html": [
       "<ol class=list-inline>\n",
       "\t<li>'process_6'</li>\n",
       "\t<li>'process_2'</li>\n",
       "\t<li>'IRT_difficulty'</li>\n",
       "\t<li>'KNN'</li>\n",
       "\t<li>'RBF_SVM'</li>\n",
       "\t<li>'Rand_Forest'</li>\n",
       "\t<li>'AdaBoost'</li>\n",
       "\t<li>'Naive_Bayes'</li>\n",
       "\t<li>'QDA'</li>\n",
       "\t<li>'IRT_cat'</li>\n",
       "</ol>\n"
      ],
      "text/latex": [
       "\\begin{enumerate*}\n",
       "\\item 'process\\_6'\n",
       "\\item 'process\\_2'\n",
       "\\item 'IRT\\_difficulty'\n",
       "\\item 'KNN'\n",
       "\\item 'RBF\\_SVM'\n",
       "\\item 'Rand\\_Forest'\n",
       "\\item 'AdaBoost'\n",
       "\\item 'Naive\\_Bayes'\n",
       "\\item 'QDA'\n",
       "\\item 'IRT\\_cat'\n",
       "\\end{enumerate*}\n"
      ],
      "text/markdown": [
       "1. 'process_6'\n",
       "2. 'process_2'\n",
       "3. 'IRT_difficulty'\n",
       "4. 'KNN'\n",
       "5. 'RBF_SVM'\n",
       "6. 'Rand_Forest'\n",
       "7. 'AdaBoost'\n",
       "8. 'Naive_Bayes'\n",
       "9. 'QDA'\n",
       "10. 'IRT_cat'\n",
       "\n",
       "\n"
      ],
      "text/plain": [
       " [1] \"process_6\"      \"process_2\"      \"IRT_difficulty\" \"KNN\"           \n",
       " [5] \"RBF_SVM\"        \"Rand_Forest\"    \"AdaBoost\"       \"Naive_Bayes\"   \n",
       " [9] \"QDA\"            \"IRT_cat\"       "
      ]
     },
     "metadata": {},
     "output_type": "display_data"
    },
    {
     "data": {
      "text/plain": [
       "      process_6       process_2   IRT_difficulty         KNN        \n",
       " undefined :50   undefined :  4   Min.   :-2.0000   Min.   :0.0000  \n",
       " Recordar  :12   Retener   : 12   1st Qu.:-0.2010   1st Qu.:0.5000  \n",
       " Comprender:42   Transferir:115   Median : 0.4050   Median :0.7670  \n",
       " Aplicar   : 3                    Mean   : 0.4102   Mean   :0.7214  \n",
       " Analizar  :17                    3rd Qu.: 1.0000   3rd Qu.:1.0000  \n",
       " Evaluar   : 4                    Max.   : 3.0000   Max.   :1.0000  \n",
       " Crear     : 3                                                      \n",
       "    RBF_SVM        Rand_Forest        AdaBoost       Naive_Bayes    \n",
       " Min.   :0.0000   Min.   :0.0000   Min.   :0.0000   Min.   :0.0000  \n",
       " 1st Qu.:0.5000   1st Qu.:0.3330   1st Qu.:0.3665   1st Qu.:0.3000  \n",
       " Median :0.7330   Median :0.6430   Median :0.6670   Median :0.5000  \n",
       " Mean   :0.6971   Mean   :0.5293   Mean   :0.6421   Mean   :0.4913  \n",
       " 3rd Qu.:1.0000   3rd Qu.:0.8835   3rd Qu.:1.0000   3rd Qu.:0.7000  \n",
       " Max.   :1.0000   Max.   :1.0000   Max.   :1.0000   Max.   :1.0000  \n",
       "                                                                    \n",
       "      QDA               IRT_cat  \n",
       " Min.   :0.0000   Fácil     :11  \n",
       " 1st Qu.:0.3330   Balanceado:83  \n",
       " Median :0.6430   Difícil   :37  \n",
       " Mean   :0.5942                  \n",
       " 3rd Qu.:0.8120                  \n",
       " Max.   :1.0000                  \n",
       "                                 "
      ]
     },
     "metadata": {},
     "output_type": "display_data"
    }
   ],
   "source": [
    "data$process_6=factor(data$process_6, levels=c(\"undefined\",\"Recordar\",\"Comprender\",\"Aplicar\",\"Analizar\",\"Evaluar\",\"Crear\"))\n",
    "data$process_2=factor(data$process_2, levels=c(\"undefined\",\"Retener\",\"Transferir\"))\n",
    "\n",
    "data_6$process_6=factor(data_6$process_6, levels=c(\"Recordar\",\"Comprender\",\"Aplicar\",\"Analizar\",\"Evaluar\",\"Crear\"))\n",
    "data_2$process_2=factor(data_2$process_2, levels=c(\"Retener\",\"Transferir\"))\n",
    "\n",
    "colnames(data)\n",
    "summary(data)"
   ]
  },
  {
   "cell_type": "code",
   "execution_count": 7,
   "metadata": {},
   "outputs": [
    {
     "name": "stderr",
     "output_type": "stream",
     "text": [
      "Using  as id variables\n"
     ]
    }
   ],
   "source": [
    "data_clasifs=data[,c(\"KNN\",\"RBF_SVM\",\"Rand_Forest\",\"AdaBoost\",\"Naive_Bayes\",\"QDA\")]\n",
    "data_clasifs_melt=melt(data_clasifs)\n",
    "colnames(data_clasifs_melt)=c(\"Clasificador\",\"Desempeño\")\n",
    "data_clasifs_melt$Clasificador=factor(data_clasifs_melt$Clasificador, levels=c(\"KNN\",\"RBF_SVM\",\"Rand_Forest\",\"AdaBoost\",\"Naive_Bayes\",\"QDA\"))\n"
   ]
  },
  {
   "cell_type": "code",
   "execution_count": 8,
   "metadata": {},
   "outputs": [],
   "source": [
    "dat_AOV_2=melt(data_2,\n",
    "               id.vars = c(\"process_2\",\"IRT_difficulty\",\"IRT_cat\"),\n",
    "               measure.vars = c(\"KNN\",\"RBF_SVM\",\"Rand_Forest\",\"AdaBoost\",\"Naive_Bayes\",\"QDA\"))\n",
    "colnames(dat_AOV_2)=c(\"process_2\",\"IRT_difficulty\",\"IRT_cat\",\"Clasificador\",\"Desempeño\")\n",
    "dat_AOV_2$Clasificador=factor(dat_AOV_2$Clasificador, levels=c(\"KNN\",\"RBF_SVM\",\"Rand_Forest\",\"AdaBoost\",\"Naive_Bayes\",\"QDA\"))"
   ]
  },
  {
   "cell_type": "code",
   "execution_count": 9,
   "metadata": {},
   "outputs": [],
   "source": [
    "dat_AOV_6=melt(data_6,\n",
    "               id.vars = c(\"process_6\",\"IRT_difficulty\",\"IRT_cat\"),\n",
    "               measure.vars = c(\"KNN\",\"RBF_SVM\",\"Rand_Forest\",\"AdaBoost\",\"Naive_Bayes\",\"QDA\"))\n",
    "colnames(dat_AOV_6)=c(\"process_6\",\"IRT_difficulty\",\"IRT_cat\",\"Clasificador\",\"Desempeño\")\n",
    "dat_AOV_6$Clasificador=factor(dat_AOV_6$Clasificador, levels=c(\"KNN\",\"RBF_SVM\",\"Rand_Forest\",\"AdaBoost\",\"Naive_Bayes\",\"QDA\"))"
   ]
  },
  {
   "cell_type": "markdown",
   "metadata": {},
   "source": [
    "# Explore Data"
   ]
  },
  {
   "cell_type": "code",
   "execution_count": 10,
   "metadata": {},
   "outputs": [
    {
     "name": "stderr",
     "output_type": "stream",
     "text": [
      "Warning message in grid.Call(C_stringMetric, as.graphicsAnnot(x$label)):\n",
      "\"font family not found in Windows font database\"Warning message in grid.Call(C_stringMetric, as.graphicsAnnot(x$label)):\n",
      "\"font family not found in Windows font database\"Warning message in grid.Call(C_stringMetric, as.graphicsAnnot(x$label)):\n",
      "\"font family not found in Windows font database\"Warning message in grid.Call(C_textBounds, as.graphicsAnnot(x$label), x$x, x$y, :\n",
      "\"font family not found in Windows font database\"Warning message in grid.Call(C_textBounds, as.graphicsAnnot(x$label), x$x, x$y, :\n",
      "\"font family not found in Windows font database\"Warning message in grid.Call(C_textBounds, as.graphicsAnnot(x$label), x$x, x$y, :\n",
      "\"font family not found in Windows font database\"Warning message in grid.Call(C_textBounds, as.graphicsAnnot(x$label), x$x, x$y, :\n",
      "\"font family not found in Windows font database\"Warning message in grid.Call(C_textBounds, as.graphicsAnnot(x$label), x$x, x$y, :\n",
      "\"font family not found in Windows font database\"Warning message in grid.Call(C_textBounds, as.graphicsAnnot(x$label), x$x, x$y, :\n",
      "\"font family not found in Windows font database\"Warning message in grid.Call(C_textBounds, as.graphicsAnnot(x$label), x$x, x$y, :\n",
      "\"font family not found in Windows font database\"Warning message in grid.Call(C_textBounds, as.graphicsAnnot(x$label), x$x, x$y, :\n",
      "\"font family not found in Windows font database\"Warning message in grid.Call(C_textBounds, as.graphicsAnnot(x$label), x$x, x$y, :\n",
      "\"font family not found in Windows font database\"Warning message in grid.Call(C_textBounds, as.graphicsAnnot(x$label), x$x, x$y, :\n",
      "\"font family not found in Windows font database\"Warning message in grid.Call.graphics(C_text, as.graphicsAnnot(x$label), x$x, x$y, :\n",
      "\"font family not found in Windows font database\"Warning message in grid.Call(C_textBounds, as.graphicsAnnot(x$label), x$x, x$y, :\n",
      "\"font family not found in Windows font database\""
     ]
    },
    {
     "data": {
      "image/png": "[encoded data removed]",
      "text/plain": [
       "plot without title"
      ]
     },
     "metadata": {},
     "output_type": "display_data"
    }
   ],
   "source": [
    "# sample size\n",
    "#sample_size = data_clasifs_melt %>% group_by(Clasificador) %>% summarize(num=n())\n",
    "# Plot\n",
    "data_clasifs_melt %>%\n",
    "#  left_join(sample_size) %>%\n",
    "#  mutate(myaxis = paste0(Clasificador, \"\\n\", \"n=\", num)) %>%\n",
    "  ggplot( aes(x=Clasificador, y=Desempeño)) +\n",
    "    geom_violin(width=1, fill=\"gray65\") + #width=1.4\n",
    "    geom_boxplot(width=.2, color=\"gray25\", alpha=0.5, fill=\"gray90\") +\n",
    "    theme_ipsum() +\n",
    "    theme(\n",
    "      legend.position=\"none\",\n",
    "      plot.title = element_text(size=11)\n",
    "    ) +\n",
    "    ggtitle(\"Distribuciones del desempeño de los algoritmos\") +\n",
    "    xlab(\"\")+\n",
    "    ylab(\"Desempeño\")\n",
    "#ggsave(filename = \"f1_clasifs.jpeg\",device=\"jpeg\", width =11, height = 6, units = \"in\")"
   ]
  },
  {
   "cell_type": "code",
   "execution_count": null,
   "metadata": {},
   "outputs": [],
   "source": []
  },
  {
   "cell_type": "code",
   "execution_count": null,
   "metadata": {},
   "outputs": [],
   "source": []
  },
  {
   "cell_type": "code",
   "execution_count": null,
   "metadata": {},
   "outputs": [],
   "source": []
  },
  {
   "cell_type": "markdown",
   "metadata": {},
   "source": [
    "# MANOVA\n",
    "[Doc Guía](https://www.r-bloggers.com/multiple-analysis-of-variance-manova/)"
   ]
  },
  {
   "cell_type": "code",
   "execution_count": 11,
   "metadata": {},
   "outputs": [
    {
     "data": {
      "text/plain": [
       "                   Df   Pillai approx F num Df den Df   Pr(>F)   \n",
       "process_2           1 0.026071  0.51753      6    116 0.794052   \n",
       "IRT_cat             2 0.225543  2.47856     12    234 0.004534 **\n",
       "process_2:IRT_cat   2 0.075317  0.76308     12    234 0.688114   \n",
       "Residuals         121                                            \n",
       "---\n",
       "Signif. codes:  0 '***' 0.001 '**' 0.01 '*' 0.05 '.' 0.1 ' ' 1"
      ]
     },
     "metadata": {},
     "output_type": "display_data"
    }
   ],
   "source": [
    "process_2_maov <- manova(cbind(KNN,RBF_SVM,Rand_Forest,AdaBoost,Naive_Bayes,QDA) ~ process_2 * IRT_cat, data=data_2)\n",
    "summary(process_2_maov)"
   ]
  },
  {
   "cell_type": "code",
   "execution_count": 12,
   "metadata": {},
   "outputs": [
    {
     "data": {
      "image/png": "[encoded data removed]",
      "text/plain": [
       "plot without title"
      ]
     },
     "metadata": {},
     "output_type": "display_data"
    }
   ],
   "source": [
    "plot.design(cbind(KNN,RBF_SVM,Rand_Forest,AdaBoost,Naive_Bayes,QDA) ~ process_2 * IRT_cat, data=data_2)#,ylim=c(.45,.8))"
   ]
  },
  {
   "cell_type": "code",
   "execution_count": 13,
   "metadata": {},
   "outputs": [
    {
     "data": {
      "text/plain": [
       "                  Df  Pillai approx F num Df den Df  Pr(>F)  \n",
       "process_6          5 0.24997  0.57888     30    330 0.96416  \n",
       "IRT_cat            2 0.32943  2.07056     12    126 0.02336 *\n",
       "process_6:IRT_cat  6 0.44465  0.89377     36    402 0.64793  \n",
       "Residuals         67                                         \n",
       "---\n",
       "Signif. codes:  0 '***' 0.001 '**' 0.01 '*' 0.05 '.' 0.1 ' ' 1"
      ]
     },
     "metadata": {},
     "output_type": "display_data"
    }
   ],
   "source": [
    "process_6_maov <- manova(cbind(KNN,RBF_SVM,Rand_Forest,AdaBoost,Naive_Bayes,QDA) ~ process_6 * IRT_cat, data=data_6)\n",
    "summary(process_6_maov)"
   ]
  },
  {
   "cell_type": "code",
   "execution_count": 14,
   "metadata": {},
   "outputs": [
    {
     "data": {
      "image/png": "[encoded data removed]",
      "text/plain": [
       "plot without title"
      ]
     },
     "metadata": {},
     "output_type": "display_data"
    }
   ],
   "source": [
    "plot.design(cbind(KNN,RBF_SVM,Rand_Forest,AdaBoost,Naive_Bayes,QDA) ~ process_6 * IRT_cat, data=data_6)#,ylim=c(.45,.8))"
   ]
  },
  {
   "cell_type": "markdown",
   "metadata": {},
   "source": [
    "# ANOVAs"
   ]
  },
  {
   "cell_type": "code",
   "execution_count": 15,
   "metadata": {},
   "outputs": [
    {
     "data": {
      "text/html": [
       "<table>\n",
       "<thead><tr><th></th><th scope=col>Df</th><th scope=col>F value</th><th scope=col>Pr(&gt;F)</th></tr></thead>\n",
       "<tbody>\n",
       "\t<tr><th scope=row>group</th><td> 35      </td><td>0.9327116</td><td>0.5819538</td></tr>\n",
       "\t<tr><th scope=row> </th><td>726      </td><td>       NA</td><td>       NA</td></tr>\n",
       "</tbody>\n",
       "</table>\n"
      ],
      "text/latex": [
       "\\begin{tabular}{r|lll}\n",
       "  & Df & F value & Pr(>F)\\\\\n",
       "\\hline\n",
       "\tgroup &  35       & 0.9327116 & 0.5819538\\\\\n",
       "\t  & 726       &        NA &        NA\\\\\n",
       "\\end{tabular}\n"
      ],
      "text/markdown": [
       "\n",
       "| <!--/--> | Df | F value | Pr(>F) |\n",
       "|---|---|---|---|\n",
       "| group |  35       | 0.9327116 | 0.5819538 |\n",
       "|   | 726       |        NA |        NA |\n",
       "\n"
      ],
      "text/plain": [
       "      Df  F value   Pr(>F)   \n",
       "group  35 0.9327116 0.5819538\n",
       "      726        NA        NA"
      ]
     },
     "metadata": {},
     "output_type": "display_data"
    },
    {
     "data": {
      "text/plain": [
       "                                Df Sum Sq Mean Sq F value          Pr(>F)    \n",
       "Clasificador                     5   5.52  1.1037  11.542 0.0000000000962 ***\n",
       "process_2                        1   0.29  0.2885   3.016         0.08285 .  \n",
       "IRT_cat                          2   1.28  0.6420   6.713         0.00129 ** \n",
       "Clasificador:process_2           5   0.13  0.0257   0.269         0.93022    \n",
       "Clasificador:IRT_cat            10   0.89  0.0888   0.929         0.50585    \n",
       "process_2:IRT_cat                2   0.50  0.2483   2.597         0.07520 .  \n",
       "Clasificador:process_2:IRT_cat  10   0.31  0.0314   0.329         0.97353    \n",
       "Residuals                      726  69.43  0.0956                            \n",
       "---\n",
       "Signif. codes:  0 '***' 0.001 '**' 0.01 '*' 0.05 '.' 0.1 ' ' 1"
      ]
     },
     "metadata": {},
     "output_type": "display_data"
    },
    {
     "data": {
      "text/plain": [
       "  Tukey multiple comparisons of means\n",
       "    95% family-wise confidence level\n",
       "\n",
       "Fit: aov(formula = Desempeño ~ Clasificador * process_2 * IRT_cat, data = dat_AOV_2)\n",
       "\n",
       "$IRT_cat\n",
       "                          diff         lwr          upr     p adj\n",
       "Balanceado-Fácil   -0.14453852 -0.23974188 -0.049335170 0.0011252\n",
       "Difícil-Fácil      -0.10613281 -0.20897812 -0.003287493 0.0412784\n",
       "Difícil-Balanceado  0.03840572 -0.02207217  0.098883612 0.2956255\n",
       "\n",
       "$process_2\n",
       "                         diff          lwr       upr    p adj\n",
       "Transferir-Retener 0.06651643 -0.008672478 0.1417053 0.082848\n"
      ]
     },
     "metadata": {},
     "output_type": "display_data"
    }
   ],
   "source": [
    "leveneTest(Desempeño ~ Clasificador * process_2 * IRT_cat, data = dat_AOV_2)\n",
    "process_2_aov_3f <- aov(Desempeño ~ Clasificador * process_2 * IRT_cat, data = dat_AOV_2)\n",
    "summary(process_2_aov_3f)\n",
    "# drop1(process_2_aov_3f,~.,test=\"F\") # type III SS and F Tests ### Resultados tipo SPSS ## https://www.statmethods.net/stats/anova.html\n",
    "TukeyHSD(process_2_aov_3f,which =c(\"IRT_cat\",\"process_2\"))"
   ]
  },
  {
   "cell_type": "code",
   "execution_count": 16,
   "metadata": {},
   "outputs": [
    {
     "name": "stderr",
     "output_type": "stream",
     "text": [
      "Warning message:\n",
      "\"not plotting observations with leverage one:\n",
      "  115, 242, 369, 496, 623, 750\"Warning message:\n",
      "\"not plotting observations with leverage one:\n",
      "  115, 242, 369, 496, 623, 750\""
     ]
    },
    {
     "data": {
      "image/png": "[encoded data removed]",
      "text/plain": [
       "Plot with title \"\""
      ]
     },
     "metadata": {},
     "output_type": "display_data"
    },
    {
     "data": {
      "image/png": "[encoded data removed]",
      "text/plain": [
       "plot without title"
      ]
     },
     "metadata": {},
     "output_type": "display_data"
    }
   ],
   "source": [
    "layout(matrix(c(1,2,3,4),2,2)) # optional layout\n",
    "plot(process_2_aov_3f) # diagnostic plots\n",
    "par(mfrow=c(1,1))\n",
    "plot.design(Desempeño~ ., data = dat_AOV_2[c(\"process_2\",\"IRT_cat\",\"Clasificador\",\"Desempeño\")],ylim=c(.45,.8))"
   ]
  },
  {
   "cell_type": "code",
   "execution_count": 17,
   "metadata": {},
   "outputs": [
    {
     "data": {
      "text/html": [
       "<table>\n",
       "<thead><tr><th></th><th scope=col>Df</th><th scope=col>F value</th><th scope=col>Pr(&gt;F)</th></tr></thead>\n",
       "<tbody>\n",
       "\t<tr><th scope=row>group</th><td> 83      </td><td>1.104976 </td><td>0.2648485</td></tr>\n",
       "\t<tr><th scope=row> </th><td>402      </td><td>      NA </td><td>       NA</td></tr>\n",
       "</tbody>\n",
       "</table>\n"
      ],
      "text/latex": [
       "\\begin{tabular}{r|lll}\n",
       "  & Df & F value & Pr(>F)\\\\\n",
       "\\hline\n",
       "\tgroup &  83       & 1.104976  & 0.2648485\\\\\n",
       "\t  & 402       &       NA  &        NA\\\\\n",
       "\\end{tabular}\n"
      ],
      "text/markdown": [
       "\n",
       "| <!--/--> | Df | F value | Pr(>F) |\n",
       "|---|---|---|---|\n",
       "| group |  83       | 1.104976  | 0.2648485 |\n",
       "|   | 402       |       NA  |        NA |\n",
       "\n"
      ],
      "text/plain": [
       "      Df  F value  Pr(>F)   \n",
       "group  83 1.104976 0.2648485\n",
       "      402       NA        NA"
      ]
     },
     "metadata": {},
     "output_type": "display_data"
    },
    {
     "data": {
      "text/plain": [
       "                                Df Sum Sq Mean Sq F value     Pr(>F)    \n",
       "Clasificador                     5   3.21  0.6428   6.509 0.00000777 ***\n",
       "process_6                        5   0.59  0.1190   1.205   0.305914    \n",
       "IRT_cat                          2   1.56  0.7790   7.889   0.000436 ***\n",
       "Clasificador:process_6          25   1.35  0.0539   0.545   0.965276    \n",
       "Clasificador:IRT_cat            10   0.73  0.0726   0.736   0.690932    \n",
       "process_6:IRT_cat                6   1.84  0.3065   3.104   0.005541 ** \n",
       "Clasificador:process_6:IRT_cat  30   1.34  0.0447   0.453   0.994920    \n",
       "Residuals                      402  39.70  0.0987                       \n",
       "---\n",
       "Signif. codes:  0 '***' 0.001 '**' 0.01 '*' 0.05 '.' 0.1 ' ' 1"
      ]
     },
     "metadata": {},
     "output_type": "display_data"
    },
    {
     "data": {
      "text/plain": [
       "  Tukey multiple comparisons of means\n",
       "    95% family-wise confidence level\n",
       "\n",
       "Fit: aov(formula = Desempeño ~ Clasificador * process_6 * IRT_cat, data = dat_AOV_6)\n",
       "\n",
       "$IRT_cat\n",
       "                          diff         lwr         upr     p adj\n",
       "Balanceado-Fácil   -0.17052420 -0.27979807 -0.06125033 0.0007997\n",
       "Difícil-Fácil      -0.10799084 -0.22740197  0.01142030 0.0856141\n",
       "Difícil-Balanceado  0.06253336 -0.01467538  0.13974211 0.1384746\n",
       "\n",
       "$process_6\n",
       "                            diff         lwr        upr     p adj\n",
       "Comprender-Recordar  0.092007937 -0.02823577 0.21225164 0.2441457\n",
       "Aplicar-Recordar     0.123722222 -0.11340157 0.36084601 0.6682937\n",
       "Analizar-Recordar    0.056094771 -0.08240998 0.19459952 0.8556053\n",
       "Evaluar-Recordar     0.115138889 -0.09695108 0.32722885 0.6290262\n",
       "Crear-Recordar       0.060833333 -0.17629046 0.29795712 0.9775433\n",
       "Aplicar-Comprender   0.031714286 -0.18781968 0.25124826 0.9984442\n",
       "Analizar-Comprender -0.035913165 -0.14151164 0.06968531 0.9260289\n",
       "Evaluar-Comprender   0.023130952 -0.16909190 0.21535381 0.9993576\n",
       "Crear-Comprender    -0.031174603 -0.25070857 0.18835937 0.9985675\n",
       "Analizar-Aplicar    -0.067627451 -0.29767132 0.16241641 0.9594790\n",
       "Evaluar-Aplicar     -0.008583333 -0.28915198 0.27198532 0.9999993\n",
       "Crear-Aplicar       -0.062888889 -0.36282939 0.23705161 0.9909731\n",
       "Evaluar-Analizar     0.059044118 -0.14509956 0.26318780 0.9621918\n",
       "Crear-Analizar       0.004738562 -0.22530530 0.23478243 0.9999999\n",
       "Crear-Evaluar       -0.054305556 -0.33487421 0.22626309 0.9937688\n"
      ]
     },
     "metadata": {},
     "output_type": "display_data"
    }
   ],
   "source": [
    "leveneTest(Desempeño ~ Clasificador * process_6 * IRT_cat, data = dat_AOV_6)\n",
    "process_6_aov_3f <- aov(Desempeño ~ Clasificador * process_6 * IRT_cat, data = dat_AOV_6)\n",
    "summary(process_6_aov_3f)\n",
    "# drop1(process_6_aov_3f,~.,test=\"F\") # type III SS and F Tests ### Resultados tipo SPSS ## https://www.statmethods.net/stats/anova.html\n",
    "TukeyHSD(process_6_aov_3f ,which =c(\"IRT_cat\",\"process_6\"))"
   ]
  },
  {
   "cell_type": "code",
   "execution_count": 18,
   "metadata": {},
   "outputs": [
    {
     "name": "stderr",
     "output_type": "stream",
     "text": [
      "Warning message:\n",
      "\"not plotting observations with leverage one:\n",
      "  73, 78, 154, 159, 235, 240, 316, 321, 397, 402, 478, 483\"Warning message:\n",
      "\"not plotting observations with leverage one:\n",
      "  73, 78, 154, 159, 235, 240, 316, 321, 397, 402, 478, 483\""
     ]
    },
    {
     "data": {
      "image/png": "[encoded data removed]",
      "text/plain": [
       "Plot with title \"\""
      ]
     },
     "metadata": {},
     "output_type": "display_data"
    },
    {
     "data": {
      "image/png": "[encoded data removed]",
      "text/plain": [
       "plot without title"
      ]
     },
     "metadata": {},
     "output_type": "display_data"
    }
   ],
   "source": [
    "layout(matrix(c(1,2,3,4),2,2)) # optional layout\n",
    "plot(process_6_aov_3f) # diagnostic plots\n",
    "par(mfrow=c(1,1))\n",
    "plot.design(Desempeño~ ., data = dat_AOV_6[c(\"process_6\",\"IRT_cat\",\"Clasificador\",\"Desempeño\")], ylim=c(.45,.8))\n"
   ]
  },
  {
   "cell_type": "markdown",
   "metadata": {},
   "source": [
    "# t-test"
   ]
  },
  {
   "cell_type": "code",
   "execution_count": 19,
   "metadata": {},
   "outputs": [
    {
     "data": {
      "text/plain": [
       "\n",
       "\tTwo Sample t-test\n",
       "\n",
       "data:  IRT_difficulty by process_2\n",
       "t = 0.85981, df = 125, p-value = 0.3915\n",
       "alternative hypothesis: true difference in means is not equal to 0\n",
       "95 percent confidence interval:\n",
       " -0.3317452  0.8414089\n",
       "sample estimates:\n",
       "   mean in group Retener mean in group Transferir \n",
       "               0.6116667                0.3568348 \n"
      ]
     },
     "metadata": {},
     "output_type": "display_data"
    },
    {
     "data": {
      "text/plain": [
       "\n",
       "\tTwo Sample t-test\n",
       "\n",
       "data:  KNN by process_2\n",
       "t = -1.2154, df = 125, p-value = 0.2265\n",
       "alternative hypothesis: true difference in means is not equal to 0\n",
       "95 percent confidence interval:\n",
       " -0.28352333  0.06778275\n",
       "sample estimates:\n",
       "   mean in group Retener mean in group Transferir \n",
       "               0.6294167                0.7372870 \n"
      ]
     },
     "metadata": {},
     "output_type": "display_data"
    },
    {
     "data": {
      "text/plain": [
       "\n",
       "\tTwo Sample t-test\n",
       "\n",
       "data:  RBF_SVM by process_2\n",
       "t = -1.0635, df = 125, p-value = 0.2896\n",
       "alternative hypothesis: true difference in means is not equal to 0\n",
       "95 percent confidence interval:\n",
       " -0.28871315  0.08688127\n",
       "sample estimates:\n",
       "   mean in group Retener mean in group Transferir \n",
       "               0.6106667                0.7115826 \n"
      ]
     },
     "metadata": {},
     "output_type": "display_data"
    },
    {
     "data": {
      "text/plain": [
       "\n",
       "\tTwo Sample t-test\n",
       "\n",
       "data:  Rand_Forest by process_2\n",
       "t = 0.20646, df = 125, p-value = 0.8368\n",
       "alternative hypothesis: true difference in means is not equal to 0\n",
       "95 percent confidence interval:\n",
       " -0.1845196  0.2275022\n",
       "sample estimates:\n",
       "   mean in group Retener mean in group Transferir \n",
       "               0.5515000                0.5300087 \n"
      ]
     },
     "metadata": {},
     "output_type": "display_data"
    },
    {
     "data": {
      "text/plain": [
       "\n",
       "\tTwo Sample t-test\n",
       "\n",
       "data:  AdaBoost by process_2\n",
       "t = -0.51775, df = 125, p-value = 0.6055\n",
       "alternative hypothesis: true difference in means is not equal to 0\n",
       "95 percent confidence interval:\n",
       " -0.2303562  0.1348229\n",
       "sample estimates:\n",
       "   mean in group Retener mean in group Transferir \n",
       "               0.5988333                0.6466000 \n"
      ]
     },
     "metadata": {},
     "output_type": "display_data"
    },
    {
     "data": {
      "text/plain": [
       "\n",
       "\tTwo Sample t-test\n",
       "\n",
       "data:  Naive_Bayes by process_2\n",
       "t = -0.72423, df = 125, p-value = 0.4703\n",
       "alternative hypothesis: true difference in means is not equal to 0\n",
       "95 percent confidence interval:\n",
       " -0.2565368  0.1190846\n",
       "sample estimates:\n",
       "   mean in group Retener mean in group Transferir \n",
       "               0.4285000                0.4972261 \n"
      ]
     },
     "metadata": {},
     "output_type": "display_data"
    },
    {
     "data": {
      "text/plain": [
       "\n",
       "\tTwo Sample t-test\n",
       "\n",
       "data:  QDA by process_2\n",
       "t = -1.0605, df = 125, p-value = 0.291\n",
       "alternative hypothesis: true difference in means is not equal to 0\n",
       "95 percent confidence interval:\n",
       " -0.27318262  0.08256088\n",
       "sample estimates:\n",
       "   mean in group Retener mean in group Transferir \n",
       "               0.5127500                0.6080609 \n"
      ]
     },
     "metadata": {},
     "output_type": "display_data"
    }
   ],
   "source": [
    "t.test(IRT_difficulty ~ process_2, data=data_2 ,var.equal = TRUE)\n",
    "t.test(KNN ~ process_2, data=data_2,var.equal = TRUE)\n",
    "t.test(RBF_SVM ~ process_2, data=data_2,var.equal = TRUE)\n",
    "t.test(Rand_Forest ~ process_2, data=data_2,var.equal = TRUE)\n",
    "t.test(AdaBoost ~ process_2, data=data_2,var.equal = TRUE)\n",
    "t.test(Naive_Bayes ~ process_2, data=data_2,var.equal = TRUE)\n",
    "t.test(QDA ~ process_2, data=data_2,var.equal = TRUE)"
   ]
  },
  {
   "cell_type": "markdown",
   "metadata": {},
   "source": [
    "# Corr Test"
   ]
  },
  {
   "cell_type": "code",
   "execution_count": 20,
   "metadata": {},
   "outputs": [
    {
     "data": {
      "text/plain": [
       "\n",
       "\tPearson's product-moment correlation\n",
       "\n",
       "data:  data$IRT_difficulty and data$KNN\n",
       "t = -0.21171, df = 129, p-value = 0.8327\n",
       "alternative hypothesis: true correlation is not equal to 0\n",
       "95 percent confidence interval:\n",
       " -0.1895566  0.1533788\n",
       "sample estimates:\n",
       "        cor \n",
       "-0.01863703 \n"
      ]
     },
     "metadata": {},
     "output_type": "display_data"
    },
    {
     "data": {
      "text/plain": [
       "\n",
       "\tPearson's product-moment correlation\n",
       "\n",
       "data:  data$IRT_difficulty and data$RBF_SVM\n",
       "t = -2.2204, df = 129, p-value = 0.02814\n",
       "alternative hypothesis: true correlation is not equal to 0\n",
       "95 percent confidence interval:\n",
       " -0.35180869 -0.02102738\n",
       "sample estimates:\n",
       "       cor \n",
       "-0.1918609 \n"
      ]
     },
     "metadata": {},
     "output_type": "display_data"
    },
    {
     "data": {
      "text/plain": [
       "\n",
       "\tPearson's product-moment correlation\n",
       "\n",
       "data:  data$IRT_difficulty and data$Rand_Forest\n",
       "t = 1.5888, df = 129, p-value = 0.1146\n",
       "alternative hypothesis: true correlation is not equal to 0\n",
       "95 percent confidence interval:\n",
       " -0.03379468  0.30286269\n",
       "sample estimates:\n",
       "      cor \n",
       "0.1385338 \n"
      ]
     },
     "metadata": {},
     "output_type": "display_data"
    },
    {
     "data": {
      "text/plain": [
       "\n",
       "\tPearson's product-moment correlation\n",
       "\n",
       "data:  data$IRT_difficulty and data$AdaBoost\n",
       "t = -0.22314, df = 129, p-value = 0.8238\n",
       "alternative hypothesis: true correlation is not equal to 0\n",
       "95 percent confidence interval:\n",
       " -0.1905262  0.1523963\n",
       "sample estimates:\n",
       "        cor \n",
       "-0.01964261 \n"
      ]
     },
     "metadata": {},
     "output_type": "display_data"
    },
    {
     "data": {
      "text/plain": [
       "\n",
       "\tPearson's product-moment correlation\n",
       "\n",
       "data:  data$IRT_difficulty and data$Naive_Bayes\n",
       "t = -0.43806, df = 129, p-value = 0.6621\n",
       "alternative hypothesis: true correlation is not equal to 0\n",
       "95 percent confidence interval:\n",
       " -0.2086866  0.1338698\n",
       "sample estimates:\n",
       "        cor \n",
       "-0.03854066 \n"
      ]
     },
     "metadata": {},
     "output_type": "display_data"
    },
    {
     "data": {
      "text/plain": [
       "\n",
       "\tPearson's product-moment correlation\n",
       "\n",
       "data:  data$IRT_difficulty and data$QDA\n",
       "t = -0.28262, df = 129, p-value = 0.7779\n",
       "alternative hypothesis: true correlation is not equal to 0\n",
       "95 percent confidence interval:\n",
       " -0.1955663  0.1472787\n",
       "sample estimates:\n",
       "        cor \n",
       "-0.02487522 \n"
      ]
     },
     "metadata": {},
     "output_type": "display_data"
    }
   ],
   "source": [
    "cor.test(data$IRT_difficulty, data$KNN)\n",
    "cor.test(data$IRT_difficulty, data$RBF_SVM)\n",
    "cor.test(data$IRT_difficulty, data$Rand_Forest)\n",
    "cor.test(data$IRT_difficulty, data$AdaBoost)\n",
    "cor.test(data$IRT_difficulty, data$Naive_Bayes)\n",
    "cor.test(data$IRT_difficulty, data$QDA)"
   ]
  }
 ],
 "metadata": {
  "kernelspec": {
   "display_name": "R",
   "language": "R",
   "name": "ir"
  },
  "language_info": {
   "codemirror_mode": "r",
   "file_extension": ".r",
   "mimetype": "text/x-r-source",
   "name": "R",
   "pygments_lexer": "r",
   "version": "3.5.2"
  }
 },
 "nbformat": 4,
 "nbformat_minor": 4
}
