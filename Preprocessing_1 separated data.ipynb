{
 "cells": [
  {
   "cell_type": "code",
   "execution_count": 3,
   "metadata": {},
   "outputs": [],
   "source": [
    "import pandas as pd\n",
    "import numpy as np\n",
    "import glob\n",
    "\n",
    "import xml.etree.ElementTree as ET"
   ]
  },
  {
   "cell_type": "code",
   "execution_count": 4,
   "metadata": {},
   "outputs": [],
   "source": [
    "def dataset_xml_reader_sep(routes, dataset):\n",
    "\n",
    "    questions=[]\n",
    "    ref_answers=[]\n",
    "    stud_answers=[]\n",
    "\n",
    "    for i_dtst,path in enumerate(routes):\n",
    "        files = glob.glob(path)\n",
    "        for name in files:\n",
    "            tree = ET.parse(name)\n",
    "            root = tree.getroot()\n",
    "            dtset=dataset[i_dtst]\n",
    "            quest_id=root.attrib[\"id\"]\n",
    "            question=root[0].text\n",
    "            try:\n",
    "                qtype=root.attrib[\"qtype\"]\n",
    "            except:\n",
    "                qtype=None\n",
    "            try:\n",
    "                stype=root.attrib[\"stype\"]\n",
    "            except:\n",
    "                stype=None\n",
    "\n",
    "            grade_st=[branch.attrib[\"accuracy\"] for branch in root[2]]\n",
    "            id_st=[branch.attrib[\"id\"] for branch in root[2]]\n",
    "            answers_st=[branch.text for branch in root[2]]\n",
    "            answers_ref=[branch.text for branch in root[1]]# If there are more of 1 reference answer it will give an array of an answers. Make sure you integrate it before processing\n",
    "\n",
    "            questions.append([dtset,qtype,stype,quest_id,question])\n",
    "\n",
    "            for ith_ref_ans,ref_ans in enumerate(answers_ref):\n",
    "                ref_answers.append([quest_id,ref_ans])\n",
    "\n",
    "            for ith_ans,st_answ in enumerate(answers_st):\n",
    "                st_ans_calif=(grade_st[ith_ans]==\"correct\")*1\n",
    "                stud_answers.append([quest_id,st_answ,id_st[ith_ans],st_ans_calif])\n",
    "    return(questions,ref_answers,stud_answers)"
   ]
  },
  {
   "cell_type": "markdown",
   "metadata": {},
   "source": [
    "# Trainning Dataset"
   ]
  },
  {
   "cell_type": "code",
   "execution_count": 5,
   "metadata": {},
   "outputs": [],
   "source": [
    "routes_train=[\"dataset/training/2way/sciEntsBank/*.xml\",\"dataset/training/2way/beetle/*.xml\"]\n",
    "dataset_train=[\"TRAIN SciEntsBank\",\"TRAIN Beetle\"]"
   ]
  },
  {
   "cell_type": "code",
   "execution_count": 6,
   "metadata": {},
   "outputs": [],
   "source": [
    "train_questions, train_ref_ans, train_stud_ans = dataset_xml_reader_sep(routes_train,dataset_train)"
   ]
  },
  {
   "cell_type": "code",
   "execution_count": 13,
   "metadata": {},
   "outputs": [],
   "source": [
    "train_questions_df=pd.DataFrame(train_questions,\n",
    "                                columns=[\"dtset\",\"qtype\",\"stype\",\"quest_id\",\"question\"])"
   ]
  },
  {
   "cell_type": "code",
   "execution_count": 15,
   "metadata": {},
   "outputs": [],
   "source": [
    "train_ref_ans_df=pd.DataFrame(train_ref_ans,\n",
    "                                columns=[\"quest_id\",\"ref_ans\"])"
   ]
  },
  {
   "cell_type": "code",
   "execution_count": 17,
   "metadata": {},
   "outputs": [],
   "source": [
    "train_stud_ans_df=pd.DataFrame(train_stud_ans,\n",
    "                                columns=[\"quest_id\",\"st_answ\",\"id_st\",\"st_ans_calif\"])"
   ]
  },
  {
   "cell_type": "code",
   "execution_count": 18,
   "metadata": {},
   "outputs": [],
   "source": [
    "train_questions_df.to_csv(\"train_questions.csv\", sep=\";\")\n",
    "train_ref_ans_df.to_csv(\"train_ref_ans.csv\", sep=\";\")\n",
    "train_stud_ans_df.to_csv(\"train_stud_ans.csv\", sep=\";\")\n"
   ]
  },
  {
   "cell_type": "markdown",
   "metadata": {},
   "source": [
    "# Evaluation Dataset"
   ]
  },
  {
   "cell_type": "code",
   "execution_count": 19,
   "metadata": {},
   "outputs": [],
   "source": [
    "test_routes=[\"dataset/test/2way/sciEntsBank/test-unseen-answers/*.xml\",\n",
    "             \"dataset/test/2way/sciEntsBank/test-unseen-domains/*.xml\",\n",
    "             \"dataset/test/2way/sciEntsBank/test-unseen-questions/*.xml\",\n",
    "             \"dataset/test/2way/beetle/test-unseen-answers/*.xml\",\n",
    "             \"dataset/test/2way/beetle/test-unseen-questions/*.xml\"]\n",
    "test_datasets=[\"TEST sciEntsBank Unseen Answers\",\n",
    "               \"TEST sciEntsBank Unseen Domains\",\n",
    "               \"TEST sciEntsBank Unseen Questions\",\n",
    "               \"TEST Beetle Unseen Answers\",\n",
    "               \"TEST Beetle Unseen Questions\"]"
   ]
  },
  {
   "cell_type": "code",
   "execution_count": 21,
   "metadata": {},
   "outputs": [],
   "source": [
    "test_questions, test_ref_ans, test_stud_ans = dataset_xml_reader_sep(test_routes,test_datasets)"
   ]
  },
  {
   "cell_type": "code",
   "execution_count": 22,
   "metadata": {},
   "outputs": [],
   "source": [
    "test_questions_df=pd.DataFrame(test_questions,\n",
    "                                columns=[\"dtset\",\"qtype\",\"stype\",\"quest_id\",\"question\"])"
   ]
  },
  {
   "cell_type": "code",
   "execution_count": 23,
   "metadata": {},
   "outputs": [],
   "source": [
    "test_ref_ans_df=pd.DataFrame(test_ref_ans,\n",
    "                                columns=[\"quest_id\",\"ref_ans\"])"
   ]
  },
  {
   "cell_type": "code",
   "execution_count": 24,
   "metadata": {},
   "outputs": [],
   "source": [
    "test_stud_ans_df=pd.DataFrame(test_stud_ans,\n",
    "                                columns=[\"quest_id\",\"st_answ\",\"id_st\",\"st_ans_calif\"])"
   ]
  },
  {
   "cell_type": "code",
   "execution_count": 25,
   "metadata": {},
   "outputs": [],
   "source": [
    "test_questions_df.to_csv(\"test_questions.csv\", sep=\";\")\n",
    "test_ref_ans_df.to_csv(\"test_ref_ans.csv\", sep=\";\")\n",
    "test_stud_ans_df.to_csv(\"test_stud_ans.csv\", sep=\";\")\n"
   ]
  }
 ],
 "metadata": {
  "kernelspec": {
   "display_name": "Python 3",
   "language": "python",
   "name": "python3"
  },
  "language_info": {
   "codemirror_mode": {
    "name": "ipython",
    "version": 3
   },
   "file_extension": ".py",
   "mimetype": "text/x-python",
   "name": "python",
   "nbconvert_exporter": "python",
   "pygments_lexer": "ipython3",
   "version": "3.7.1"
  }
 },
 "nbformat": 4,
 "nbformat_minor": 2
}
