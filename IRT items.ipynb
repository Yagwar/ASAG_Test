{
 "cells": [
  {
   "cell_type": "code",
   "execution_count": 1,
   "metadata": {},
   "outputs": [
    {
     "data": {
      "text/html": [
       "'R version 3.5.2 (2018-12-20)'"
      ],
      "text/latex": [
       "'R version 3.5.2 (2018-12-20)'"
      ],
      "text/markdown": [
       "'R version 3.5.2 (2018-12-20)'"
      ],
      "text/plain": [
       "[1] \"R version 3.5.2 (2018-12-20)\""
      ]
     },
     "metadata": {},
     "output_type": "display_data"
    }
   ],
   "source": [
    "R.Version()$version.string"
   ]
  },
  {
   "cell_type": "code",
   "execution_count": 2,
   "metadata": {},
   "outputs": [
    {
     "name": "stderr",
     "output_type": "stream",
     "text": [
      "\n",
      "Attaching package: 'psych'\n",
      "\n",
      "The following object is masked from 'package:car':\n",
      "\n",
      "    logit\n",
      "\n",
      "The following object is masked from 'package:crayon':\n",
      "\n",
      "    %+%\n",
      "\n",
      "Warning message:\n",
      "\"package 'eRm' was built under R version 3.5.3\"\n",
      "Attaching package: 'eRm'\n",
      "\n",
      "The following object is masked from 'package:psych':\n",
      "\n",
      "    sim.rasch\n",
      "\n",
      "Warning message:\n",
      "\"package 'reshape2' was built under R version 3.5.3\""
     ]
    }
   ],
   "source": [
    "# install.packages(\"psych\", repos=\"https://cloud.r-project.org/\")\n",
    "library(psych)\n",
    "# install.packages(\"eRm\", repos=\"https://cloud.r-project.org/\") #https://rdrr.io/rforge/eRm/\n",
    "library(eRm)\n",
    "# install.packages(\"reshape2\", repos=\"https://cloud.r-project.org/\") #https://rdrr.io/rforge/eRm/\n",
    "library(reshape2)\n"
   ]
  },
  {
   "cell_type": "markdown",
   "metadata": {},
   "source": [
    "# Primer método"
   ]
  },
  {
   "cell_type": "code",
   "execution_count": 3,
   "metadata": {},
   "outputs": [],
   "source": [
    "# train_stud_ans=read.csv(\"train_answers_items.csv\", row.names=1)\n",
    "# str(train_stud_ans)\n",
    "\n",
    "# test_stud_ans=read.csv(\"test_answers_items.csv\", row.names=1)\n",
    "# str(test_stud_ans)"
   ]
  },
  {
   "cell_type": "code",
   "execution_count": 4,
   "metadata": {},
   "outputs": [],
   "source": [
    "# diffs_train=irt.item.diff.rasch(train_stud_ans)\n",
    "# train_desc=data.frame(describe(train_stud_ans))\n",
    "# train_desc$IRT_difficulty=diffs_train\n",
    "# #write.csv(data.frame(train_desc),\"train_desc.csv\")\n",
    "\n",
    "# diffs_test=irt.item.diff.rasch(test_stud_ans)\n",
    "# test_desc=data.frame(describe(test_stud_ans))\n",
    "# test_desc$IRT_difficulty=diffs_test\n",
    "# #write.csv(data.frame(test_desc),\"test_desc.csv\")\n",
    "\n",
    "# summary(test_desc)\n",
    "# str(test_desc)"
   ]
  },
  {
   "cell_type": "markdown",
   "metadata": {},
   "source": [
    "# Segundo método"
   ]
  },
  {
   "cell_type": "code",
   "execution_count": 3,
   "metadata": {},
   "outputs": [
    {
     "data": {
      "text/html": [
       "<ol class=list-inline>\n",
       "\t<li>8910</li>\n",
       "\t<li>5</li>\n",
       "</ol>\n"
      ],
      "text/latex": [
       "\\begin{enumerate*}\n",
       "\\item 8910\n",
       "\\item 5\n",
       "\\end{enumerate*}\n"
      ],
      "text/markdown": [
       "1. 8910\n",
       "2. 5\n",
       "\n",
       "\n"
      ],
      "text/plain": [
       "[1] 8910    5"
      ]
     },
     "metadata": {},
     "output_type": "display_data"
    },
    {
     "data": {
      "text/html": [
       "<ol class=list-inline>\n",
       "\t<li>7093</li>\n",
       "\t<li>5</li>\n",
       "</ol>\n"
      ],
      "text/latex": [
       "\\begin{enumerate*}\n",
       "\\item 7093\n",
       "\\item 5\n",
       "\\end{enumerate*}\n"
      ],
      "text/markdown": [
       "1. 7093\n",
       "2. 5\n",
       "\n",
       "\n"
      ],
      "text/plain": [
       "[1] 7093    5"
      ]
     },
     "metadata": {},
     "output_type": "display_data"
    },
    {
     "data": {
      "text/html": [
       "<table>\n",
       "<thead><tr><th></th><th scope=col>dtset</th><th scope=col>quest_id</th><th scope=col>id_st</th><th scope=col>st_ans_calif</th><th scope=col>std_code</th></tr></thead>\n",
       "<tbody>\n",
       "\t<tr><th scope=row>0</th><td>TRAIN SciEntsBank</td><td>EM_45b           </td><td>EM.45b.110.1     </td><td>0                </td><td>110.1            </td></tr>\n",
       "\t<tr><th scope=row>1</th><td>TRAIN SciEntsBank</td><td>EM_45b           </td><td>EM.45b.113.1     </td><td>1                </td><td>113.1            </td></tr>\n",
       "\t<tr><th scope=row>2</th><td>TRAIN SciEntsBank</td><td>EM_45b           </td><td>EM.45b.114.1     </td><td>1                </td><td>114.1            </td></tr>\n",
       "\t<tr><th scope=row>3</th><td>TRAIN SciEntsBank</td><td>EM_45b           </td><td>EM.45b.261.1     </td><td>0                </td><td>261.1            </td></tr>\n",
       "\t<tr><th scope=row>4</th><td>TRAIN SciEntsBank</td><td>EM_45b           </td><td>EM.45b.383.1     </td><td>0                </td><td>383.1            </td></tr>\n",
       "\t<tr><th scope=row>5</th><td>TRAIN SciEntsBank</td><td>EM_45b           </td><td>EM.45b.384.1     </td><td>1                </td><td>384.1            </td></tr>\n",
       "</tbody>\n",
       "</table>\n"
      ],
      "text/latex": [
       "\\begin{tabular}{r|lllll}\n",
       "  & dtset & quest\\_id & id\\_st & st\\_ans\\_calif & std\\_code\\\\\n",
       "\\hline\n",
       "\t0 & TRAIN SciEntsBank & EM\\_45b          & EM.45b.110.1      & 0                 & 110.1            \\\\\n",
       "\t1 & TRAIN SciEntsBank & EM\\_45b          & EM.45b.113.1      & 1                 & 113.1            \\\\\n",
       "\t2 & TRAIN SciEntsBank & EM\\_45b          & EM.45b.114.1      & 1                 & 114.1            \\\\\n",
       "\t3 & TRAIN SciEntsBank & EM\\_45b          & EM.45b.261.1      & 0                 & 261.1            \\\\\n",
       "\t4 & TRAIN SciEntsBank & EM\\_45b          & EM.45b.383.1      & 0                 & 383.1            \\\\\n",
       "\t5 & TRAIN SciEntsBank & EM\\_45b          & EM.45b.384.1      & 1                 & 384.1            \\\\\n",
       "\\end{tabular}\n"
      ],
      "text/markdown": [
       "\n",
       "| <!--/--> | dtset | quest_id | id_st | st_ans_calif | std_code |\n",
       "|---|---|---|---|---|---|\n",
       "| 0 | TRAIN SciEntsBank | EM_45b            | EM.45b.110.1      | 0                 | 110.1             |\n",
       "| 1 | TRAIN SciEntsBank | EM_45b            | EM.45b.113.1      | 1                 | 113.1             |\n",
       "| 2 | TRAIN SciEntsBank | EM_45b            | EM.45b.114.1      | 1                 | 114.1             |\n",
       "| 3 | TRAIN SciEntsBank | EM_45b            | EM.45b.261.1      | 0                 | 261.1             |\n",
       "| 4 | TRAIN SciEntsBank | EM_45b            | EM.45b.383.1      | 0                 | 383.1             |\n",
       "| 5 | TRAIN SciEntsBank | EM_45b            | EM.45b.384.1      | 1                 | 384.1             |\n",
       "\n"
      ],
      "text/plain": [
       "  dtset             quest_id id_st        st_ans_calif std_code\n",
       "0 TRAIN SciEntsBank EM_45b   EM.45b.110.1 0            110.1   \n",
       "1 TRAIN SciEntsBank EM_45b   EM.45b.113.1 1            113.1   \n",
       "2 TRAIN SciEntsBank EM_45b   EM.45b.114.1 1            114.1   \n",
       "3 TRAIN SciEntsBank EM_45b   EM.45b.261.1 0            261.1   \n",
       "4 TRAIN SciEntsBank EM_45b   EM.45b.383.1 0            383.1   \n",
       "5 TRAIN SciEntsBank EM_45b   EM.45b.384.1 1            384.1   "
      ]
     },
     "metadata": {},
     "output_type": "display_data"
    },
    {
     "data": {
      "text/html": [
       "<ol class=list-inline>\n",
       "\t<li>16003</li>\n",
       "\t<li>5</li>\n",
       "</ol>\n"
      ],
      "text/latex": [
       "\\begin{enumerate*}\n",
       "\\item 16003\n",
       "\\item 5\n",
       "\\end{enumerate*}\n"
      ],
      "text/markdown": [
       "1. 16003\n",
       "2. 5\n",
       "\n",
       "\n"
      ],
      "text/plain": [
       "[1] 16003     5"
      ]
     },
     "metadata": {},
     "output_type": "display_data"
    }
   ],
   "source": [
    "train_califs=read.csv(\"train_califs.csv\", sep=\";\",row.names=1)\n",
    "test_califs=read.csv(\"test_califs.csv\", sep=\";\",row.names=1)\n",
    "\n",
    "dim(train_califs)\n",
    "dim(test_califs)\n",
    "\n",
    "califs_complete=rbind(train_califs,test_califs)\n",
    "head(califs_complete)\n",
    "dim(califs_complete)"
   ]
  },
  {
   "cell_type": "code",
   "execution_count": 6,
   "metadata": {},
   "outputs": [],
   "source": [
    "# #https://seananderson.ca/2013/10/19/reshape/\n",
    "# #https://www.r-bloggers.com/reshape-r-package-reshape2-melt-and-cast/\n",
    "\n",
    "# train_califs_cast=dcast(train_califs, std_code~quest_id, value.var=\"st_ans_calif\")\n",
    "# rownames(train_califs_cast)=train_califs_cast$std_code\n",
    "# train_califs_cast=train_califs_cast[,2:length(train_califs_cast)]\n",
    "# head(train_califs_cast)\n",
    "# ###\n",
    "# test_califs_cast=dcast(test_califs, std_code~quest_id, value.var=\"st_ans_calif\")\n",
    "# rownames(test_califs_cast)=test_califs_cast$std_code\n",
    "# test_califs_cast=test_califs_cast[,2:length(test_califs_cast)]\n",
    "# head(test_califs_cast)\n",
    "# ###\n",
    "# dim(train_califs_cast)\n",
    "# dim(test_califs_cast)\n",
    "\n",
    "# train_califs_cast=train_califs_cast[rowSums(!is.na(train_califs_cast))>1,]\n",
    "# train_califs_cast=train_califs_cast[,colSums(!is.na(train_califs_cast))>1]\n",
    "\n",
    "# test_califs_cast=test_califs_cast[rowSums(!is.na(test_califs_cast))>1,]\n",
    "# test_califs_cast=test_califs_cast[,colSums(!is.na(test_califs_cast))>1]\n",
    "\n",
    "# dim(train_califs_cast)\n",
    "# dim(test_califs_cast)\n"
   ]
  },
  {
   "cell_type": "code",
   "execution_count": 4,
   "metadata": {},
   "outputs": [
    {
     "data": {
      "text/html": [
       "<ol class=list-inline>\n",
       "\t<li>5887</li>\n",
       "\t<li>252</li>\n",
       "</ol>\n"
      ],
      "text/latex": [
       "\\begin{enumerate*}\n",
       "\\item 5887\n",
       "\\item 252\n",
       "\\end{enumerate*}\n"
      ],
      "text/markdown": [
       "1. 5887\n",
       "2. 252\n",
       "\n",
       "\n"
      ],
      "text/plain": [
       "[1] 5887  252"
      ]
     },
     "metadata": {},
     "output_type": "display_data"
    },
    {
     "data": {
      "text/html": [
       "<ol class=list-inline>\n",
       "\t<li>565</li>\n",
       "\t<li>195</li>\n",
       "</ol>\n"
      ],
      "text/latex": [
       "\\begin{enumerate*}\n",
       "\\item 565\n",
       "\\item 195\n",
       "\\end{enumerate*}\n"
      ],
      "text/markdown": [
       "1. 565\n",
       "2. 195\n",
       "\n",
       "\n"
      ],
      "text/plain": [
       "[1] 565 195"
      ]
     },
     "metadata": {},
     "output_type": "display_data"
    },
    {
     "data": {
      "text/html": [
       "<table>\n",
       "<thead><tr><th></th><th scope=col>EM_16b</th><th scope=col>EM_21a</th><th scope=col>EM_21b</th><th scope=col>EM_26</th><th scope=col>EM_27b</th><th scope=col>EM_35</th><th scope=col>EM_43b</th><th scope=col>EM_45b</th><th scope=col>EM_45c</th><th scope=col>EM_46</th><th scope=col>...</th><th scope=col>WA_29</th><th scope=col>WA_30b</th><th scope=col>WA_31</th><th scope=col>WA_32b</th><th scope=col>WA_33b</th><th scope=col>WA_50b</th><th scope=col>WA_51</th><th scope=col>WA_52a</th><th scope=col>WA_52b</th><th scope=col>WA_7b</th></tr></thead>\n",
       "<tbody>\n",
       "\t<tr><th scope=row>101.1</th><td>NA </td><td>NA </td><td> 1 </td><td>NA </td><td>NA </td><td>NA </td><td>NA </td><td>NA </td><td>NA </td><td>NA </td><td>...</td><td>NA </td><td>NA </td><td>NA </td><td>NA </td><td>NA </td><td>NA </td><td>NA </td><td>NA </td><td>NA </td><td>NA </td></tr>\n",
       "\t<tr><th scope=row>102.1</th><td>NA </td><td>NA </td><td>NA </td><td>NA </td><td>NA </td><td>NA </td><td>NA </td><td>NA </td><td>NA </td><td>NA </td><td>...</td><td>NA </td><td>NA </td><td>NA </td><td>NA </td><td>NA </td><td>NA </td><td>NA </td><td>NA </td><td>NA </td><td>NA </td></tr>\n",
       "\t<tr><th scope=row>103.1</th><td>NA </td><td>NA </td><td>NA </td><td>NA </td><td>NA </td><td>NA </td><td>NA </td><td>NA </td><td> 0 </td><td>NA </td><td>...</td><td>NA </td><td>NA </td><td>NA </td><td>NA </td><td>NA </td><td>NA </td><td>NA </td><td>NA </td><td>NA </td><td>NA </td></tr>\n",
       "\t<tr><th scope=row>104.1</th><td>NA </td><td>NA </td><td>NA </td><td> 1 </td><td>NA </td><td>NA </td><td>NA </td><td>NA </td><td>NA </td><td>NA </td><td>...</td><td>NA </td><td>NA </td><td>NA </td><td>NA </td><td>NA </td><td>NA </td><td>NA </td><td>NA </td><td>NA </td><td>NA </td></tr>\n",
       "\t<tr><th scope=row>105.1</th><td>NA </td><td>NA </td><td>NA </td><td>NA </td><td>NA </td><td>NA </td><td>NA </td><td>NA </td><td>NA </td><td>NA </td><td>...</td><td>NA </td><td>NA </td><td>NA </td><td>NA </td><td>NA </td><td>NA </td><td>NA </td><td>NA </td><td>NA </td><td>NA </td></tr>\n",
       "\t<tr><th scope=row>106.1</th><td>NA </td><td>NA </td><td>NA </td><td> 0 </td><td>NA </td><td>NA </td><td>NA </td><td>NA </td><td>NA </td><td>NA </td><td>...</td><td>NA </td><td>NA </td><td>NA </td><td>NA </td><td>NA </td><td>NA </td><td>NA </td><td>NA </td><td>NA </td><td>NA </td></tr>\n",
       "</tbody>\n",
       "</table>\n"
      ],
      "text/latex": [
       "\\begin{tabular}{r|lllllllllllllllllllllllllllllllllllllllllllllllllllllllllllllllllllllllllllllllllllllllllllllllllllllllllllllllllllllllllllllllllllllllllllllllllllllllllllllllllllllllllllllllllllllllllllllllllll}\n",
       "  & EM\\_16b & EM\\_21a & EM\\_21b & EM\\_26 & EM\\_27b & EM\\_35 & EM\\_43b & EM\\_45b & EM\\_45c & EM\\_46 & ... & WA\\_29 & WA\\_30b & WA\\_31 & WA\\_32b & WA\\_33b & WA\\_50b & WA\\_51 & WA\\_52a & WA\\_52b & WA\\_7b\\\\\n",
       "\\hline\n",
       "\t101.1 & NA  & NA  &  1  & NA  & NA  & NA  & NA  & NA  & NA  & NA  & ... & NA  & NA  & NA  & NA  & NA  & NA  & NA  & NA  & NA  & NA \\\\\n",
       "\t102.1 & NA  & NA  & NA  & NA  & NA  & NA  & NA  & NA  & NA  & NA  & ... & NA  & NA  & NA  & NA  & NA  & NA  & NA  & NA  & NA  & NA \\\\\n",
       "\t103.1 & NA  & NA  & NA  & NA  & NA  & NA  & NA  & NA  &  0  & NA  & ... & NA  & NA  & NA  & NA  & NA  & NA  & NA  & NA  & NA  & NA \\\\\n",
       "\t104.1 & NA  & NA  & NA  &  1  & NA  & NA  & NA  & NA  & NA  & NA  & ... & NA  & NA  & NA  & NA  & NA  & NA  & NA  & NA  & NA  & NA \\\\\n",
       "\t105.1 & NA  & NA  & NA  & NA  & NA  & NA  & NA  & NA  & NA  & NA  & ... & NA  & NA  & NA  & NA  & NA  & NA  & NA  & NA  & NA  & NA \\\\\n",
       "\t106.1 & NA  & NA  & NA  &  0  & NA  & NA  & NA  & NA  & NA  & NA  & ... & NA  & NA  & NA  & NA  & NA  & NA  & NA  & NA  & NA  & NA \\\\\n",
       "\\end{tabular}\n"
      ],
      "text/markdown": [
       "\n",
       "| <!--/--> | EM_16b | EM_21a | EM_21b | EM_26 | EM_27b | EM_35 | EM_43b | EM_45b | EM_45c | EM_46 | ... | WA_29 | WA_30b | WA_31 | WA_32b | WA_33b | WA_50b | WA_51 | WA_52a | WA_52b | WA_7b |\n",
       "|---|---|---|---|---|---|---|---|---|---|---|---|---|---|---|---|---|---|---|---|---|---|\n",
       "| 101.1 | NA  | NA  |  1  | NA  | NA  | NA  | NA  | NA  | NA  | NA  | ... | NA  | NA  | NA  | NA  | NA  | NA  | NA  | NA  | NA  | NA  |\n",
       "| 102.1 | NA  | NA  | NA  | NA  | NA  | NA  | NA  | NA  | NA  | NA  | ... | NA  | NA  | NA  | NA  | NA  | NA  | NA  | NA  | NA  | NA  |\n",
       "| 103.1 | NA  | NA  | NA  | NA  | NA  | NA  | NA  | NA  |  0  | NA  | ... | NA  | NA  | NA  | NA  | NA  | NA  | NA  | NA  | NA  | NA  |\n",
       "| 104.1 | NA  | NA  | NA  |  1  | NA  | NA  | NA  | NA  | NA  | NA  | ... | NA  | NA  | NA  | NA  | NA  | NA  | NA  | NA  | NA  | NA  |\n",
       "| 105.1 | NA  | NA  | NA  | NA  | NA  | NA  | NA  | NA  | NA  | NA  | ... | NA  | NA  | NA  | NA  | NA  | NA  | NA  | NA  | NA  | NA  |\n",
       "| 106.1 | NA  | NA  | NA  |  0  | NA  | NA  | NA  | NA  | NA  | NA  | ... | NA  | NA  | NA  | NA  | NA  | NA  | NA  | NA  | NA  | NA  |\n",
       "\n"
      ],
      "text/plain": [
       "      EM_16b EM_21a EM_21b EM_26 EM_27b EM_35 EM_43b EM_45b EM_45c EM_46 ...\n",
       "101.1 NA     NA      1     NA    NA     NA    NA     NA     NA     NA    ...\n",
       "102.1 NA     NA     NA     NA    NA     NA    NA     NA     NA     NA    ...\n",
       "103.1 NA     NA     NA     NA    NA     NA    NA     NA      0     NA    ...\n",
       "104.1 NA     NA     NA      1    NA     NA    NA     NA     NA     NA    ...\n",
       "105.1 NA     NA     NA     NA    NA     NA    NA     NA     NA     NA    ...\n",
       "106.1 NA     NA     NA      0    NA     NA    NA     NA     NA     NA    ...\n",
       "      WA_29 WA_30b WA_31 WA_32b WA_33b WA_50b WA_51 WA_52a WA_52b WA_7b\n",
       "101.1 NA    NA     NA    NA     NA     NA     NA    NA     NA     NA   \n",
       "102.1 NA    NA     NA    NA     NA     NA     NA    NA     NA     NA   \n",
       "103.1 NA    NA     NA    NA     NA     NA     NA    NA     NA     NA   \n",
       "104.1 NA    NA     NA    NA     NA     NA     NA    NA     NA     NA   \n",
       "105.1 NA    NA     NA    NA     NA     NA     NA    NA     NA     NA   \n",
       "106.1 NA    NA     NA    NA     NA     NA     NA    NA     NA     NA   "
      ]
     },
     "metadata": {},
     "output_type": "display_data"
    }
   ],
   "source": [
    "##\n",
    "califs_complete_cast=dcast(califs_complete, std_code~quest_id, value.var=\"st_ans_calif\")\n",
    "rownames(califs_complete_cast)=califs_complete_cast$std_code\n",
    "califs_complete_cast=califs_complete_cast[,2:length(califs_complete_cast)]\n",
    "\n",
    "dim(califs_complete_cast)\n",
    "\n",
    "califs_complete_cast=califs_complete_cast[rowSums(!is.na(califs_complete_cast))>1,]\n",
    "califs_complete_cast=califs_complete_cast[,colSums(!is.na(califs_complete_cast))>1]\n",
    "\n",
    "califs_complete_cast=califs_complete_cast[rowSums(!is.na(califs_complete_cast))>1,]\n",
    "califs_complete_cast=califs_complete_cast[,colSums(!is.na(califs_complete_cast))>1]\n",
    "\n",
    "dim(califs_complete_cast)\n",
    "head(califs_complete_cast)\n",
    "\n",
    "# write.csv(data.frame(califs_complete_cast),\"califs_complete_cast.csv\")"
   ]
  },
  {
   "cell_type": "code",
   "execution_count": 5,
   "metadata": {},
   "outputs": [],
   "source": [
    "diffs_califs_complete=irt.item.diff.rasch(califs_complete_cast)\n",
    "califs_complete_desc=data.frame(describe(califs_complete_cast))\n",
    "califs_complete_desc$IRT_difficulty=diffs_califs_complete\n",
    "\n",
    "# write.csv(data.frame(califs_complete_desc),\"califs_complete_desc.csv\")"
   ]
  },
  {
   "cell_type": "code",
   "execution_count": 6,
   "metadata": {},
   "outputs": [
    {
     "data": {
      "image/png": "[encoded data removed]",
      "text/plain": [
       "plot without title"
      ]
     },
     "metadata": {},
     "output_type": "display_data"
    }
   ],
   "source": [
    "pairs(califs_complete_desc,pch=16, cex=.5)\n"
   ]
  },
  {
   "cell_type": "code",
   "execution_count": 3,
   "metadata": {
    "scrolled": false
   },
   "outputs": [
    {
     "data": {
      "text/html": [
       "<ol class=list-inline>\n",
       "\t<li>565</li>\n",
       "\t<li>195</li>\n",
       "</ol>\n"
      ],
      "text/latex": [
       "\\begin{enumerate*}\n",
       "\\item 565\n",
       "\\item 195\n",
       "\\end{enumerate*}\n"
      ],
      "text/markdown": [
       "1. 565\n",
       "2. 195\n",
       "\n",
       "\n"
      ],
      "text/plain": [
       "[1] 565 195"
      ]
     },
     "metadata": {},
     "output_type": "display_data"
    },
    {
     "data": {
      "text/html": [
       "<table>\n",
       "<thead><tr><th></th><th scope=col>EM_16b</th><th scope=col>EM_21a</th><th scope=col>EM_21b</th><th scope=col>EM_26</th><th scope=col>EM_27b</th><th scope=col>EM_35</th><th scope=col>EM_43b</th><th scope=col>EM_45b</th><th scope=col>EM_45c</th><th scope=col>EM_46</th><th scope=col>...</th><th scope=col>WA_29</th><th scope=col>WA_30b</th><th scope=col>WA_31</th><th scope=col>WA_32b</th><th scope=col>WA_33b</th><th scope=col>WA_50b</th><th scope=col>WA_51</th><th scope=col>WA_52a</th><th scope=col>WA_52b</th><th scope=col>WA_7b</th></tr></thead>\n",
       "<tbody>\n",
       "\t<tr><th scope=row>101.1</th><td>NA </td><td>NA </td><td> 1 </td><td>NA </td><td>NA </td><td>NA </td><td>NA </td><td>NA </td><td>NA </td><td>NA </td><td>...</td><td>NA </td><td>NA </td><td>NA </td><td>NA </td><td>NA </td><td>NA </td><td>NA </td><td>NA </td><td>NA </td><td>NA </td></tr>\n",
       "\t<tr><th scope=row>102.1</th><td>NA </td><td>NA </td><td>NA </td><td>NA </td><td>NA </td><td>NA </td><td>NA </td><td>NA </td><td>NA </td><td>NA </td><td>...</td><td>NA </td><td>NA </td><td>NA </td><td>NA </td><td>NA </td><td>NA </td><td>NA </td><td>NA </td><td>NA </td><td>NA </td></tr>\n",
       "\t<tr><th scope=row>103.1</th><td>NA </td><td>NA </td><td>NA </td><td>NA </td><td>NA </td><td>NA </td><td>NA </td><td>NA </td><td> 0 </td><td>NA </td><td>...</td><td>NA </td><td>NA </td><td>NA </td><td>NA </td><td>NA </td><td>NA </td><td>NA </td><td>NA </td><td>NA </td><td>NA </td></tr>\n",
       "\t<tr><th scope=row>104.1</th><td>NA </td><td>NA </td><td>NA </td><td> 1 </td><td>NA </td><td>NA </td><td>NA </td><td>NA </td><td>NA </td><td>NA </td><td>...</td><td>NA </td><td>NA </td><td>NA </td><td>NA </td><td>NA </td><td>NA </td><td>NA </td><td>NA </td><td>NA </td><td>NA </td></tr>\n",
       "\t<tr><th scope=row>105.1</th><td>NA </td><td>NA </td><td>NA </td><td>NA </td><td>NA </td><td>NA </td><td>NA </td><td>NA </td><td>NA </td><td>NA </td><td>...</td><td>NA </td><td>NA </td><td>NA </td><td>NA </td><td>NA </td><td>NA </td><td>NA </td><td>NA </td><td>NA </td><td>NA </td></tr>\n",
       "\t<tr><th scope=row>106.1</th><td>NA </td><td>NA </td><td>NA </td><td> 0 </td><td>NA </td><td>NA </td><td>NA </td><td>NA </td><td>NA </td><td>NA </td><td>...</td><td>NA </td><td>NA </td><td>NA </td><td>NA </td><td>NA </td><td>NA </td><td>NA </td><td>NA </td><td>NA </td><td>NA </td></tr>\n",
       "</tbody>\n",
       "</table>\n"
      ],
      "text/latex": [
       "\\begin{tabular}{r|lllllllllllllllllllllllllllllllllllllllllllllllllllllllllllllllllllllllllllllllllllllllllllllllllllllllllllllllllllllllllllllllllllllllllllllllllllllllllllllllllllllllllllllllllllllllllllllllllll}\n",
       "  & EM\\_16b & EM\\_21a & EM\\_21b & EM\\_26 & EM\\_27b & EM\\_35 & EM\\_43b & EM\\_45b & EM\\_45c & EM\\_46 & ... & WA\\_29 & WA\\_30b & WA\\_31 & WA\\_32b & WA\\_33b & WA\\_50b & WA\\_51 & WA\\_52a & WA\\_52b & WA\\_7b\\\\\n",
       "\\hline\n",
       "\t101.1 & NA  & NA  &  1  & NA  & NA  & NA  & NA  & NA  & NA  & NA  & ... & NA  & NA  & NA  & NA  & NA  & NA  & NA  & NA  & NA  & NA \\\\\n",
       "\t102.1 & NA  & NA  & NA  & NA  & NA  & NA  & NA  & NA  & NA  & NA  & ... & NA  & NA  & NA  & NA  & NA  & NA  & NA  & NA  & NA  & NA \\\\\n",
       "\t103.1 & NA  & NA  & NA  & NA  & NA  & NA  & NA  & NA  &  0  & NA  & ... & NA  & NA  & NA  & NA  & NA  & NA  & NA  & NA  & NA  & NA \\\\\n",
       "\t104.1 & NA  & NA  & NA  &  1  & NA  & NA  & NA  & NA  & NA  & NA  & ... & NA  & NA  & NA  & NA  & NA  & NA  & NA  & NA  & NA  & NA \\\\\n",
       "\t105.1 & NA  & NA  & NA  & NA  & NA  & NA  & NA  & NA  & NA  & NA  & ... & NA  & NA  & NA  & NA  & NA  & NA  & NA  & NA  & NA  & NA \\\\\n",
       "\t106.1 & NA  & NA  & NA  &  0  & NA  & NA  & NA  & NA  & NA  & NA  & ... & NA  & NA  & NA  & NA  & NA  & NA  & NA  & NA  & NA  & NA \\\\\n",
       "\\end{tabular}\n"
      ],
      "text/markdown": [
       "\n",
       "| <!--/--> | EM_16b | EM_21a | EM_21b | EM_26 | EM_27b | EM_35 | EM_43b | EM_45b | EM_45c | EM_46 | ... | WA_29 | WA_30b | WA_31 | WA_32b | WA_33b | WA_50b | WA_51 | WA_52a | WA_52b | WA_7b |\n",
       "|---|---|---|---|---|---|---|---|---|---|---|---|---|---|---|---|---|---|---|---|---|---|\n",
       "| 101.1 | NA  | NA  |  1  | NA  | NA  | NA  | NA  | NA  | NA  | NA  | ... | NA  | NA  | NA  | NA  | NA  | NA  | NA  | NA  | NA  | NA  |\n",
       "| 102.1 | NA  | NA  | NA  | NA  | NA  | NA  | NA  | NA  | NA  | NA  | ... | NA  | NA  | NA  | NA  | NA  | NA  | NA  | NA  | NA  | NA  |\n",
       "| 103.1 | NA  | NA  | NA  | NA  | NA  | NA  | NA  | NA  |  0  | NA  | ... | NA  | NA  | NA  | NA  | NA  | NA  | NA  | NA  | NA  | NA  |\n",
       "| 104.1 | NA  | NA  | NA  |  1  | NA  | NA  | NA  | NA  | NA  | NA  | ... | NA  | NA  | NA  | NA  | NA  | NA  | NA  | NA  | NA  | NA  |\n",
       "| 105.1 | NA  | NA  | NA  | NA  | NA  | NA  | NA  | NA  | NA  | NA  | ... | NA  | NA  | NA  | NA  | NA  | NA  | NA  | NA  | NA  | NA  |\n",
       "| 106.1 | NA  | NA  | NA  |  0  | NA  | NA  | NA  | NA  | NA  | NA  | ... | NA  | NA  | NA  | NA  | NA  | NA  | NA  | NA  | NA  | NA  |\n",
       "\n"
      ],
      "text/plain": [
       "      EM_16b EM_21a EM_21b EM_26 EM_27b EM_35 EM_43b EM_45b EM_45c EM_46 ...\n",
       "101.1 NA     NA      1     NA    NA     NA    NA     NA     NA     NA    ...\n",
       "102.1 NA     NA     NA     NA    NA     NA    NA     NA     NA     NA    ...\n",
       "103.1 NA     NA     NA     NA    NA     NA    NA     NA      0     NA    ...\n",
       "104.1 NA     NA     NA      1    NA     NA    NA     NA     NA     NA    ...\n",
       "105.1 NA     NA     NA     NA    NA     NA    NA     NA     NA     NA    ...\n",
       "106.1 NA     NA     NA      0    NA     NA    NA     NA     NA     NA    ...\n",
       "      WA_29 WA_30b WA_31 WA_32b WA_33b WA_50b WA_51 WA_52a WA_52b WA_7b\n",
       "101.1 NA    NA     NA    NA     NA     NA     NA    NA     NA     NA   \n",
       "102.1 NA    NA     NA    NA     NA     NA     NA    NA     NA     NA   \n",
       "103.1 NA    NA     NA    NA     NA     NA     NA    NA     NA     NA   \n",
       "104.1 NA    NA     NA    NA     NA     NA     NA    NA     NA     NA   \n",
       "105.1 NA    NA     NA    NA     NA     NA     NA    NA     NA     NA   \n",
       "106.1 NA    NA     NA    NA     NA     NA     NA    NA     NA     NA   "
      ]
     },
     "metadata": {},
     "output_type": "display_data"
    },
    {
     "data": {
      "image/png": "[encoded data removed]",
      "text/plain": [
       "Plot with title \"Histogram of rowSums(califs_complete_cast, na.rm = TRUE)\""
      ]
     },
     "metadata": {},
     "output_type": "display_data"
    },
    {
     "data": {
      "image/png": "[encoded data removed]",
      "text/plain": [
       "Plot with title \"Histogram of colSums(califs_complete_cast, na.rm = TRUE)\""
      ]
     },
     "metadata": {},
     "output_type": "display_data"
    }
   ],
   "source": [
    "califs_complete_cast=read.csv(\"califs_complete_cast.csv\", header=TRUE, row.names=1)\n",
    "\n",
    "dim(califs_complete_cast)\n",
    "head(califs_complete_cast)\n",
    "\n",
    "hist(rowSums(califs_complete_cast,na.rm=TRUE), col=\"gray75\")\n",
    "# table(rowSums(califs_complete_cast,na.rm=TRUE))\n",
    "\n",
    "hist(colSums(califs_complete_cast,na.rm=TRUE), col=\"gray75\")\n",
    "# table(colSums(califs_complete_cast,na.rm=TRUE))\n",
    "\n",
    "# rowSums(!is.na(califs_complete_cast))\n",
    "# colSums(!is.na(califs_complete_cast))\n"
   ]
  },
  {
   "cell_type": "markdown",
   "metadata": {},
   "source": [
    "# Infit y Outfit \n",
    "https://rdrr.io/rforge/eRm/man/itemfit.ppar.html\n",
    "\n",
    "https://rdrr.io/rforge/eRm/man/RM.html\n",
    "\n",
    "https://cran.r-project.org/web/packages/eRm/index.html\n",
    "\n",
    "https://www.rasch.org/rmt/rmt162f.htm\n",
    "\n",
    "https://www.rasch.org/rmt/rmt82a.htm\n"
   ]
  },
  {
   "cell_type": "code",
   "execution_count": 3,
   "metadata": {
    "scrolled": false
   },
   "outputs": [
    {
     "name": "stderr",
     "output_type": "stream",
     "text": [
      "Spline interpolation in some subgroups not performed!\n",
      "  Less than 4 different person parameters estimable!\n",
      "  Perhaps NAs in subgroup(s).\n"
     ]
    },
    {
     "data": {
      "text/plain": [
       "\n",
       "Itemfit Statistics: \n",
       "          Chisq  df p-value Outfit MSQ Infit MSQ Outfit t Infit t\n",
       "EM_16b   34.060  39   0.694      0.852     0.920    -0.73   -0.70\n",
       "EM_21a   37.380  39   0.544      0.934     0.955    -0.52   -0.41\n",
       "EM_21b   45.444  39   0.221      1.136     1.102     1.02    0.89\n",
       "EM_26    46.861  38   0.153      1.202     1.140     1.50    1.36\n",
       "EM_27b   37.015  39   0.561      0.925     0.919    -0.36   -0.71\n",
       "EM_35    39.715  39   0.438      0.993     1.000    -0.03    0.03\n",
       "EM_43b   41.039  39   0.381      1.026     1.061     0.24    0.61\n",
       "EM_45b   41.049  39   0.381      1.026     1.031     0.31    0.41\n",
       "EM_45c  155.983  38   0.000      4.000     0.940     3.57   -0.08\n",
       "EM_46    31.173  39   0.810      0.779     0.877    -0.80   -0.59\n",
       "EM_47    42.278  38   0.291      1.084     1.063     0.46    0.44\n",
       "EM_48b   56.730  39   0.033      1.418     1.087     0.94    0.37\n",
       "FN_17a   48.743  39   0.136      1.219     1.159     1.11    1.12\n",
       "FN_17c   24.631  36   0.924      0.666     0.775    -1.31   -1.08\n",
       "FN_19b   38.166  39   0.508      0.954     0.938    -0.27   -0.50\n",
       "FN_20a   44.751  36   0.150      1.209     1.112     0.85    0.58\n",
       "FN_20b   44.592  37   0.183      1.173     1.178     1.16    1.42\n",
       "FN_24b   44.380  39   0.255      1.109     1.065     0.88    0.65\n",
       "FN_24c   33.793  36   0.574      0.913     1.004    -0.19    0.08\n",
       "FN_27a   34.339  37   0.594      0.904     0.942    -0.44   -0.35\n",
       "FN_27b   25.787  36   0.896      0.697     0.878    -0.73   -0.39\n",
       "II_13a   36.649  38   0.532      0.940     0.956    -0.38   -0.33\n",
       "II_13b   30.826  35   0.670      0.856     0.936    -0.43   -0.29\n",
       "II_20b   47.383  36   0.097      1.281     1.164     0.88    0.73\n",
       "II_24b   36.196  37   0.507      0.953     0.960    -0.28   -0.29\n",
       "II_26    36.861  35   0.383      1.024     1.009     0.18    0.11\n",
       "II_38    35.695  38   0.577      0.915     0.925    -0.33   -0.39\n",
       "LF_13a   17.809  24   0.812      0.712     0.833    -0.88   -1.04\n",
       "LF_18a   63.382  30   0.000      2.045     1.647     2.54    2.95\n",
       "LF_26a2  25.380  27   0.553      0.906     1.004    -0.15    0.09\n",
       "LF_26b2  33.652  30   0.295      1.086     1.070     0.42    0.43\n",
       "LF_27a   25.975  32   0.765      0.787     0.838    -1.02   -1.15\n",
       "LF_28a2  30.864  26   0.233      1.143     1.153     0.43    0.52\n",
       "LF_31b    4.116  32   1.000      0.125     0.430    -0.92   -1.41\n",
       "LF_33b   26.764  32   0.729      0.811     0.796    -0.80   -1.20\n",
       "LF_34b   14.172  24   0.943      0.567     0.717    -1.16   -1.10\n",
       "LF_39    40.099  26   0.038      1.485     1.258     0.80    0.73\n",
       "LF_6b    17.867  32   0.979      0.541     0.637    -1.14   -1.60\n",
       "LP_15c   48.127  38   0.126      1.234     1.187     2.22    2.10\n",
       "LP_16d   35.820  36   0.477      0.968     1.015    -0.17    0.19\n",
       "ME_10    40.048  41   0.513      0.954     0.862    -0.24   -1.19\n",
       "ME_17a   42.930  39   0.306      1.073     1.114     0.51    0.95\n",
       "ME_17b   30.956  38   0.784      0.794     0.810    -1.60   -1.93\n",
       "ME_17c   31.679  38   0.756      0.812     0.880    -0.99   -0.86\n",
       "ME_17d   31.019  39   0.815      0.775     0.807    -1.95   -2.17\n",
       "ME_17e   41.052  39   0.381      1.026     0.938     0.20   -0.32\n",
       "ME_27b   31.478  39   0.799      0.787     0.821    -1.86   -1.94\n",
       "ME_30    35.185  39   0.645      0.880     0.900    -0.77   -0.79\n",
       "ME_38a   30.754  39   0.824      0.769     0.862    -0.74   -0.55\n",
       "ME_5b    33.915  39   0.701      0.848     0.900    -0.90   -0.81\n",
       "ME_65a   32.849  41   0.814      0.782     0.847    -1.14   -0.92\n",
       "ME_65b   40.808  39   0.391      1.020     1.034     0.24    0.42\n",
       "ME_66a   33.277  39   0.728      0.832     0.872    -1.30   -1.28\n",
       "ME_66b   37.284  39   0.548      0.932     0.944    -0.52   -0.55\n",
       "ME_69b   20.390  17   0.255      1.133     0.965     0.42   -0.03\n",
       "ME_6b    40.724  39   0.394      1.018     1.094     0.16    0.51\n",
       "ME_72    39.574  39   0.444      0.989     1.025     0.02    0.23\n",
       "ME_73    43.502  42   0.407      1.012     1.004     0.13    0.07\n",
       "ME_78b   36.014  39   0.607      0.900     0.997     0.03    0.15\n",
       "ME_79    33.119  39   0.734      0.828     0.875    -0.96   -0.90\n",
       "ME_7a    33.269  37   0.645      0.875     0.867    -0.61   -0.91\n",
       "ME_7b    32.440  39   0.762      0.811     0.890    -0.76   -0.58\n",
       "MS_14b   47.236  39   0.171      1.181     1.056     0.82    0.34\n",
       "MS_30b   38.382  39   0.498      0.960     0.988    -0.07    0.02\n",
       "MS_39    42.103  39   0.338      1.053     1.044     0.50    0.51\n",
       "MS_43a   36.881  39   0.567      0.922     0.945    -0.31   -0.29\n",
       "MS_43b   49.988  39   0.112      1.250     1.219     1.52    1.71\n",
       "MS_50a   42.826  39   0.310      1.071     1.046     0.72    0.55\n",
       "MS_64a   33.691  39   0.710      0.842     0.843    -0.38   -0.55\n",
       "MX_1     34.312  35   0.501      0.953     1.002    -0.15    0.06\n",
       "MX_10    39.853  38   0.388      1.022     1.021     0.18    0.21\n",
       "MX_11a   42.847  38   0.271      1.099     1.058     0.54    0.42\n",
       "MX_11c   33.373  38   0.683      0.856     0.882    -1.34   -1.35\n",
       "MX_11e   35.617  38   0.580      0.913     0.979    -0.09    0.05\n",
       "MX_11f   33.075  37   0.654      0.870     0.920    -0.68   -0.62\n",
       "MX_16a   22.244  36   0.965      0.601     0.872    -0.44   -0.13\n",
       "MX_18    30.328  37   0.773      0.798     0.937    -0.34   -0.09\n",
       "MX_19    44.374  39   0.255      1.109     1.097     0.71    0.91\n",
       "MX_22a   38.580  39   0.489      0.964     0.969    -0.08   -0.12\n",
       "MX_24    37.397  34   0.316      1.068     0.974     0.34   -0.06\n",
       "MX_36a   47.531  37   0.115      1.251     1.149     2.26    1.78\n",
       "MX_36b   48.205  39   0.148      1.205     1.139     0.79    0.66\n",
       "MX_41    36.122  36   0.463      0.976     0.973    -0.16   -0.23\n",
       "MX_42a   35.919  38   0.566      0.921     0.949    -0.75   -0.61\n",
       "MX_46b   41.632  38   0.316      1.067     1.004     0.34    0.09\n",
       "MX_47b   30.706  39   0.826      0.768     0.846    -1.03   -0.97\n",
       "MX_49    50.434  39   0.104      1.261     1.091     0.74    0.40\n",
       "MX_52b   36.362  39   0.591      0.909     0.866    -0.26   -0.73\n",
       "MX_53    43.084  37   0.227      1.134     1.080     0.72    0.56\n",
       "PS_12    45.581  39   0.217      1.140     1.111     0.70    0.66\n",
       "PS_15bp  41.468  38   0.322      1.063     1.073     0.59    0.79\n",
       "PS_26p   36.099  39   0.603      0.902     0.914    -0.76   -0.78\n",
       "PS_2a   105.125 107   0.533      0.973     0.982    -0.44   -0.34\n",
       "PS_44    42.106  52   0.835      0.794     0.868    -0.88   -0.71\n",
       "PS_45b   80.393 110   0.985      0.724     0.912    -0.59   -0.14\n",
       "PS_46b   46.823  38   0.154      1.201     1.007     0.76    0.11\n",
       "PS_4ap   39.610  39   0.443      0.990     0.955    -0.03   -0.38\n",
       "PS_4bp   37.057  39   0.559      0.926     0.877    -0.51   -1.14\n",
       "PS_51a   42.875  39   0.309      1.072     1.068     0.81    0.85\n",
       "PS_51b   43.540  38   0.247      1.116     1.105     1.08    1.15\n",
       "SE_10    40.810  38   0.348      1.046     1.052     0.37    0.49\n",
       "SE_16b2  35.873  36   0.475      0.970     0.977    -0.08   -0.09\n",
       "SE_22a   42.217  38   0.294      1.082     1.071     0.59    0.60\n",
       "SE_22b   33.482  36   0.589      0.905     0.900    -0.06   -0.17\n",
       "SE_22c   40.008  38   0.381      1.026     1.048     0.21    0.44\n",
       "SE_24a   26.144  37   0.909      0.688     0.883    -0.40   -0.11\n",
       "SE_25a   37.555  39   0.536      0.939     1.013     0.00    0.15\n",
       "SE_31b   40.911  39   0.387      1.023     1.021     0.18    0.19\n",
       "SE_3c    39.577  36   0.313      1.070     1.058     0.40    0.44\n",
       "SE_45    41.481  36   0.244      1.121     0.959     0.39    0.01\n",
       "SE_46    37.758  39   0.526      0.944     0.960    -0.44   -0.35\n",
       "SE_47b   39.028  38   0.423      1.001     1.017     0.05    0.20\n",
       "SE_48    44.493  39   0.252      1.112     1.129     1.04    1.46\n",
       "SE_4a    36.173  38   0.554      0.928     0.966    -0.35   -0.23\n",
       "SE_51b   42.467  38   0.285      1.089     1.040     0.73    0.43\n",
       "ST_25b1  54.431  39   0.051      1.361     1.023     1.13    0.18\n",
       "ST_25b2  52.639  39   0.071      1.316     1.098     1.69    0.83\n",
       "ST_31b   42.777  39   0.312      1.069     1.105     0.33    0.63\n",
       "ST_52a   44.503  39   0.251      1.113     1.104     1.05    1.05\n",
       "ST_54b2  31.306  37   0.733      0.824     0.934    -0.22   -0.10\n",
       "ST_54b3  38.738  38   0.436      0.993     1.000    -0.04    0.03\n",
       "ST_58    46.794  37   0.130      1.231     1.029     0.75    0.20\n",
       "ST_59    36.749  39   0.573      0.919     0.934    -0.78   -0.74\n",
       "VB_1     34.223  39   0.687      0.856     0.867    -1.49   -1.69\n",
       "VB_12d   40.116  40   0.465      0.978     0.972    -0.09   -0.21\n",
       "VB_15a   36.384  39   0.590      0.910     0.909    -0.75   -0.97\n",
       "VB_15b   37.739  38   0.481      0.968     0.950    -0.29   -0.59\n",
       "VB_15c   28.640  39   0.889      0.716     0.779    -1.71   -1.57\n",
       "VB_22c   38.039  39   0.514      0.951     0.851    -0.05   -0.53\n",
       "VB_29    39.197  39   0.461      0.980     0.999     0.02    0.07\n",
       "VB_40a   24.247  37   0.947      0.638     0.807    -0.70   -0.54\n",
       "VB_42    40.243  39   0.415      1.006     1.002     0.10    0.06\n",
       "VB_5a    39.946  39   0.428      0.999     0.997     0.02    0.00\n",
       "VB_5b    42.823  39   0.311      1.071     1.066     0.64    0.69\n",
       "EM_13    44.866  39   0.239      1.122     1.130     0.61    0.94\n",
       "EM_33b   39.654  39   0.441      0.991     0.997    -0.07   -0.01\n",
       "EV_11    73.296  62   0.154      1.163     1.103     1.12    0.96\n",
       "EV_12b  116.374  97   0.088      1.187     1.115     1.52    1.29\n",
       "EV_21   105.027  96   0.248      1.083     1.098     0.77    1.19\n",
       "EV_22a   94.956  93   0.424      1.010     0.952     0.13   -0.20\n",
       "EV_25    93.518  97   0.581      0.954     0.937     0.00   -0.11\n",
       "EV_35a   96.550  96   0.465      0.995     0.924     0.11   -0.16\n",
       "EV_8c    99.620  97   0.407      1.017     0.991     0.19   -0.08\n",
       "FN_26b   31.803  36   0.669      0.860     0.914    -0.38   -0.43\n",
       "HB_22a   87.583  97   0.742      0.894     0.987    -0.22    0.02\n",
       "HB_24b1 102.065  97   0.343      1.041     1.025     0.45    0.36\n",
       "HB_24b2 121.179  97   0.049      1.237     1.170     2.30    2.21\n",
       "HB_34   108.601  97   0.198      1.108     1.040     0.83    0.43\n",
       "HB_35    99.462  94   0.330      1.047     0.990     0.30   -0.03\n",
       "HB_42a   88.461  94   0.642      0.931     0.948    -0.44   -0.49\n",
       "HB_42b  102.425  95   0.283      1.067     1.050     0.62    0.59\n",
       "HB_43    96.799  98   0.515      0.978     1.005    -0.09    0.08\n",
       "HB_46    96.432  97   0.497      0.984     0.959    -0.10   -0.41\n",
       "HB_53a2 108.140  96   0.187      1.115     0.983     0.43    0.02\n",
       "HB_53b   84.256  96   0.798      0.869     0.916     0.00    0.00\n",
       "HB_54a2  45.860  97   1.000      0.468     0.865    -0.84   -0.10\n",
       "HB_59a  123.004  99   0.051      1.230     1.057     2.01    0.77\n",
       "HB_59b  107.580  99   0.261      1.076     1.079     0.55    0.69\n",
       "HB_60   105.069  95   0.225      1.094     1.081     0.67    0.85\n",
       "HB_6a   104.525  96   0.259      1.078     1.004     0.45    0.07\n",
       "II_12b   29.495  36   0.770      0.797     0.904    -0.32   -0.13\n",
       "LF_13b   11.447  25   0.990      0.440     0.971     0.11    0.16\n",
       "LP_16c   45.319  38   0.193      1.162     1.188     0.46    0.58\n",
       "ME_36    33.437  38   0.680      0.857     0.899    -0.46   -0.39\n",
       "ME_74b   42.552  40   0.362      1.038     1.051     0.29    0.44\n",
       "MS_50b   35.387  39   0.635      0.885     0.940    -0.51   -0.37\n",
       "MX_11b   29.940  38   0.822      0.768     0.932    -0.79   -0.24\n",
       "PS_24a   97.153 104   0.670      0.925     0.937    -1.20   -1.24\n",
       "PS_2b   114.113 109   0.350      1.037     1.014     0.39    0.20\n",
       "SE_27b   38.519  37   0.401      1.014     1.053     0.14    0.56\n",
       "SE_44    42.002  38   0.302      1.077     1.118     0.43    0.76\n",
       "VB_5c    35.315  39   0.639      0.883     0.934    -0.84   -0.63\n",
       "WA_12a   80.649  99   0.911      0.806     0.830    -1.45   -1.61\n",
       "WA_12b   92.009  98   0.651      0.929     0.948    -0.44   -0.48\n",
       "WA_12c   82.469  99   0.885      0.825     0.910    -1.11   -0.68\n",
       "WA_15a   87.813  98   0.760      0.887     0.936    -0.59   -0.51\n",
       "WA_15b   82.791  98   0.864      0.836     0.878    -1.69   -1.84\n",
       "WA_16b   83.271  99   0.872      0.833     0.893    -1.58   -1.31\n",
       "WA_17b   91.215  99   0.699      0.912     0.933    -0.97   -0.92\n",
       "WA_18    92.184  99   0.673      0.922     0.948    -1.08   -0.92\n",
       "WA_20a  108.519 101   0.287      1.064     0.931     0.29   -0.19\n",
       "WA_20b   83.415  99   0.869      0.834     0.917    -0.64   -0.48\n",
       "WA_21    88.064  99   0.776      0.881     0.900    -1.70   -1.73\n",
       "WA_22    94.016  99   0.623      0.940     0.970    -0.71   -0.44\n",
       "WA_24b   88.556  99   0.765      0.886     0.912    -1.21   -1.29\n",
       "WA_29    77.660  99   0.944      0.777     0.802    -3.14   -3.35\n",
       "WA_30b   84.672  99   0.847      0.847     0.880    -1.98   -2.14\n",
       "WA_31    98.795  99   0.487      0.988     0.981    -0.06   -0.18\n",
       "WA_32b   82.463  99   0.885      0.825     0.921    -0.75   -0.42\n",
       "WA_33b   83.194  99   0.873      0.832     0.898    -1.21   -1.04\n",
       "WA_50b   92.463  99   0.666      0.925     0.965    -0.50   -0.34\n",
       "WA_51    88.815  99   0.759      0.888     0.930    -0.87   -0.86\n",
       "WA_52a   89.697  99   0.737      0.897     0.932    -0.20   -0.21\n",
       "WA_52b   85.772  99   0.826      0.858     0.937    -0.73   -0.45\n",
       "WA_7b    91.861  98   0.655      0.928     0.936    -0.32   -0.38\n"
      ]
     },
     "metadata": {},
     "output_type": "display_data"
    }
   ],
   "source": [
    "# Rasch model, estimation of item and person parameters\n",
    "res <- RM(califs_complete_cast)#raschdat2#califs_complete_cast\n",
    "p.res <- person.parameter(res)\n",
    "\n",
    "# Matrix with expected probabilities and corresponding residuals\n",
    "# pmat(p.res)\n",
    "# residuals(p.res)\n",
    "\n",
    "#Itemfit\n",
    "itemfit(p.res)\n",
    "\n",
    "#Personfit\n",
    "# personfit(p.res)"
   ]
  },
  {
   "cell_type": "code",
   "execution_count": 4,
   "metadata": {},
   "outputs": [],
   "source": [
    "it_fit=itemfit(p.res)"
   ]
  },
  {
   "cell_type": "code",
   "execution_count": 5,
   "metadata": {},
   "outputs": [],
   "source": [
    "infit_tab=data.frame(\n",
    "    \"Chisq\"=it_fit$i.fit,\n",
    "    \"df\"=it_fit$i.df-1,\n",
    "    \"p_value\"= pchisq(it_fit$i.fit,it_fit$i.df-1,lower.tail=FALSE),\n",
    "    \"outfitMSQ\"=it_fit$i.outfitMSQ,\n",
    "    \"infitMSQ\"=it_fit$i.infitMSQ,\n",
    "    \"outfitZ\"=it_fit$i.outfitZ,\n",
    "    \"infitZ\"=it_fit$i.infitZ\n",
    ")\n"
   ]
  },
  {
   "cell_type": "code",
   "execution_count": 11,
   "metadata": {},
   "outputs": [
    {
     "data": {
      "text/html": [
       "<table>\n",
       "<thead><tr><th></th><th scope=col>Chisq</th><th scope=col>df</th><th scope=col>p_value</th><th scope=col>outfitMSQ</th><th scope=col>infitMSQ</th><th scope=col>outfitZ</th><th scope=col>infitZ</th></tr></thead>\n",
       "<tbody>\n",
       "\t<tr><th scope=row>EM_16b</th><td> 34.06026               </td><td>39                      </td><td>0.6944286945819548861891</td><td>0.8515066               </td><td>0.9203612               </td><td>-0.73028071             </td><td>-0.69920601             </td></tr>\n",
       "\t<tr><th scope=row>EM_21a</th><td> 37.37991               </td><td>39                      </td><td>0.5438760737339566331272</td><td>0.9344977               </td><td>0.9546570               </td><td>-0.52140890             </td><td>-0.40619175             </td></tr>\n",
       "\t<tr><th scope=row>EM_21b</th><td> 45.44415               </td><td>39                      </td><td>0.2213808138787946300230</td><td>1.1361038               </td><td>1.1019038               </td><td> 1.02104750             </td><td> 0.89221697             </td></tr>\n",
       "\t<tr><th scope=row>EM_26</th><td> 46.86093               </td><td>38                      </td><td>0.1534224282854614873628</td><td>1.2015624               </td><td>1.1403101               </td><td> 1.49943812             </td><td> 1.35592025             </td></tr>\n",
       "\t<tr><th scope=row>EM_27b</th><td> 37.01527               </td><td>39                      </td><td>0.5607049758461210009486</td><td>0.9253817               </td><td>0.9191514               </td><td>-0.35571425             </td><td>-0.71188988             </td></tr>\n",
       "\t<tr><th scope=row>EM_35</th><td> 39.71537               </td><td>39                      </td><td>0.4380278232468595711602</td><td>0.9928842               </td><td>0.9999093               </td><td>-0.02988887             </td><td> 0.02908896             </td></tr>\n",
       "\t<tr><th scope=row>EM_43b</th><td> 41.03940               </td><td>39                      </td><td>0.3812251670519943846926</td><td>1.0259851               </td><td>1.0613899               </td><td> 0.23915624             </td><td> 0.60566064             </td></tr>\n",
       "\t<tr><th scope=row>EM_45b</th><td> 41.04927               </td><td>39                      </td><td>0.3808142232876991495338</td><td>1.0262318               </td><td>1.0314509               </td><td> 0.30597333             </td><td> 0.41176524             </td></tr>\n",
       "\t<tr><th scope=row>EM_45c</th><td>155.98313               </td><td>38                      </td><td>0.0000000000000003098043</td><td>3.9995676               </td><td>0.9398529               </td><td> 3.56535269             </td><td>-0.08267248             </td></tr>\n",
       "\t<tr><th scope=row>EM_46</th><td> 31.17324               </td><td>39                      </td><td>0.8096635466095686295418</td><td>0.7793310               </td><td>0.8773960               </td><td>-0.79719702             </td><td>-0.58731792             </td></tr>\n",
       "\t<tr><th scope=row>EM_47</th><td> 42.27774               </td><td>38                      </td><td>0.2914077351788793568410</td><td>1.0840447               </td><td>1.0626610               </td><td> 0.46430821             </td><td> 0.44277130             </td></tr>\n",
       "\t<tr><th scope=row>EM_48b</th><td> 56.72991               </td><td>39                      </td><td>0.0330299390611250645589</td><td>1.4182479               </td><td>1.0865066               </td><td> 0.94070108             </td><td> 0.36742649             </td></tr>\n",
       "\t<tr><th scope=row>FN_17a</th><td> 48.74347               </td><td>39                      </td><td>0.1363403722043309285183</td><td>1.2185867               </td><td>1.1585171               </td><td> 1.11431178             </td><td> 1.11557742             </td></tr>\n",
       "\t<tr><th scope=row>FN_17c</th><td> 24.63114               </td><td>36                      </td><td>0.9241341354721770429137</td><td>0.6657066               </td><td>0.7751485               </td><td>-1.30735494             </td><td>-1.08132221             </td></tr>\n",
       "\t<tr><th scope=row>FN_19b</th><td> 38.16577               </td><td>39                      </td><td>0.5077508707801317022756</td><td>0.9541441               </td><td>0.9378466               </td><td>-0.27268843             </td><td>-0.50142891             </td></tr>\n",
       "\t<tr><th scope=row>FN_20a</th><td> 44.75067               </td><td>36                      </td><td>0.1503184594149435393540</td><td>1.2094776               </td><td>1.1118123               </td><td> 0.84772897             </td><td> 0.58038477             </td></tr>\n",
       "\t<tr><th scope=row>FN_20b</th><td> 44.59183               </td><td>37                      </td><td>0.1827699903752632859533</td><td>1.1734691               </td><td>1.1776733               </td><td> 1.15688871             </td><td> 1.42072836             </td></tr>\n",
       "\t<tr><th scope=row>FN_24b</th><td> 44.37960               </td><td>39                      </td><td>0.2552951492448193859808</td><td>1.1094901               </td><td>1.0648812               </td><td> 0.88422190             </td><td> 0.64936724             </td></tr>\n",
       "\t<tr><th scope=row>FN_24c</th><td> 33.79303               </td><td>36                      </td><td>0.5739860165667191038708</td><td>0.9133251               </td><td>1.0036877               </td><td>-0.19373190             </td><td> 0.08299846             </td></tr>\n",
       "\t<tr><th scope=row>FN_27a</th><td> 34.33900               </td><td>37                      </td><td>0.5944507432274520608573</td><td>0.9036579               </td><td>0.9420163               </td><td>-0.43860983             </td><td>-0.34594236             </td></tr>\n",
       "\t<tr><th scope=row>FN_27b</th><td> 25.78665               </td><td>36                      </td><td>0.8962328031471117339990</td><td>0.6969365               </td><td>0.8778179               </td><td>-0.73185788             </td><td>-0.38569574             </td></tr>\n",
       "\t<tr><th scope=row>II_13a</th><td> 36.64918               </td><td>38                      </td><td>0.5318934963227126555552</td><td>0.9397226               </td><td>0.9560195               </td><td>-0.38315851             </td><td>-0.32558878             </td></tr>\n",
       "\t<tr><th scope=row>II_13b</th><td> 30.82595               </td><td>35                      </td><td>0.6698961353323298340001</td><td>0.8562764               </td><td>0.9363860               </td><td>-0.43473185             </td><td>-0.28691248             </td></tr>\n",
       "\t<tr><th scope=row>II_20b</th><td> 47.38284               </td><td>36                      </td><td>0.0970874705348969829766</td><td>1.2806173               </td><td>1.1642977               </td><td> 0.88042302             </td><td> 0.73163620             </td></tr>\n",
       "\t<tr><th scope=row>II_24b</th><td> 36.19595               </td><td>37                      </td><td>0.5065495567056500503256</td><td>0.9525249               </td><td>0.9595735               </td><td>-0.27908170             </td><td>-0.28968063             </td></tr>\n",
       "\t<tr><th scope=row>II_26</th><td> 36.86122               </td><td>35                      </td><td>0.3828222489271820849766</td><td>1.0239229               </td><td>1.0092566               </td><td> 0.17844436             </td><td> 0.11160127             </td></tr>\n",
       "\t<tr><th scope=row>II_38</th><td> 35.69525               </td><td>38                      </td><td>0.5765039519215279240072</td><td>0.9152627               </td><td>0.9246427               </td><td>-0.33083108             </td><td>-0.39041914             </td></tr>\n",
       "\t<tr><th scope=row>LF_13a</th><td> 17.80898               </td><td>24                      </td><td>0.8121753970950564838205</td><td>0.7123591               </td><td>0.8329227               </td><td>-0.87580565             </td><td>-1.03528563             </td></tr>\n",
       "\t<tr><th scope=row>LF_18a</th><td> 63.38207               </td><td>30                      </td><td>0.0003519151488855702214</td><td>2.0445831               </td><td>1.6473978               </td><td> 2.54487522             </td><td> 2.95058961             </td></tr>\n",
       "\t<tr><th scope=row>LF_26a2</th><td> 25.38044               </td><td>27                      </td><td>0.5531506674331065909200</td><td>0.9064443               </td><td>1.0044154               </td><td>-0.15269614             </td><td> 0.09392688             </td></tr>\n",
       "\t<tr><th scope=row>...</th><td>...</td><td>...</td><td>...</td><td>...</td><td>...</td><td>...</td><td>...</td></tr>\n",
       "\t<tr><th scope=row>MS_50b</th><td> 35.38683  </td><td> 39        </td><td>0.6354424  </td><td>0.8846707  </td><td>0.9404153  </td><td>-0.51195485</td><td>-0.3694762 </td></tr>\n",
       "\t<tr><th scope=row>MX_11b</th><td> 29.93976  </td><td> 38        </td><td>0.8215921  </td><td>0.7676862  </td><td>0.9322435  </td><td>-0.79054003</td><td>-0.2380960 </td></tr>\n",
       "\t<tr><th scope=row>PS_24a</th><td> 97.15300  </td><td>104        </td><td>0.6697008  </td><td>0.9252667  </td><td>0.9369096  </td><td>-1.19879074</td><td>-1.2363940 </td></tr>\n",
       "\t<tr><th scope=row>PS_2b</th><td>114.11271  </td><td>109        </td><td>0.3497468  </td><td>1.0373883  </td><td>1.0141903  </td><td> 0.39068523</td><td> 0.1984995 </td></tr>\n",
       "\t<tr><th scope=row>SE_27b</th><td> 38.51871  </td><td> 37        </td><td>0.4007046  </td><td>1.0136503  </td><td>1.0529535  </td><td> 0.14422787</td><td> 0.5576410 </td></tr>\n",
       "\t<tr><th scope=row>SE_44</th><td> 42.00238  </td><td> 38        </td><td>0.3015914  </td><td>1.0769841  </td><td>1.1177292  </td><td> 0.43011864</td><td> 0.7601158 </td></tr>\n",
       "\t<tr><th scope=row>VB_5c</th><td> 35.31496  </td><td> 39        </td><td>0.6386981  </td><td>0.8828740  </td><td>0.9335232  </td><td>-0.83642757</td><td>-0.6300569 </td></tr>\n",
       "\t<tr><th scope=row>WA_12a</th><td> 80.64934  </td><td> 99        </td><td>0.9109368  </td><td>0.8064934  </td><td>0.8300202  </td><td>-1.45256591</td><td>-1.6132916 </td></tr>\n",
       "\t<tr><th scope=row>WA_12b</th><td> 92.00923  </td><td> 98        </td><td>0.6513870  </td><td>0.9293861  </td><td>0.9481738  </td><td>-0.43801715</td><td>-0.4761111 </td></tr>\n",
       "\t<tr><th scope=row>WA_12c</th><td> 82.46911  </td><td> 99        </td><td>0.8847962  </td><td>0.8246911  </td><td>0.9103559  </td><td>-1.10583946</td><td>-0.6817524 </td></tr>\n",
       "\t<tr><th scope=row>WA_15a</th><td> 87.81257  </td><td> 98        </td><td>0.7600518  </td><td>0.8869957  </td><td>0.9362051  </td><td>-0.58590994</td><td>-0.5076414 </td></tr>\n",
       "\t<tr><th scope=row>WA_15b</th><td> 82.79060  </td><td> 98        </td><td>0.8643361  </td><td>0.8362687  </td><td>0.8779459  </td><td>-1.68900869</td><td>-1.8381738 </td></tr>\n",
       "\t<tr><th scope=row>WA_16b</th><td> 83.27108  </td><td> 99        </td><td>0.8718376  </td><td>0.8327108  </td><td>0.8925501  </td><td>-1.58339220</td><td>-1.3066510 </td></tr>\n",
       "\t<tr><th scope=row>WA_17b</th><td> 91.21499  </td><td> 99        </td><td>0.6987274  </td><td>0.9121499  </td><td>0.9333559  </td><td>-0.96694770</td><td>-0.9212735 </td></tr>\n",
       "\t<tr><th scope=row>WA_18</th><td> 92.18435  </td><td> 99        </td><td>0.6730222  </td><td>0.9218435  </td><td>0.9481491  </td><td>-1.08372485</td><td>-0.9231449 </td></tr>\n",
       "\t<tr><th scope=row>WA_20a</th><td>108.51917  </td><td>101        </td><td>0.2866816  </td><td>1.0639134  </td><td>0.9308005  </td><td> 0.29150799</td><td>-0.1921453 </td></tr>\n",
       "\t<tr><th scope=row>WA_20b</th><td> 83.41490  </td><td> 99        </td><td>0.8694199  </td><td>0.8341490  </td><td>0.9168151  </td><td>-0.63708072</td><td>-0.4789348 </td></tr>\n",
       "\t<tr><th scope=row>WA_21</th><td> 88.06383  </td><td> 99        </td><td>0.7763623  </td><td>0.8806383  </td><td>0.9003001  </td><td>-1.69788857</td><td>-1.7324972 </td></tr>\n",
       "\t<tr><th scope=row>WA_22</th><td> 94.01585  </td><td> 99        </td><td>0.6227574  </td><td>0.9401585  </td><td>0.9699023  </td><td>-0.71124722</td><td>-0.4384099 </td></tr>\n",
       "\t<tr><th scope=row>WA_24b</th><td> 88.55582  </td><td> 99        </td><td>0.7649267  </td><td>0.8855582  </td><td>0.9119340  </td><td>-1.20735468</td><td>-1.2870801 </td></tr>\n",
       "\t<tr><th scope=row>WA_29</th><td> 77.66001  </td><td> 99        </td><td>0.9444630  </td><td>0.7766001  </td><td>0.8017591  </td><td>-3.14366824</td><td>-3.3545897 </td></tr>\n",
       "\t<tr><th scope=row>WA_30b</th><td> 84.67200  </td><td> 99        </td><td>0.8470793  </td><td>0.8467200  </td><td>0.8798259  </td><td>-1.98417838</td><td>-2.1443679 </td></tr>\n",
       "\t<tr><th scope=row>WA_31</th><td> 98.79512  </td><td> 99        </td><td>0.4869015  </td><td>0.9879512  </td><td>0.9810748  </td><td>-0.06241263</td><td>-0.1766004 </td></tr>\n",
       "\t<tr><th scope=row>WA_32b</th><td> 82.46306  </td><td> 99        </td><td>0.8848907  </td><td>0.8246306  </td><td>0.9214701  </td><td>-0.74725838</td><td>-0.4150637 </td></tr>\n",
       "\t<tr><th scope=row>WA_33b</th><td> 83.19436  </td><td> 99        </td><td>0.8731155  </td><td>0.8319436  </td><td>0.8982130  </td><td>-1.20643033</td><td>-1.0385963 </td></tr>\n",
       "\t<tr><th scope=row>WA_50b</th><td> 92.46292  </td><td> 99        </td><td>0.6655076  </td><td>0.9246292  </td><td>0.9651918  </td><td>-0.49907319</td><td>-0.3367029 </td></tr>\n",
       "\t<tr><th scope=row>WA_51</th><td> 88.81490  </td><td> 99        </td><td>0.7587948  </td><td>0.8881490  </td><td>0.9302600  </td><td>-0.86994169</td><td>-0.8587678 </td></tr>\n",
       "\t<tr><th scope=row>WA_52a</th><td> 89.69750  </td><td> 99        </td><td>0.7373639  </td><td>0.8969750  </td><td>0.9322745  </td><td>-0.19998824</td><td>-0.2059100 </td></tr>\n",
       "\t<tr><th scope=row>WA_52b</th><td> 85.77249  </td><td> 99        </td><td>0.8257634  </td><td>0.8577249  </td><td>0.9367235  </td><td>-0.73238444</td><td>-0.4511788 </td></tr>\n",
       "\t<tr><th scope=row>WA_7b</th><td> 91.86137  </td><td> 98        </td><td>0.6554526  </td><td>0.9278926  </td><td>0.9358291  </td><td>-0.31891964</td><td>-0.3793245 </td></tr>\n",
       "</tbody>\n",
       "</table>\n"
      ],
      "text/latex": [
       "\\begin{tabular}{r|lllllll}\n",
       "  & Chisq & df & p\\_value & outfitMSQ & infitMSQ & outfitZ & infitZ\\\\\n",
       "\\hline\n",
       "\tEM\\_16b &  34.06026                & 39                       & 0.6944286945819548861891 & 0.8515066                & 0.9203612                & -0.73028071              & -0.69920601             \\\\\n",
       "\tEM\\_21a &  37.37991                & 39                       & 0.5438760737339566331272 & 0.9344977                & 0.9546570                & -0.52140890              & -0.40619175             \\\\\n",
       "\tEM\\_21b &  45.44415                & 39                       & 0.2213808138787946300230 & 1.1361038                & 1.1019038                &  1.02104750              &  0.89221697             \\\\\n",
       "\tEM\\_26 &  46.86093                & 38                       & 0.1534224282854614873628 & 1.2015624                & 1.1403101                &  1.49943812              &  1.35592025             \\\\\n",
       "\tEM\\_27b &  37.01527                & 39                       & 0.5607049758461210009486 & 0.9253817                & 0.9191514                & -0.35571425              & -0.71188988             \\\\\n",
       "\tEM\\_35 &  39.71537                & 39                       & 0.4380278232468595711602 & 0.9928842                & 0.9999093                & -0.02988887              &  0.02908896             \\\\\n",
       "\tEM\\_43b &  41.03940                & 39                       & 0.3812251670519943846926 & 1.0259851                & 1.0613899                &  0.23915624              &  0.60566064             \\\\\n",
       "\tEM\\_45b &  41.04927                & 39                       & 0.3808142232876991495338 & 1.0262318                & 1.0314509                &  0.30597333              &  0.41176524             \\\\\n",
       "\tEM\\_45c & 155.98313                & 38                       & 0.0000000000000003098043 & 3.9995676                & 0.9398529                &  3.56535269              & -0.08267248             \\\\\n",
       "\tEM\\_46 &  31.17324                & 39                       & 0.8096635466095686295418 & 0.7793310                & 0.8773960                & -0.79719702              & -0.58731792             \\\\\n",
       "\tEM\\_47 &  42.27774                & 38                       & 0.2914077351788793568410 & 1.0840447                & 1.0626610                &  0.46430821              &  0.44277130             \\\\\n",
       "\tEM\\_48b &  56.72991                & 39                       & 0.0330299390611250645589 & 1.4182479                & 1.0865066                &  0.94070108              &  0.36742649             \\\\\n",
       "\tFN\\_17a &  48.74347                & 39                       & 0.1363403722043309285183 & 1.2185867                & 1.1585171                &  1.11431178              &  1.11557742             \\\\\n",
       "\tFN\\_17c &  24.63114                & 36                       & 0.9241341354721770429137 & 0.6657066                & 0.7751485                & -1.30735494              & -1.08132221             \\\\\n",
       "\tFN\\_19b &  38.16577                & 39                       & 0.5077508707801317022756 & 0.9541441                & 0.9378466                & -0.27268843              & -0.50142891             \\\\\n",
       "\tFN\\_20a &  44.75067                & 36                       & 0.1503184594149435393540 & 1.2094776                & 1.1118123                &  0.84772897              &  0.58038477             \\\\\n",
       "\tFN\\_20b &  44.59183                & 37                       & 0.1827699903752632859533 & 1.1734691                & 1.1776733                &  1.15688871              &  1.42072836             \\\\\n",
       "\tFN\\_24b &  44.37960                & 39                       & 0.2552951492448193859808 & 1.1094901                & 1.0648812                &  0.88422190              &  0.64936724             \\\\\n",
       "\tFN\\_24c &  33.79303                & 36                       & 0.5739860165667191038708 & 0.9133251                & 1.0036877                & -0.19373190              &  0.08299846             \\\\\n",
       "\tFN\\_27a &  34.33900                & 37                       & 0.5944507432274520608573 & 0.9036579                & 0.9420163                & -0.43860983              & -0.34594236             \\\\\n",
       "\tFN\\_27b &  25.78665                & 36                       & 0.8962328031471117339990 & 0.6969365                & 0.8778179                & -0.73185788              & -0.38569574             \\\\\n",
       "\tII\\_13a &  36.64918                & 38                       & 0.5318934963227126555552 & 0.9397226                & 0.9560195                & -0.38315851              & -0.32558878             \\\\\n",
       "\tII\\_13b &  30.82595                & 35                       & 0.6698961353323298340001 & 0.8562764                & 0.9363860                & -0.43473185              & -0.28691248             \\\\\n",
       "\tII\\_20b &  47.38284                & 36                       & 0.0970874705348969829766 & 1.2806173                & 1.1642977                &  0.88042302              &  0.73163620             \\\\\n",
       "\tII\\_24b &  36.19595                & 37                       & 0.5065495567056500503256 & 0.9525249                & 0.9595735                & -0.27908170              & -0.28968063             \\\\\n",
       "\tII\\_26 &  36.86122                & 35                       & 0.3828222489271820849766 & 1.0239229                & 1.0092566                &  0.17844436              &  0.11160127             \\\\\n",
       "\tII\\_38 &  35.69525                & 38                       & 0.5765039519215279240072 & 0.9152627                & 0.9246427                & -0.33083108              & -0.39041914             \\\\\n",
       "\tLF\\_13a &  17.80898                & 24                       & 0.8121753970950564838205 & 0.7123591                & 0.8329227                & -0.87580565              & -1.03528563             \\\\\n",
       "\tLF\\_18a &  63.38207                & 30                       & 0.0003519151488855702214 & 2.0445831                & 1.6473978                &  2.54487522              &  2.95058961             \\\\\n",
       "\tLF\\_26a2 &  25.38044                & 27                       & 0.5531506674331065909200 & 0.9064443                & 1.0044154                & -0.15269614              &  0.09392688             \\\\\n",
       "\t... & ... & ... & ... & ... & ... & ... & ...\\\\\n",
       "\tMS\\_50b &  35.38683   &  39         & 0.6354424   & 0.8846707   & 0.9404153   & -0.51195485 & -0.3694762 \\\\\n",
       "\tMX\\_11b &  29.93976   &  38         & 0.8215921   & 0.7676862   & 0.9322435   & -0.79054003 & -0.2380960 \\\\\n",
       "\tPS\\_24a &  97.15300   & 104         & 0.6697008   & 0.9252667   & 0.9369096   & -1.19879074 & -1.2363940 \\\\\n",
       "\tPS\\_2b & 114.11271   & 109         & 0.3497468   & 1.0373883   & 1.0141903   &  0.39068523 &  0.1984995 \\\\\n",
       "\tSE\\_27b &  38.51871   &  37         & 0.4007046   & 1.0136503   & 1.0529535   &  0.14422787 &  0.5576410 \\\\\n",
       "\tSE\\_44 &  42.00238   &  38         & 0.3015914   & 1.0769841   & 1.1177292   &  0.43011864 &  0.7601158 \\\\\n",
       "\tVB\\_5c &  35.31496   &  39         & 0.6386981   & 0.8828740   & 0.9335232   & -0.83642757 & -0.6300569 \\\\\n",
       "\tWA\\_12a &  80.64934   &  99         & 0.9109368   & 0.8064934   & 0.8300202   & -1.45256591 & -1.6132916 \\\\\n",
       "\tWA\\_12b &  92.00923   &  98         & 0.6513870   & 0.9293861   & 0.9481738   & -0.43801715 & -0.4761111 \\\\\n",
       "\tWA\\_12c &  82.46911   &  99         & 0.8847962   & 0.8246911   & 0.9103559   & -1.10583946 & -0.6817524 \\\\\n",
       "\tWA\\_15a &  87.81257   &  98         & 0.7600518   & 0.8869957   & 0.9362051   & -0.58590994 & -0.5076414 \\\\\n",
       "\tWA\\_15b &  82.79060   &  98         & 0.8643361   & 0.8362687   & 0.8779459   & -1.68900869 & -1.8381738 \\\\\n",
       "\tWA\\_16b &  83.27108   &  99         & 0.8718376   & 0.8327108   & 0.8925501   & -1.58339220 & -1.3066510 \\\\\n",
       "\tWA\\_17b &  91.21499   &  99         & 0.6987274   & 0.9121499   & 0.9333559   & -0.96694770 & -0.9212735 \\\\\n",
       "\tWA\\_18 &  92.18435   &  99         & 0.6730222   & 0.9218435   & 0.9481491   & -1.08372485 & -0.9231449 \\\\\n",
       "\tWA\\_20a & 108.51917   & 101         & 0.2866816   & 1.0639134   & 0.9308005   &  0.29150799 & -0.1921453 \\\\\n",
       "\tWA\\_20b &  83.41490   &  99         & 0.8694199   & 0.8341490   & 0.9168151   & -0.63708072 & -0.4789348 \\\\\n",
       "\tWA\\_21 &  88.06383   &  99         & 0.7763623   & 0.8806383   & 0.9003001   & -1.69788857 & -1.7324972 \\\\\n",
       "\tWA\\_22 &  94.01585   &  99         & 0.6227574   & 0.9401585   & 0.9699023   & -0.71124722 & -0.4384099 \\\\\n",
       "\tWA\\_24b &  88.55582   &  99         & 0.7649267   & 0.8855582   & 0.9119340   & -1.20735468 & -1.2870801 \\\\\n",
       "\tWA\\_29 &  77.66001   &  99         & 0.9444630   & 0.7766001   & 0.8017591   & -3.14366824 & -3.3545897 \\\\\n",
       "\tWA\\_30b &  84.67200   &  99         & 0.8470793   & 0.8467200   & 0.8798259   & -1.98417838 & -2.1443679 \\\\\n",
       "\tWA\\_31 &  98.79512   &  99         & 0.4869015   & 0.9879512   & 0.9810748   & -0.06241263 & -0.1766004 \\\\\n",
       "\tWA\\_32b &  82.46306   &  99         & 0.8848907   & 0.8246306   & 0.9214701   & -0.74725838 & -0.4150637 \\\\\n",
       "\tWA\\_33b &  83.19436   &  99         & 0.8731155   & 0.8319436   & 0.8982130   & -1.20643033 & -1.0385963 \\\\\n",
       "\tWA\\_50b &  92.46292   &  99         & 0.6655076   & 0.9246292   & 0.9651918   & -0.49907319 & -0.3367029 \\\\\n",
       "\tWA\\_51 &  88.81490   &  99         & 0.7587948   & 0.8881490   & 0.9302600   & -0.86994169 & -0.8587678 \\\\\n",
       "\tWA\\_52a &  89.69750   &  99         & 0.7373639   & 0.8969750   & 0.9322745   & -0.19998824 & -0.2059100 \\\\\n",
       "\tWA\\_52b &  85.77249   &  99         & 0.8257634   & 0.8577249   & 0.9367235   & -0.73238444 & -0.4511788 \\\\\n",
       "\tWA\\_7b &  91.86137   &  98         & 0.6554526   & 0.9278926   & 0.9358291   & -0.31891964 & -0.3793245 \\\\\n",
       "\\end{tabular}\n"
      ],
      "text/markdown": [
       "\n",
       "| <!--/--> | Chisq | df | p_value | outfitMSQ | infitMSQ | outfitZ | infitZ |\n",
       "|---|---|---|---|---|---|---|---|\n",
       "| EM_16b |  34.06026                | 39                       | 0.6944286945819548861891 | 0.8515066                | 0.9203612                | -0.73028071              | -0.69920601              |\n",
       "| EM_21a |  37.37991                | 39                       | 0.5438760737339566331272 | 0.9344977                | 0.9546570                | -0.52140890              | -0.40619175              |\n",
       "| EM_21b |  45.44415                | 39                       | 0.2213808138787946300230 | 1.1361038                | 1.1019038                |  1.02104750              |  0.89221697              |\n",
       "| EM_26 |  46.86093                | 38                       | 0.1534224282854614873628 | 1.2015624                | 1.1403101                |  1.49943812              |  1.35592025              |\n",
       "| EM_27b |  37.01527                | 39                       | 0.5607049758461210009486 | 0.9253817                | 0.9191514                | -0.35571425              | -0.71188988              |\n",
       "| EM_35 |  39.71537                | 39                       | 0.4380278232468595711602 | 0.9928842                | 0.9999093                | -0.02988887              |  0.02908896              |\n",
       "| EM_43b |  41.03940                | 39                       | 0.3812251670519943846926 | 1.0259851                | 1.0613899                |  0.23915624              |  0.60566064              |\n",
       "| EM_45b |  41.04927                | 39                       | 0.3808142232876991495338 | 1.0262318                | 1.0314509                |  0.30597333              |  0.41176524              |\n",
       "| EM_45c | 155.98313                | 38                       | 0.0000000000000003098043 | 3.9995676                | 0.9398529                |  3.56535269              | -0.08267248              |\n",
       "| EM_46 |  31.17324                | 39                       | 0.8096635466095686295418 | 0.7793310                | 0.8773960                | -0.79719702              | -0.58731792              |\n",
       "| EM_47 |  42.27774                | 38                       | 0.2914077351788793568410 | 1.0840447                | 1.0626610                |  0.46430821              |  0.44277130              |\n",
       "| EM_48b |  56.72991                | 39                       | 0.0330299390611250645589 | 1.4182479                | 1.0865066                |  0.94070108              |  0.36742649              |\n",
       "| FN_17a |  48.74347                | 39                       | 0.1363403722043309285183 | 1.2185867                | 1.1585171                |  1.11431178              |  1.11557742              |\n",
       "| FN_17c |  24.63114                | 36                       | 0.9241341354721770429137 | 0.6657066                | 0.7751485                | -1.30735494              | -1.08132221              |\n",
       "| FN_19b |  38.16577                | 39                       | 0.5077508707801317022756 | 0.9541441                | 0.9378466                | -0.27268843              | -0.50142891              |\n",
       "| FN_20a |  44.75067                | 36                       | 0.1503184594149435393540 | 1.2094776                | 1.1118123                |  0.84772897              |  0.58038477              |\n",
       "| FN_20b |  44.59183                | 37                       | 0.1827699903752632859533 | 1.1734691                | 1.1776733                |  1.15688871              |  1.42072836              |\n",
       "| FN_24b |  44.37960                | 39                       | 0.2552951492448193859808 | 1.1094901                | 1.0648812                |  0.88422190              |  0.64936724              |\n",
       "| FN_24c |  33.79303                | 36                       | 0.5739860165667191038708 | 0.9133251                | 1.0036877                | -0.19373190              |  0.08299846              |\n",
       "| FN_27a |  34.33900                | 37                       | 0.5944507432274520608573 | 0.9036579                | 0.9420163                | -0.43860983              | -0.34594236              |\n",
       "| FN_27b |  25.78665                | 36                       | 0.8962328031471117339990 | 0.6969365                | 0.8778179                | -0.73185788              | -0.38569574              |\n",
       "| II_13a |  36.64918                | 38                       | 0.5318934963227126555552 | 0.9397226                | 0.9560195                | -0.38315851              | -0.32558878              |\n",
       "| II_13b |  30.82595                | 35                       | 0.6698961353323298340001 | 0.8562764                | 0.9363860                | -0.43473185              | -0.28691248              |\n",
       "| II_20b |  47.38284                | 36                       | 0.0970874705348969829766 | 1.2806173                | 1.1642977                |  0.88042302              |  0.73163620              |\n",
       "| II_24b |  36.19595                | 37                       | 0.5065495567056500503256 | 0.9525249                | 0.9595735                | -0.27908170              | -0.28968063              |\n",
       "| II_26 |  36.86122                | 35                       | 0.3828222489271820849766 | 1.0239229                | 1.0092566                |  0.17844436              |  0.11160127              |\n",
       "| II_38 |  35.69525                | 38                       | 0.5765039519215279240072 | 0.9152627                | 0.9246427                | -0.33083108              | -0.39041914              |\n",
       "| LF_13a |  17.80898                | 24                       | 0.8121753970950564838205 | 0.7123591                | 0.8329227                | -0.87580565              | -1.03528563              |\n",
       "| LF_18a |  63.38207                | 30                       | 0.0003519151488855702214 | 2.0445831                | 1.6473978                |  2.54487522              |  2.95058961              |\n",
       "| LF_26a2 |  25.38044                | 27                       | 0.5531506674331065909200 | 0.9064443                | 1.0044154                | -0.15269614              |  0.09392688              |\n",
       "| ... | ... | ... | ... | ... | ... | ... | ... |\n",
       "| MS_50b |  35.38683   |  39         | 0.6354424   | 0.8846707   | 0.9404153   | -0.51195485 | -0.3694762  |\n",
       "| MX_11b |  29.93976   |  38         | 0.8215921   | 0.7676862   | 0.9322435   | -0.79054003 | -0.2380960  |\n",
       "| PS_24a |  97.15300   | 104         | 0.6697008   | 0.9252667   | 0.9369096   | -1.19879074 | -1.2363940  |\n",
       "| PS_2b | 114.11271   | 109         | 0.3497468   | 1.0373883   | 1.0141903   |  0.39068523 |  0.1984995  |\n",
       "| SE_27b |  38.51871   |  37         | 0.4007046   | 1.0136503   | 1.0529535   |  0.14422787 |  0.5576410  |\n",
       "| SE_44 |  42.00238   |  38         | 0.3015914   | 1.0769841   | 1.1177292   |  0.43011864 |  0.7601158  |\n",
       "| VB_5c |  35.31496   |  39         | 0.6386981   | 0.8828740   | 0.9335232   | -0.83642757 | -0.6300569  |\n",
       "| WA_12a |  80.64934   |  99         | 0.9109368   | 0.8064934   | 0.8300202   | -1.45256591 | -1.6132916  |\n",
       "| WA_12b |  92.00923   |  98         | 0.6513870   | 0.9293861   | 0.9481738   | -0.43801715 | -0.4761111  |\n",
       "| WA_12c |  82.46911   |  99         | 0.8847962   | 0.8246911   | 0.9103559   | -1.10583946 | -0.6817524  |\n",
       "| WA_15a |  87.81257   |  98         | 0.7600518   | 0.8869957   | 0.9362051   | -0.58590994 | -0.5076414  |\n",
       "| WA_15b |  82.79060   |  98         | 0.8643361   | 0.8362687   | 0.8779459   | -1.68900869 | -1.8381738  |\n",
       "| WA_16b |  83.27108   |  99         | 0.8718376   | 0.8327108   | 0.8925501   | -1.58339220 | -1.3066510  |\n",
       "| WA_17b |  91.21499   |  99         | 0.6987274   | 0.9121499   | 0.9333559   | -0.96694770 | -0.9212735  |\n",
       "| WA_18 |  92.18435   |  99         | 0.6730222   | 0.9218435   | 0.9481491   | -1.08372485 | -0.9231449  |\n",
       "| WA_20a | 108.51917   | 101         | 0.2866816   | 1.0639134   | 0.9308005   |  0.29150799 | -0.1921453  |\n",
       "| WA_20b |  83.41490   |  99         | 0.8694199   | 0.8341490   | 0.9168151   | -0.63708072 | -0.4789348  |\n",
       "| WA_21 |  88.06383   |  99         | 0.7763623   | 0.8806383   | 0.9003001   | -1.69788857 | -1.7324972  |\n",
       "| WA_22 |  94.01585   |  99         | 0.6227574   | 0.9401585   | 0.9699023   | -0.71124722 | -0.4384099  |\n",
       "| WA_24b |  88.55582   |  99         | 0.7649267   | 0.8855582   | 0.9119340   | -1.20735468 | -1.2870801  |\n",
       "| WA_29 |  77.66001   |  99         | 0.9444630   | 0.7766001   | 0.8017591   | -3.14366824 | -3.3545897  |\n",
       "| WA_30b |  84.67200   |  99         | 0.8470793   | 0.8467200   | 0.8798259   | -1.98417838 | -2.1443679  |\n",
       "| WA_31 |  98.79512   |  99         | 0.4869015   | 0.9879512   | 0.9810748   | -0.06241263 | -0.1766004  |\n",
       "| WA_32b |  82.46306   |  99         | 0.8848907   | 0.8246306   | 0.9214701   | -0.74725838 | -0.4150637  |\n",
       "| WA_33b |  83.19436   |  99         | 0.8731155   | 0.8319436   | 0.8982130   | -1.20643033 | -1.0385963  |\n",
       "| WA_50b |  92.46292   |  99         | 0.6655076   | 0.9246292   | 0.9651918   | -0.49907319 | -0.3367029  |\n",
       "| WA_51 |  88.81490   |  99         | 0.7587948   | 0.8881490   | 0.9302600   | -0.86994169 | -0.8587678  |\n",
       "| WA_52a |  89.69750   |  99         | 0.7373639   | 0.8969750   | 0.9322745   | -0.19998824 | -0.2059100  |\n",
       "| WA_52b |  85.77249   |  99         | 0.8257634   | 0.8577249   | 0.9367235   | -0.73238444 | -0.4511788  |\n",
       "| WA_7b |  91.86137   |  98         | 0.6554526   | 0.9278926   | 0.9358291   | -0.31891964 | -0.3793245  |\n",
       "\n"
      ],
      "text/plain": [
       "        Chisq     df  p_value                  outfitMSQ infitMSQ  outfitZ    \n",
       "EM_16b   34.06026 39  0.6944286945819548861891 0.8515066 0.9203612 -0.73028071\n",
       "EM_21a   37.37991 39  0.5438760737339566331272 0.9344977 0.9546570 -0.52140890\n",
       "EM_21b   45.44415 39  0.2213808138787946300230 1.1361038 1.1019038  1.02104750\n",
       "EM_26    46.86093 38  0.1534224282854614873628 1.2015624 1.1403101  1.49943812\n",
       "EM_27b   37.01527 39  0.5607049758461210009486 0.9253817 0.9191514 -0.35571425\n",
       "EM_35    39.71537 39  0.4380278232468595711602 0.9928842 0.9999093 -0.02988887\n",
       "EM_43b   41.03940 39  0.3812251670519943846926 1.0259851 1.0613899  0.23915624\n",
       "EM_45b   41.04927 39  0.3808142232876991495338 1.0262318 1.0314509  0.30597333\n",
       "EM_45c  155.98313 38  0.0000000000000003098043 3.9995676 0.9398529  3.56535269\n",
       "EM_46    31.17324 39  0.8096635466095686295418 0.7793310 0.8773960 -0.79719702\n",
       "EM_47    42.27774 38  0.2914077351788793568410 1.0840447 1.0626610  0.46430821\n",
       "EM_48b   56.72991 39  0.0330299390611250645589 1.4182479 1.0865066  0.94070108\n",
       "FN_17a   48.74347 39  0.1363403722043309285183 1.2185867 1.1585171  1.11431178\n",
       "FN_17c   24.63114 36  0.9241341354721770429137 0.6657066 0.7751485 -1.30735494\n",
       "FN_19b   38.16577 39  0.5077508707801317022756 0.9541441 0.9378466 -0.27268843\n",
       "FN_20a   44.75067 36  0.1503184594149435393540 1.2094776 1.1118123  0.84772897\n",
       "FN_20b   44.59183 37  0.1827699903752632859533 1.1734691 1.1776733  1.15688871\n",
       "FN_24b   44.37960 39  0.2552951492448193859808 1.1094901 1.0648812  0.88422190\n",
       "FN_24c   33.79303 36  0.5739860165667191038708 0.9133251 1.0036877 -0.19373190\n",
       "FN_27a   34.33900 37  0.5944507432274520608573 0.9036579 0.9420163 -0.43860983\n",
       "FN_27b   25.78665 36  0.8962328031471117339990 0.6969365 0.8778179 -0.73185788\n",
       "II_13a   36.64918 38  0.5318934963227126555552 0.9397226 0.9560195 -0.38315851\n",
       "II_13b   30.82595 35  0.6698961353323298340001 0.8562764 0.9363860 -0.43473185\n",
       "II_20b   47.38284 36  0.0970874705348969829766 1.2806173 1.1642977  0.88042302\n",
       "II_24b   36.19595 37  0.5065495567056500503256 0.9525249 0.9595735 -0.27908170\n",
       "II_26    36.86122 35  0.3828222489271820849766 1.0239229 1.0092566  0.17844436\n",
       "II_38    35.69525 38  0.5765039519215279240072 0.9152627 0.9246427 -0.33083108\n",
       "LF_13a   17.80898 24  0.8121753970950564838205 0.7123591 0.8329227 -0.87580565\n",
       "LF_18a   63.38207 30  0.0003519151488855702214 2.0445831 1.6473978  2.54487522\n",
       "LF_26a2  25.38044 27  0.5531506674331065909200 0.9064443 1.0044154 -0.15269614\n",
       "...     ...       ... ...                      ...       ...       ...        \n",
       "MS_50b   35.38683  39 0.6354424                0.8846707 0.9404153 -0.51195485\n",
       "MX_11b   29.93976  38 0.8215921                0.7676862 0.9322435 -0.79054003\n",
       "PS_24a   97.15300 104 0.6697008                0.9252667 0.9369096 -1.19879074\n",
       "PS_2b   114.11271 109 0.3497468                1.0373883 1.0141903  0.39068523\n",
       "SE_27b   38.51871  37 0.4007046                1.0136503 1.0529535  0.14422787\n",
       "SE_44    42.00238  38 0.3015914                1.0769841 1.1177292  0.43011864\n",
       "VB_5c    35.31496  39 0.6386981                0.8828740 0.9335232 -0.83642757\n",
       "WA_12a   80.64934  99 0.9109368                0.8064934 0.8300202 -1.45256591\n",
       "WA_12b   92.00923  98 0.6513870                0.9293861 0.9481738 -0.43801715\n",
       "WA_12c   82.46911  99 0.8847962                0.8246911 0.9103559 -1.10583946\n",
       "WA_15a   87.81257  98 0.7600518                0.8869957 0.9362051 -0.58590994\n",
       "WA_15b   82.79060  98 0.8643361                0.8362687 0.8779459 -1.68900869\n",
       "WA_16b   83.27108  99 0.8718376                0.8327108 0.8925501 -1.58339220\n",
       "WA_17b   91.21499  99 0.6987274                0.9121499 0.9333559 -0.96694770\n",
       "WA_18    92.18435  99 0.6730222                0.9218435 0.9481491 -1.08372485\n",
       "WA_20a  108.51917 101 0.2866816                1.0639134 0.9308005  0.29150799\n",
       "WA_20b   83.41490  99 0.8694199                0.8341490 0.9168151 -0.63708072\n",
       "WA_21    88.06383  99 0.7763623                0.8806383 0.9003001 -1.69788857\n",
       "WA_22    94.01585  99 0.6227574                0.9401585 0.9699023 -0.71124722\n",
       "WA_24b   88.55582  99 0.7649267                0.8855582 0.9119340 -1.20735468\n",
       "WA_29    77.66001  99 0.9444630                0.7766001 0.8017591 -3.14366824\n",
       "WA_30b   84.67200  99 0.8470793                0.8467200 0.8798259 -1.98417838\n",
       "WA_31    98.79512  99 0.4869015                0.9879512 0.9810748 -0.06241263\n",
       "WA_32b   82.46306  99 0.8848907                0.8246306 0.9214701 -0.74725838\n",
       "WA_33b   83.19436  99 0.8731155                0.8319436 0.8982130 -1.20643033\n",
       "WA_50b   92.46292  99 0.6655076                0.9246292 0.9651918 -0.49907319\n",
       "WA_51    88.81490  99 0.7587948                0.8881490 0.9302600 -0.86994169\n",
       "WA_52a   89.69750  99 0.7373639                0.8969750 0.9322745 -0.19998824\n",
       "WA_52b   85.77249  99 0.8257634                0.8577249 0.9367235 -0.73238444\n",
       "WA_7b    91.86137  98 0.6554526                0.9278926 0.9358291 -0.31891964\n",
       "        infitZ     \n",
       "EM_16b  -0.69920601\n",
       "EM_21a  -0.40619175\n",
       "EM_21b   0.89221697\n",
       "EM_26    1.35592025\n",
       "EM_27b  -0.71188988\n",
       "EM_35    0.02908896\n",
       "EM_43b   0.60566064\n",
       "EM_45b   0.41176524\n",
       "EM_45c  -0.08267248\n",
       "EM_46   -0.58731792\n",
       "EM_47    0.44277130\n",
       "EM_48b   0.36742649\n",
       "FN_17a   1.11557742\n",
       "FN_17c  -1.08132221\n",
       "FN_19b  -0.50142891\n",
       "FN_20a   0.58038477\n",
       "FN_20b   1.42072836\n",
       "FN_24b   0.64936724\n",
       "FN_24c   0.08299846\n",
       "FN_27a  -0.34594236\n",
       "FN_27b  -0.38569574\n",
       "II_13a  -0.32558878\n",
       "II_13b  -0.28691248\n",
       "II_20b   0.73163620\n",
       "II_24b  -0.28968063\n",
       "II_26    0.11160127\n",
       "II_38   -0.39041914\n",
       "LF_13a  -1.03528563\n",
       "LF_18a   2.95058961\n",
       "LF_26a2  0.09392688\n",
       "...     ...        \n",
       "MS_50b  -0.3694762 \n",
       "MX_11b  -0.2380960 \n",
       "PS_24a  -1.2363940 \n",
       "PS_2b    0.1984995 \n",
       "SE_27b   0.5576410 \n",
       "SE_44    0.7601158 \n",
       "VB_5c   -0.6300569 \n",
       "WA_12a  -1.6132916 \n",
       "WA_12b  -0.4761111 \n",
       "WA_12c  -0.6817524 \n",
       "WA_15a  -0.5076414 \n",
       "WA_15b  -1.8381738 \n",
       "WA_16b  -1.3066510 \n",
       "WA_17b  -0.9212735 \n",
       "WA_18   -0.9231449 \n",
       "WA_20a  -0.1921453 \n",
       "WA_20b  -0.4789348 \n",
       "WA_21   -1.7324972 \n",
       "WA_22   -0.4384099 \n",
       "WA_24b  -1.2870801 \n",
       "WA_29   -3.3545897 \n",
       "WA_30b  -2.1443679 \n",
       "WA_31   -0.1766004 \n",
       "WA_32b  -0.4150637 \n",
       "WA_33b  -1.0385963 \n",
       "WA_50b  -0.3367029 \n",
       "WA_51   -0.8587678 \n",
       "WA_52a  -0.2059100 \n",
       "WA_52b  -0.4511788 \n",
       "WA_7b   -0.3793245 "
      ]
     },
     "metadata": {},
     "output_type": "display_data"
    }
   ],
   "source": [
    "infit_tab"
   ]
  },
  {
   "cell_type": "code",
   "execution_count": 6,
   "metadata": {},
   "outputs": [],
   "source": [
    "write.csv(infit_tab,\"output_infit.csv\")"
   ]
  },
  {
   "cell_type": "code",
   "execution_count": 10,
   "metadata": {},
   "outputs": [],
   "source": [
    "write.csv(data.frame(it_fit$st.res), \"residuals_calif_cast.csv\")"
   ]
  },
  {
   "cell_type": "code",
   "execution_count": 8,
   "metadata": {},
   "outputs": [],
   "source": [
    "save(it_fit, file = \"it_fit.rda\")"
   ]
  },
  {
   "cell_type": "markdown",
   "metadata": {},
   "source": [
    "### Import ouptuputs data\n",
    "1. Avoid redo infit matrix (about 3 hours of calculations)\n",
    "2. Clear memory to avoid saturate it"
   ]
  },
  {
   "cell_type": "code",
   "execution_count": 26,
   "metadata": {},
   "outputs": [],
   "source": [
    "load(file = \"it_fit.rda\")\n",
    "infit_tab=read.csv(\"output_infit.csv\",row.names=1)\n",
    "califs_complete_desc=read.csv(\"califs_complete_desc.csv\",row.names=1)"
   ]
  },
  {
   "cell_type": "code",
   "execution_count": 28,
   "metadata": {},
   "outputs": [],
   "source": [
    "califs_complete_desc=califs_complete_desc[c(\"n\",\n",
    "                                            \"mean\",\n",
    "                                            \"sd\",\n",
    "                                            \"median\",\n",
    "                                            \"trimmed\",\n",
    "                                            \"range\",\n",
    "                                            \"skew\",\n",
    "                                            \"kurtosis\",\n",
    "                                            \"se\",\n",
    "                                            \"IRT_difficulty\")]"
   ]
  },
  {
   "cell_type": "code",
   "execution_count": 30,
   "metadata": {},
   "outputs": [],
   "source": [
    "irt_desc=cbind(califs_complete_desc,infit_tab)"
   ]
  },
  {
   "cell_type": "code",
   "execution_count": 32,
   "metadata": {},
   "outputs": [],
   "source": [
    "write.csv(irt_desc, \"irt_desc.csv\")"
   ]
  },
  {
   "cell_type": "code",
   "execution_count": 34,
   "metadata": {},
   "outputs": [
    {
     "data": {
      "image/png": "[encoded data removed]",
      "text/plain": [
       "plot without title"
      ]
     },
     "metadata": {},
     "output_type": "display_data"
    }
   ],
   "source": [
    "pairs(irt_desc, pch=16, cex=.5)"
   ]
  }
 ],
 "metadata": {
  "kernelspec": {
   "display_name": "R",
   "language": "R",
   "name": "ir"
  },
  "language_info": {
   "codemirror_mode": "r",
   "file_extension": ".r",
   "mimetype": "text/x-r-source",
   "name": "R",
   "pygments_lexer": "r",
   "version": "3.5.2"
  }
 },
 "nbformat": 4,
 "nbformat_minor": 2
}
