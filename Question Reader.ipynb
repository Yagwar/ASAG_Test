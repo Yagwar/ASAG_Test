{
 "cells": [
  {
   "cell_type": "code",
   "execution_count": 1,
   "metadata": {},
   "outputs": [],
   "source": [
    "import pandas as pd\n",
    "import numpy as np\n",
    "import glob\n",
    "\n",
    "import xml.etree.ElementTree as ET"
   ]
  },
  {
   "cell_type": "code",
   "execution_count": 11,
   "metadata": {},
   "outputs": [
    {
     "data": {
      "text/plain": [
       "{'qtype': 'Q_EXPLAIN_SPECIFIC',\n",
       " 'id': 'BULB_C_VOLTAGE_EXPLAIN_WHY1',\n",
       " 'module': 'FaultFinding',\n",
       " 'stype': 'EVALUATE'}"
      ]
     },
     "execution_count": 11,
     "metadata": {},
     "output_type": "execute_result"
    }
   ],
   "source": [
    "file_loc=\"dataset/beetle/FaultFinding-BULB_C_VOLTAGE_EXPLAIN_WHY1.xml\"\n",
    "tree = ET.parse(file_loc)\n",
    "root = tree.getroot()\n",
    "question=root[0].text\n",
    "ref_ans=root[1][0].text\n",
    "root.attrib\n",
    "# file_loc=\"dataset/sciEntsBank/FN-inv3-27a.xml\""
   ]
  },
  {
   "cell_type": "code",
   "execution_count": 12,
   "metadata": {},
   "outputs": [
    {
     "data": {
      "text/plain": [
       "['qtype', 'id', 'module', 'stype']"
      ]
     },
     "execution_count": 12,
     "metadata": {},
     "output_type": "execute_result"
    }
   ],
   "source": [
    "list(root.attrib)"
   ]
  },
  {
   "cell_type": "code",
   "execution_count": 15,
   "metadata": {},
   "outputs": [
    {
     "data": {
      "text/plain": [
       "[<Element 'questionText' at 0x0000014473C0BA48>,\n",
       " <Element 'referenceAnswers' at 0x0000014473C0B9A8>,\n",
       " <Element 'studentAnswers' at 0x0000014473C0BB88>]"
      ]
     },
     "execution_count": 15,
     "metadata": {},
     "output_type": "execute_result"
    }
   ],
   "source": [
    "list(root)"
   ]
  },
  {
   "cell_type": "code",
   "execution_count": 40,
   "metadata": {},
   "outputs": [
    {
     "data": {
      "text/plain": [
       "0.3106796116504854"
      ]
     },
     "execution_count": 40,
     "metadata": {},
     "output_type": "execute_result"
    }
   ],
   "source": [
    "sum([answr.attrib[\"accuracy\"]==\"correct\" for answr in root[2]])#/len(root[2])"
   ]
  },
  {
   "cell_type": "code",
   "execution_count": 5,
   "metadata": {},
   "outputs": [
    {
     "data": {
      "text/plain": [
       "{'id': 'FN_27a', 'module': 'FN'}"
      ]
     },
     "execution_count": 5,
     "metadata": {},
     "output_type": "execute_result"
    }
   ],
   "source": [
    "file_loc=\"dataset/sciEntsBank/FN-inv3-27a.xml\"\n",
    "tree = ET.parse(file_loc)\n",
    "root = tree.getroot()\n",
    "question=root[0].text\n",
    "ref_ans=root[1][0].text\n",
    "root.attrib"
   ]
  },
  {
   "cell_type": "code",
   "execution_count": 6,
   "metadata": {},
   "outputs": [
    {
     "data": {
      "text/plain": [
       "['id', 'module']"
      ]
     },
     "execution_count": 6,
     "metadata": {},
     "output_type": "execute_result"
    }
   ],
   "source": [
    "list(root.attrib.values())\n",
    "list(root.attrib)\n"
   ]
  },
  {
   "cell_type": "code",
   "execution_count": 41,
   "metadata": {},
   "outputs": [],
   "source": [
    "quest_ans=[]\n",
    "routes=[\"dataset/sciEntsBank/*.xml\",\"dataset/beetle/*.xml\"]\n",
    "dataset=[\"sciEntsBank\",\"beetle\"]\n",
    "vars_table=[\"dtset\",\"qtype\",\"stype\",\"quest_id\",\"num_resp_ref\",\"num_resp_est\",\"num_aciertos\",\"question\",\"ref_ans\"]\n",
    "for i,path in enumerate(routes):\n",
    "    files = glob.glob(path)\n",
    "    for name in files:\n",
    "        tree = ET.parse(name)\n",
    "        root = tree.getroot()\n",
    "        dtset=dataset[i]\n",
    "        quest_id=root.attrib[\"id\"]\n",
    "        question=root[0].text\n",
    "        ref_ans=root[1][0].text\n",
    "        try:\n",
    "            qtype=root.attrib[\"qtype\"]\n",
    "        except:\n",
    "            qtype=None\n",
    "        try:\n",
    "            stype=root.attrib[\"stype\"]\n",
    "        except:\n",
    "            stype=None\n",
    "        num_resp_ref=len(root[1])\n",
    "        num_resp_est=len(root[2])\n",
    "        num_aciertos=sum([answr.attrib[\"accuracy\"]==\"correct\" for answr in root[2]])#/len(root[2])\n",
    "        quest_ans.append([dtset,qtype,stype,quest_id,num_resp_ref,num_resp_est,num_aciertos,question,ref_ans])"
   ]
  },
  {
   "cell_type": "code",
   "execution_count": 42,
   "metadata": {
    "scrolled": true
   },
   "outputs": [
    {
     "data": {
      "text/plain": [
       "(182, 9)"
      ]
     },
     "execution_count": 42,
     "metadata": {},
     "output_type": "execute_result"
    }
   ],
   "source": [
    "questions=pd.DataFrame(quest_ans, columns=vars_table)\n",
    "questions.shape"
   ]
  },
  {
   "cell_type": "code",
   "execution_count": 43,
   "metadata": {
    "scrolled": false
   },
   "outputs": [],
   "source": [
    "questions.to_csv(\"questions.csv\", sep=\";\")"
   ]
  }
 ],
 "metadata": {
  "kernelspec": {
   "display_name": "Python 3",
   "language": "python",
   "name": "python3"
  },
  "language_info": {
   "codemirror_mode": {
    "name": "ipython",
    "version": 3
   },
   "file_extension": ".py",
   "mimetype": "text/x-python",
   "name": "python",
   "nbconvert_exporter": "python",
   "pygments_lexer": "ipython3",
   "version": "3.7.1"
  }
 },
 "nbformat": 4,
 "nbformat_minor": 2
}
