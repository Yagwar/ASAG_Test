{
 "cells": [
  {
   "cell_type": "markdown",
   "metadata": {},
   "source": [
    "# [Main Example R-Bloggers](https://www.r-bloggers.com/multiple-analysis-of-variance-manova/)"
   ]
  },
  {
   "cell_type": "code",
   "execution_count": 1,
   "metadata": {},
   "outputs": [],
   "source": [
    "root=read.csv2(\"RootStock.csv\", col.names = c('Tree.Number', 'Trunk.Girth.4.Years', 'Ext.Growth.4.Years', 'Trunk.Girth.15.Years', 'Weight.Above.Ground.15.Years'))\n",
    "root$Tree.Number <- as.factor(root$Tree.Number)"
   ]
  },
  {
   "cell_type": "code",
   "execution_count": 2,
   "metadata": {},
   "outputs": [],
   "source": [
    "dependent.vars <- cbind(root$Trunk.Girth.4.Years, root$Ext.Growth.4.Years, root$Trunk.Girth.15.Years, root$Weight.Above.Ground.15.Years)"
   ]
  },
  {
   "cell_type": "code",
   "execution_count": 3,
   "metadata": {},
   "outputs": [
    {
     "data": {
      "text/plain": [
       "                 Df Pillai approx F num Df den Df       Pr(>F)    \n",
       "root$Tree.Number  5 1.3055   4.0697     20    168 0.0000001983 ***\n",
       "Residuals        42                                               \n",
       "---\n",
       "Signif. codes:  0 '***' 0.001 '**' 0.01 '*' 0.05 '.' 0.1 ' ' 1"
      ]
     },
     "metadata": {},
     "output_type": "display_data"
    }
   ],
   "source": [
    "root.manova <- summary(manova(dependent.vars ~ root$Tree.Number))\n",
    "root.manova"
   ]
  },
  {
   "cell_type": "code",
   "execution_count": 4,
   "metadata": {},
   "outputs": [
    {
     "data": {
      "text/plain": [
       " Response 1 :\n",
       "                 Df  Sum Sq   Mean Sq F value Pr(>F)\n",
       "root$Tree.Number  5 0.07356 0.0147121   1.931 0.1094\n",
       "Residuals        42 0.31999 0.0076187               \n",
       "\n",
       " Response 2 :\n",
       "                 Df  Sum Sq Mean Sq F value Pr(>F)  \n",
       "root$Tree.Number  5  4.1997 0.83993  2.9052 0.0243 *\n",
       "Residuals        42 12.1428 0.28911                 \n",
       "---\n",
       "Signif. codes:  0 '***' 0.001 '**' 0.01 '*' 0.05 '.' 0.1 ' ' 1\n",
       "\n",
       " Response 3 :\n",
       "                 Df Sum Sq Mean Sq F value       Pr(>F)    \n",
       "root$Tree.Number  5 6.1139 1.22279  11.969 0.0000003112 ***\n",
       "Residuals        42 4.2908 0.10216                         \n",
       "---\n",
       "Signif. codes:  0 '***' 0.001 '**' 0.01 '*' 0.05 '.' 0.1 ' ' 1\n",
       "\n",
       " Response 4 :\n",
       "                 Df Sum Sq Mean Sq F value       Pr(>F)    \n",
       "root$Tree.Number  5 2.4931 0.49862  12.158 0.0000002587 ***\n",
       "Residuals        42 1.7225 0.04101                         \n",
       "---\n",
       "Signif. codes:  0 '***' 0.001 '**' 0.01 '*' 0.05 '.' 0.1 ' ' 1\n"
      ]
     },
     "metadata": {},
     "output_type": "display_data"
    }
   ],
   "source": [
    "summary(aov(dependent.vars ~ root$Tree.Number))"
   ]
  },
  {
   "cell_type": "code",
   "execution_count": 5,
   "metadata": {},
   "outputs": [
    {
     "data": {
      "text/html": [
       "<table>\n",
       "<tbody>\n",
       "\t<tr><td>1.11 </td><td>2.569</td><td>3.58 </td><td>0.760</td></tr>\n",
       "\t<tr><td>1.19 </td><td>2.928</td><td>3.75 </td><td>0.821</td></tr>\n",
       "\t<tr><td>1.09 </td><td>2.865</td><td>3.93 </td><td>0.928</td></tr>\n",
       "\t<tr><td>1.25 </td><td>3.844</td><td>3.94 </td><td>1.009</td></tr>\n",
       "\t<tr><td>1.11 </td><td>3.027</td><td>3.60 </td><td>0.766</td></tr>\n",
       "\t<tr><td>1.08 </td><td>2.336</td><td>3.51 </td><td>0.726</td></tr>\n",
       "\t<tr><td>1.11 </td><td>3.211</td><td>3.98 </td><td>1.209</td></tr>\n",
       "\t<tr><td>1.16 </td><td>3.037</td><td>3.62 </td><td>0.750</td></tr>\n",
       "\t<tr><td>1.05 </td><td>2.074</td><td>4.09 </td><td>1.036</td></tr>\n",
       "\t<tr><td>1.17 </td><td>2.885</td><td>4.06 </td><td>1.094</td></tr>\n",
       "\t<tr><td>1.11 </td><td>3.378</td><td>4.87 </td><td>1.635</td></tr>\n",
       "\t<tr><td>1.25 </td><td>3.906</td><td>4.98 </td><td>1.517</td></tr>\n",
       "\t<tr><td>1.17 </td><td>2.782</td><td>4.38 </td><td>1.197</td></tr>\n",
       "\t<tr><td>1.15 </td><td>3.018</td><td>4.65 </td><td>1.244</td></tr>\n",
       "\t<tr><td>1.17 </td><td>3.383</td><td>4.69 </td><td>1.495</td></tr>\n",
       "\t<tr><td>1.19 </td><td>3.447</td><td>4.40 </td><td>1.026</td></tr>\n",
       "\t<tr><td>1.07 </td><td>2.505</td><td>3.76 </td><td>0.912</td></tr>\n",
       "\t<tr><td>0.99 </td><td>2.315</td><td>4.44 </td><td>1.398</td></tr>\n",
       "\t<tr><td>1.06 </td><td>2.667</td><td>4.38 </td><td>1.197</td></tr>\n",
       "\t<tr><td>1.02 </td><td>2.390</td><td>4.67 </td><td>1.613</td></tr>\n",
       "\t<tr><td>1.15 </td><td>3.021</td><td>4.48 </td><td>1.476</td></tr>\n",
       "\t<tr><td>1.20 </td><td>3.085</td><td>4.78 </td><td>1.571</td></tr>\n",
       "\t<tr><td>1.20 </td><td>3.308</td><td>4.57 </td><td>1.506</td></tr>\n",
       "\t<tr><td>1.17 </td><td>3.231</td><td>4.56 </td><td>1.458</td></tr>\n",
       "\t<tr><td>1.22 </td><td>2.838</td><td>3.89 </td><td>0.944</td></tr>\n",
       "\t<tr><td>1.03 </td><td>2.351</td><td>4.05 </td><td>1.241</td></tr>\n",
       "\t<tr><td>1.14 </td><td>3.001</td><td>4.05 </td><td>1.023</td></tr>\n",
       "\t<tr><td>1.01 </td><td>2.439</td><td>3.92 </td><td>1.067</td></tr>\n",
       "\t<tr><td>0.99 </td><td>2.199</td><td>3.27 </td><td>0.693</td></tr>\n",
       "\t<tr><td>1.11 </td><td>3.318</td><td>3.95 </td><td>1.085</td></tr>\n",
       "\t<tr><td>1.20 </td><td>3.601</td><td>4.27 </td><td>1.242</td></tr>\n",
       "\t<tr><td>1.08 </td><td>3.291</td><td>3.85 </td><td>1.017</td></tr>\n",
       "\t<tr><td>0.91 </td><td>1.532</td><td>4.04 </td><td>1.084</td></tr>\n",
       "\t<tr><td>1.15 </td><td>2.552</td><td>4.16 </td><td>1.151</td></tr>\n",
       "\t<tr><td>1.14 </td><td>3.083</td><td>4.79 </td><td>1.381</td></tr>\n",
       "\t<tr><td>1.05 </td><td>2.330</td><td>4.42 </td><td>1.242</td></tr>\n",
       "\t<tr><td>0.99 </td><td>2.079</td><td>3.47 </td><td>0.673</td></tr>\n",
       "\t<tr><td>1.22 </td><td>3.366</td><td>4.41 </td><td>1.137</td></tr>\n",
       "\t<tr><td>1.05 </td><td>2.416</td><td>4.64 </td><td>1.455</td></tr>\n",
       "\t<tr><td>1.13 </td><td>3.100</td><td>4.57 </td><td>1.325</td></tr>\n",
       "\t<tr><td>1.11 </td><td>2.813</td><td>3.76 </td><td>0.800</td></tr>\n",
       "\t<tr><td>0.75 </td><td>0.840</td><td>3.14 </td><td>0.606</td></tr>\n",
       "\t<tr><td>1.05 </td><td>2.199</td><td>3.75 </td><td>0.790</td></tr>\n",
       "\t<tr><td>1.02 </td><td>2.132</td><td>3.99 </td><td>0.853</td></tr>\n",
       "\t<tr><td>1.05 </td><td>1.949</td><td>3.34 </td><td>0.610</td></tr>\n",
       "\t<tr><td>1.07 </td><td>2.251</td><td>3.21 </td><td>0.562</td></tr>\n",
       "\t<tr><td>1.13 </td><td>3.064</td><td>3.63 </td><td>0.707</td></tr>\n",
       "\t<tr><td>1.11 </td><td>2.469</td><td>3.95 </td><td>0.952</td></tr>\n",
       "</tbody>\n",
       "</table>\n"
      ],
      "text/latex": [
       "\\begin{tabular}{llll}\n",
       "\t 1.11  & 2.569 & 3.58  & 0.760\\\\\n",
       "\t 1.19  & 2.928 & 3.75  & 0.821\\\\\n",
       "\t 1.09  & 2.865 & 3.93  & 0.928\\\\\n",
       "\t 1.25  & 3.844 & 3.94  & 1.009\\\\\n",
       "\t 1.11  & 3.027 & 3.60  & 0.766\\\\\n",
       "\t 1.08  & 2.336 & 3.51  & 0.726\\\\\n",
       "\t 1.11  & 3.211 & 3.98  & 1.209\\\\\n",
       "\t 1.16  & 3.037 & 3.62  & 0.750\\\\\n",
       "\t 1.05  & 2.074 & 4.09  & 1.036\\\\\n",
       "\t 1.17  & 2.885 & 4.06  & 1.094\\\\\n",
       "\t 1.11  & 3.378 & 4.87  & 1.635\\\\\n",
       "\t 1.25  & 3.906 & 4.98  & 1.517\\\\\n",
       "\t 1.17  & 2.782 & 4.38  & 1.197\\\\\n",
       "\t 1.15  & 3.018 & 4.65  & 1.244\\\\\n",
       "\t 1.17  & 3.383 & 4.69  & 1.495\\\\\n",
       "\t 1.19  & 3.447 & 4.40  & 1.026\\\\\n",
       "\t 1.07  & 2.505 & 3.76  & 0.912\\\\\n",
       "\t 0.99  & 2.315 & 4.44  & 1.398\\\\\n",
       "\t 1.06  & 2.667 & 4.38  & 1.197\\\\\n",
       "\t 1.02  & 2.390 & 4.67  & 1.613\\\\\n",
       "\t 1.15  & 3.021 & 4.48  & 1.476\\\\\n",
       "\t 1.20  & 3.085 & 4.78  & 1.571\\\\\n",
       "\t 1.20  & 3.308 & 4.57  & 1.506\\\\\n",
       "\t 1.17  & 3.231 & 4.56  & 1.458\\\\\n",
       "\t 1.22  & 2.838 & 3.89  & 0.944\\\\\n",
       "\t 1.03  & 2.351 & 4.05  & 1.241\\\\\n",
       "\t 1.14  & 3.001 & 4.05  & 1.023\\\\\n",
       "\t 1.01  & 2.439 & 3.92  & 1.067\\\\\n",
       "\t 0.99  & 2.199 & 3.27  & 0.693\\\\\n",
       "\t 1.11  & 3.318 & 3.95  & 1.085\\\\\n",
       "\t 1.20  & 3.601 & 4.27  & 1.242\\\\\n",
       "\t 1.08  & 3.291 & 3.85  & 1.017\\\\\n",
       "\t 0.91  & 1.532 & 4.04  & 1.084\\\\\n",
       "\t 1.15  & 2.552 & 4.16  & 1.151\\\\\n",
       "\t 1.14  & 3.083 & 4.79  & 1.381\\\\\n",
       "\t 1.05  & 2.330 & 4.42  & 1.242\\\\\n",
       "\t 0.99  & 2.079 & 3.47  & 0.673\\\\\n",
       "\t 1.22  & 3.366 & 4.41  & 1.137\\\\\n",
       "\t 1.05  & 2.416 & 4.64  & 1.455\\\\\n",
       "\t 1.13  & 3.100 & 4.57  & 1.325\\\\\n",
       "\t 1.11  & 2.813 & 3.76  & 0.800\\\\\n",
       "\t 0.75  & 0.840 & 3.14  & 0.606\\\\\n",
       "\t 1.05  & 2.199 & 3.75  & 0.790\\\\\n",
       "\t 1.02  & 2.132 & 3.99  & 0.853\\\\\n",
       "\t 1.05  & 1.949 & 3.34  & 0.610\\\\\n",
       "\t 1.07  & 2.251 & 3.21  & 0.562\\\\\n",
       "\t 1.13  & 3.064 & 3.63  & 0.707\\\\\n",
       "\t 1.11  & 2.469 & 3.95  & 0.952\\\\\n",
       "\\end{tabular}\n"
      ],
      "text/markdown": [
       "\n",
       "| 1.11  | 2.569 | 3.58  | 0.760 |\n",
       "| 1.19  | 2.928 | 3.75  | 0.821 |\n",
       "| 1.09  | 2.865 | 3.93  | 0.928 |\n",
       "| 1.25  | 3.844 | 3.94  | 1.009 |\n",
       "| 1.11  | 3.027 | 3.60  | 0.766 |\n",
       "| 1.08  | 2.336 | 3.51  | 0.726 |\n",
       "| 1.11  | 3.211 | 3.98  | 1.209 |\n",
       "| 1.16  | 3.037 | 3.62  | 0.750 |\n",
       "| 1.05  | 2.074 | 4.09  | 1.036 |\n",
       "| 1.17  | 2.885 | 4.06  | 1.094 |\n",
       "| 1.11  | 3.378 | 4.87  | 1.635 |\n",
       "| 1.25  | 3.906 | 4.98  | 1.517 |\n",
       "| 1.17  | 2.782 | 4.38  | 1.197 |\n",
       "| 1.15  | 3.018 | 4.65  | 1.244 |\n",
       "| 1.17  | 3.383 | 4.69  | 1.495 |\n",
       "| 1.19  | 3.447 | 4.40  | 1.026 |\n",
       "| 1.07  | 2.505 | 3.76  | 0.912 |\n",
       "| 0.99  | 2.315 | 4.44  | 1.398 |\n",
       "| 1.06  | 2.667 | 4.38  | 1.197 |\n",
       "| 1.02  | 2.390 | 4.67  | 1.613 |\n",
       "| 1.15  | 3.021 | 4.48  | 1.476 |\n",
       "| 1.20  | 3.085 | 4.78  | 1.571 |\n",
       "| 1.20  | 3.308 | 4.57  | 1.506 |\n",
       "| 1.17  | 3.231 | 4.56  | 1.458 |\n",
       "| 1.22  | 2.838 | 3.89  | 0.944 |\n",
       "| 1.03  | 2.351 | 4.05  | 1.241 |\n",
       "| 1.14  | 3.001 | 4.05  | 1.023 |\n",
       "| 1.01  | 2.439 | 3.92  | 1.067 |\n",
       "| 0.99  | 2.199 | 3.27  | 0.693 |\n",
       "| 1.11  | 3.318 | 3.95  | 1.085 |\n",
       "| 1.20  | 3.601 | 4.27  | 1.242 |\n",
       "| 1.08  | 3.291 | 3.85  | 1.017 |\n",
       "| 0.91  | 1.532 | 4.04  | 1.084 |\n",
       "| 1.15  | 2.552 | 4.16  | 1.151 |\n",
       "| 1.14  | 3.083 | 4.79  | 1.381 |\n",
       "| 1.05  | 2.330 | 4.42  | 1.242 |\n",
       "| 0.99  | 2.079 | 3.47  | 0.673 |\n",
       "| 1.22  | 3.366 | 4.41  | 1.137 |\n",
       "| 1.05  | 2.416 | 4.64  | 1.455 |\n",
       "| 1.13  | 3.100 | 4.57  | 1.325 |\n",
       "| 1.11  | 2.813 | 3.76  | 0.800 |\n",
       "| 0.75  | 0.840 | 3.14  | 0.606 |\n",
       "| 1.05  | 2.199 | 3.75  | 0.790 |\n",
       "| 1.02  | 2.132 | 3.99  | 0.853 |\n",
       "| 1.05  | 1.949 | 3.34  | 0.610 |\n",
       "| 1.07  | 2.251 | 3.21  | 0.562 |\n",
       "| 1.13  | 3.064 | 3.63  | 0.707 |\n",
       "| 1.11  | 2.469 | 3.95  | 0.952 |\n",
       "\n"
      ],
      "text/plain": [
       "      [,1] [,2]  [,3] [,4] \n",
       " [1,] 1.11 2.569 3.58 0.760\n",
       " [2,] 1.19 2.928 3.75 0.821\n",
       " [3,] 1.09 2.865 3.93 0.928\n",
       " [4,] 1.25 3.844 3.94 1.009\n",
       " [5,] 1.11 3.027 3.60 0.766\n",
       " [6,] 1.08 2.336 3.51 0.726\n",
       " [7,] 1.11 3.211 3.98 1.209\n",
       " [8,] 1.16 3.037 3.62 0.750\n",
       " [9,] 1.05 2.074 4.09 1.036\n",
       "[10,] 1.17 2.885 4.06 1.094\n",
       "[11,] 1.11 3.378 4.87 1.635\n",
       "[12,] 1.25 3.906 4.98 1.517\n",
       "[13,] 1.17 2.782 4.38 1.197\n",
       "[14,] 1.15 3.018 4.65 1.244\n",
       "[15,] 1.17 3.383 4.69 1.495\n",
       "[16,] 1.19 3.447 4.40 1.026\n",
       "[17,] 1.07 2.505 3.76 0.912\n",
       "[18,] 0.99 2.315 4.44 1.398\n",
       "[19,] 1.06 2.667 4.38 1.197\n",
       "[20,] 1.02 2.390 4.67 1.613\n",
       "[21,] 1.15 3.021 4.48 1.476\n",
       "[22,] 1.20 3.085 4.78 1.571\n",
       "[23,] 1.20 3.308 4.57 1.506\n",
       "[24,] 1.17 3.231 4.56 1.458\n",
       "[25,] 1.22 2.838 3.89 0.944\n",
       "[26,] 1.03 2.351 4.05 1.241\n",
       "[27,] 1.14 3.001 4.05 1.023\n",
       "[28,] 1.01 2.439 3.92 1.067\n",
       "[29,] 0.99 2.199 3.27 0.693\n",
       "[30,] 1.11 3.318 3.95 1.085\n",
       "[31,] 1.20 3.601 4.27 1.242\n",
       "[32,] 1.08 3.291 3.85 1.017\n",
       "[33,] 0.91 1.532 4.04 1.084\n",
       "[34,] 1.15 2.552 4.16 1.151\n",
       "[35,] 1.14 3.083 4.79 1.381\n",
       "[36,] 1.05 2.330 4.42 1.242\n",
       "[37,] 0.99 2.079 3.47 0.673\n",
       "[38,] 1.22 3.366 4.41 1.137\n",
       "[39,] 1.05 2.416 4.64 1.455\n",
       "[40,] 1.13 3.100 4.57 1.325\n",
       "[41,] 1.11 2.813 3.76 0.800\n",
       "[42,] 0.75 0.840 3.14 0.606\n",
       "[43,] 1.05 2.199 3.75 0.790\n",
       "[44,] 1.02 2.132 3.99 0.853\n",
       "[45,] 1.05 1.949 3.34 0.610\n",
       "[46,] 1.07 2.251 3.21 0.562\n",
       "[47,] 1.13 3.064 3.63 0.707\n",
       "[48,] 1.11 2.469 3.95 0.952"
      ]
     },
     "metadata": {},
     "output_type": "display_data"
    }
   ],
   "source": [
    "dependent.vars"
   ]
  },
  {
   "cell_type": "markdown",
   "metadata": {},
   "source": [
    "# [RPubs](https://rpubs.com/Mariano/manova)"
   ]
  },
  {
   "cell_type": "code",
   "execution_count": 6,
   "metadata": {},
   "outputs": [
    {
     "data": {
      "text/plain": [
       "   valoracion      intencion          anuncio  \n",
       " Min.   :6.300   Min.   :3.000   Anuncio A:50  \n",
       " 1st Qu.:7.100   1st Qu.:3.600   Anuncio B:50  \n",
       " Median :7.800   Median :6.350   Anuncio C:50  \n",
       " Mean   :7.843   Mean   :5.758                 \n",
       " 3rd Qu.:8.400   3rd Qu.:7.100                 \n",
       " Max.   :9.900   Max.   :8.900                 "
      ]
     },
     "metadata": {},
     "output_type": "display_data"
    }
   ],
   "source": [
    "anuncios_manova <- iris[,c(1,3,5)]\n",
    "colnames(anuncios_manova) <- c('valoracion','intencion','anuncio')\n",
    "levels(anuncios_manova$anuncio) <- c(\"Anuncio A\",\"Anuncio B\",\"Anuncio C\")\n",
    "anuncios_manova[,1:2] <- anuncios_manova[,1:2]+2\n",
    "summary(anuncios_manova)"
   ]
  },
  {
   "cell_type": "code",
   "execution_count": 7,
   "metadata": {},
   "outputs": [
    {
     "name": "stderr",
     "output_type": "stream",
     "text": [
      "Loading required package: ggplot2\n",
      "Warning message:\n",
      "\"package 'ggplot2' was built under R version 3.5.3\"\n",
      "Attaching package: 'ggplot2'\n",
      "\n",
      "The following object is masked from 'package:crayon':\n",
      "\n",
      "    %+%\n",
      "\n"
     ]
    }
   ],
   "source": [
    "require(ggplot2)"
   ]
  },
  {
   "cell_type": "code",
   "execution_count": 8,
   "metadata": {},
   "outputs": [
    {
     "data": {
      "image/png": "[encoded data removed]",
      "text/plain": [
       "plot without title"
      ]
     },
     "metadata": {},
     "output_type": "display_data"
    }
   ],
   "source": [
    "ggplot(anuncios_manova, aes(valoracion, intencion, color=anuncio)) +\n",
    "  geom_point() +\n",
    "  geom_smooth(method = \"lm\", se = FALSE)"
   ]
  },
  {
   "cell_type": "code",
   "execution_count": 9,
   "metadata": {},
   "outputs": [
    {
     "data": {
      "text/plain": [
       "           Df Pillai approx F num Df den Df                Pr(>F)    \n",
       "anuncio     2 0.9885   71.829      4    294 < 0.00000000000000022 ***\n",
       "Residuals 147                                                        \n",
       "---\n",
       "Signif. codes:  0 '***' 0.001 '**' 0.01 '*' 0.05 '.' 0.1 ' ' 1"
      ]
     },
     "metadata": {},
     "output_type": "display_data"
    }
   ],
   "source": [
    "test_manova <- manova(cbind(valoracion, intencion) ~ anuncio, data=anuncios_manova)\n",
    "summary(test_manova)"
   ]
  },
  {
   "cell_type": "code",
   "execution_count": 10,
   "metadata": {},
   "outputs": [
    {
     "data": {
      "text/plain": [
       " Response valoracion :\n",
       "             Df Sum Sq Mean Sq F value                Pr(>F)    \n",
       "anuncio       2 63.212  31.606  119.26 < 0.00000000000000022 ***\n",
       "Residuals   147 38.956   0.265                                  \n",
       "---\n",
       "Signif. codes:  0 '***' 0.001 '**' 0.01 '*' 0.05 '.' 0.1 ' ' 1\n",
       "\n",
       " Response intencion :\n",
       "             Df Sum Sq Mean Sq F value                Pr(>F)    \n",
       "anuncio       2 437.10 218.551  1180.2 < 0.00000000000000022 ***\n",
       "Residuals   147  27.22   0.185                                  \n",
       "---\n",
       "Signif. codes:  0 '***' 0.001 '**' 0.01 '*' 0.05 '.' 0.1 ' ' 1\n"
      ]
     },
     "metadata": {},
     "output_type": "display_data"
    }
   ],
   "source": [
    "summary.aov(test_manova)"
   ]
  },
  {
   "cell_type": "markdown",
   "metadata": {},
   "source": [
    "## explore data"
   ]
  },
  {
   "cell_type": "code",
   "execution_count": 11,
   "metadata": {},
   "outputs": [
    {
     "data": {
      "text/html": [
       "<table>\n",
       "<thead><tr><th scope=col>Sepal.Length</th><th scope=col>Petal.Length</th><th scope=col>Species</th></tr></thead>\n",
       "<tbody>\n",
       "\t<tr><td>5.1   </td><td>1.4   </td><td>setosa</td></tr>\n",
       "\t<tr><td>4.9   </td><td>1.4   </td><td>setosa</td></tr>\n",
       "\t<tr><td>4.7   </td><td>1.3   </td><td>setosa</td></tr>\n",
       "\t<tr><td>4.6   </td><td>1.5   </td><td>setosa</td></tr>\n",
       "\t<tr><td>5.0   </td><td>1.4   </td><td>setosa</td></tr>\n",
       "\t<tr><td>5.4   </td><td>1.7   </td><td>setosa</td></tr>\n",
       "\t<tr><td>4.6   </td><td>1.4   </td><td>setosa</td></tr>\n",
       "\t<tr><td>5.0   </td><td>1.5   </td><td>setosa</td></tr>\n",
       "\t<tr><td>4.4   </td><td>1.4   </td><td>setosa</td></tr>\n",
       "\t<tr><td>4.9   </td><td>1.5   </td><td>setosa</td></tr>\n",
       "\t<tr><td>5.4   </td><td>1.5   </td><td>setosa</td></tr>\n",
       "\t<tr><td>4.8   </td><td>1.6   </td><td>setosa</td></tr>\n",
       "\t<tr><td>4.8   </td><td>1.4   </td><td>setosa</td></tr>\n",
       "\t<tr><td>4.3   </td><td>1.1   </td><td>setosa</td></tr>\n",
       "\t<tr><td>5.8   </td><td>1.2   </td><td>setosa</td></tr>\n",
       "\t<tr><td>5.7   </td><td>1.5   </td><td>setosa</td></tr>\n",
       "\t<tr><td>5.4   </td><td>1.3   </td><td>setosa</td></tr>\n",
       "\t<tr><td>5.1   </td><td>1.4   </td><td>setosa</td></tr>\n",
       "\t<tr><td>5.7   </td><td>1.7   </td><td>setosa</td></tr>\n",
       "\t<tr><td>5.1   </td><td>1.5   </td><td>setosa</td></tr>\n",
       "\t<tr><td>5.4   </td><td>1.7   </td><td>setosa</td></tr>\n",
       "\t<tr><td>5.1   </td><td>1.5   </td><td>setosa</td></tr>\n",
       "\t<tr><td>4.6   </td><td>1.0   </td><td>setosa</td></tr>\n",
       "\t<tr><td>5.1   </td><td>1.7   </td><td>setosa</td></tr>\n",
       "\t<tr><td>4.8   </td><td>1.9   </td><td>setosa</td></tr>\n",
       "\t<tr><td>5.0   </td><td>1.6   </td><td>setosa</td></tr>\n",
       "\t<tr><td>5.0   </td><td>1.6   </td><td>setosa</td></tr>\n",
       "\t<tr><td>5.2   </td><td>1.5   </td><td>setosa</td></tr>\n",
       "\t<tr><td>5.2   </td><td>1.4   </td><td>setosa</td></tr>\n",
       "\t<tr><td>4.7   </td><td>1.6   </td><td>setosa</td></tr>\n",
       "\t<tr><td>...</td><td>...</td><td>...</td></tr>\n",
       "\t<tr><td>6.9      </td><td>5.7      </td><td>virginica</td></tr>\n",
       "\t<tr><td>5.6      </td><td>4.9      </td><td>virginica</td></tr>\n",
       "\t<tr><td>7.7      </td><td>6.7      </td><td>virginica</td></tr>\n",
       "\t<tr><td>6.3      </td><td>4.9      </td><td>virginica</td></tr>\n",
       "\t<tr><td>6.7      </td><td>5.7      </td><td>virginica</td></tr>\n",
       "\t<tr><td>7.2      </td><td>6.0      </td><td>virginica</td></tr>\n",
       "\t<tr><td>6.2      </td><td>4.8      </td><td>virginica</td></tr>\n",
       "\t<tr><td>6.1      </td><td>4.9      </td><td>virginica</td></tr>\n",
       "\t<tr><td>6.4      </td><td>5.6      </td><td>virginica</td></tr>\n",
       "\t<tr><td>7.2      </td><td>5.8      </td><td>virginica</td></tr>\n",
       "\t<tr><td>7.4      </td><td>6.1      </td><td>virginica</td></tr>\n",
       "\t<tr><td>7.9      </td><td>6.4      </td><td>virginica</td></tr>\n",
       "\t<tr><td>6.4      </td><td>5.6      </td><td>virginica</td></tr>\n",
       "\t<tr><td>6.3      </td><td>5.1      </td><td>virginica</td></tr>\n",
       "\t<tr><td>6.1      </td><td>5.6      </td><td>virginica</td></tr>\n",
       "\t<tr><td>7.7      </td><td>6.1      </td><td>virginica</td></tr>\n",
       "\t<tr><td>6.3      </td><td>5.6      </td><td>virginica</td></tr>\n",
       "\t<tr><td>6.4      </td><td>5.5      </td><td>virginica</td></tr>\n",
       "\t<tr><td>6.0      </td><td>4.8      </td><td>virginica</td></tr>\n",
       "\t<tr><td>6.9      </td><td>5.4      </td><td>virginica</td></tr>\n",
       "\t<tr><td>6.7      </td><td>5.6      </td><td>virginica</td></tr>\n",
       "\t<tr><td>6.9      </td><td>5.1      </td><td>virginica</td></tr>\n",
       "\t<tr><td>5.8      </td><td>5.1      </td><td>virginica</td></tr>\n",
       "\t<tr><td>6.8      </td><td>5.9      </td><td>virginica</td></tr>\n",
       "\t<tr><td>6.7      </td><td>5.7      </td><td>virginica</td></tr>\n",
       "\t<tr><td>6.7      </td><td>5.2      </td><td>virginica</td></tr>\n",
       "\t<tr><td>6.3      </td><td>5.0      </td><td>virginica</td></tr>\n",
       "\t<tr><td>6.5      </td><td>5.2      </td><td>virginica</td></tr>\n",
       "\t<tr><td>6.2      </td><td>5.4      </td><td>virginica</td></tr>\n",
       "\t<tr><td>5.9      </td><td>5.1      </td><td>virginica</td></tr>\n",
       "</tbody>\n",
       "</table>\n"
      ],
      "text/latex": [
       "\\begin{tabular}{r|lll}\n",
       " Sepal.Length & Petal.Length & Species\\\\\n",
       "\\hline\n",
       "\t 5.1    & 1.4    & setosa\\\\\n",
       "\t 4.9    & 1.4    & setosa\\\\\n",
       "\t 4.7    & 1.3    & setosa\\\\\n",
       "\t 4.6    & 1.5    & setosa\\\\\n",
       "\t 5.0    & 1.4    & setosa\\\\\n",
       "\t 5.4    & 1.7    & setosa\\\\\n",
       "\t 4.6    & 1.4    & setosa\\\\\n",
       "\t 5.0    & 1.5    & setosa\\\\\n",
       "\t 4.4    & 1.4    & setosa\\\\\n",
       "\t 4.9    & 1.5    & setosa\\\\\n",
       "\t 5.4    & 1.5    & setosa\\\\\n",
       "\t 4.8    & 1.6    & setosa\\\\\n",
       "\t 4.8    & 1.4    & setosa\\\\\n",
       "\t 4.3    & 1.1    & setosa\\\\\n",
       "\t 5.8    & 1.2    & setosa\\\\\n",
       "\t 5.7    & 1.5    & setosa\\\\\n",
       "\t 5.4    & 1.3    & setosa\\\\\n",
       "\t 5.1    & 1.4    & setosa\\\\\n",
       "\t 5.7    & 1.7    & setosa\\\\\n",
       "\t 5.1    & 1.5    & setosa\\\\\n",
       "\t 5.4    & 1.7    & setosa\\\\\n",
       "\t 5.1    & 1.5    & setosa\\\\\n",
       "\t 4.6    & 1.0    & setosa\\\\\n",
       "\t 5.1    & 1.7    & setosa\\\\\n",
       "\t 4.8    & 1.9    & setosa\\\\\n",
       "\t 5.0    & 1.6    & setosa\\\\\n",
       "\t 5.0    & 1.6    & setosa\\\\\n",
       "\t 5.2    & 1.5    & setosa\\\\\n",
       "\t 5.2    & 1.4    & setosa\\\\\n",
       "\t 4.7    & 1.6    & setosa\\\\\n",
       "\t ... & ... & ...\\\\\n",
       "\t 6.9       & 5.7       & virginica\\\\\n",
       "\t 5.6       & 4.9       & virginica\\\\\n",
       "\t 7.7       & 6.7       & virginica\\\\\n",
       "\t 6.3       & 4.9       & virginica\\\\\n",
       "\t 6.7       & 5.7       & virginica\\\\\n",
       "\t 7.2       & 6.0       & virginica\\\\\n",
       "\t 6.2       & 4.8       & virginica\\\\\n",
       "\t 6.1       & 4.9       & virginica\\\\\n",
       "\t 6.4       & 5.6       & virginica\\\\\n",
       "\t 7.2       & 5.8       & virginica\\\\\n",
       "\t 7.4       & 6.1       & virginica\\\\\n",
       "\t 7.9       & 6.4       & virginica\\\\\n",
       "\t 6.4       & 5.6       & virginica\\\\\n",
       "\t 6.3       & 5.1       & virginica\\\\\n",
       "\t 6.1       & 5.6       & virginica\\\\\n",
       "\t 7.7       & 6.1       & virginica\\\\\n",
       "\t 6.3       & 5.6       & virginica\\\\\n",
       "\t 6.4       & 5.5       & virginica\\\\\n",
       "\t 6.0       & 4.8       & virginica\\\\\n",
       "\t 6.9       & 5.4       & virginica\\\\\n",
       "\t 6.7       & 5.6       & virginica\\\\\n",
       "\t 6.9       & 5.1       & virginica\\\\\n",
       "\t 5.8       & 5.1       & virginica\\\\\n",
       "\t 6.8       & 5.9       & virginica\\\\\n",
       "\t 6.7       & 5.7       & virginica\\\\\n",
       "\t 6.7       & 5.2       & virginica\\\\\n",
       "\t 6.3       & 5.0       & virginica\\\\\n",
       "\t 6.5       & 5.2       & virginica\\\\\n",
       "\t 6.2       & 5.4       & virginica\\\\\n",
       "\t 5.9       & 5.1       & virginica\\\\\n",
       "\\end{tabular}\n"
      ],
      "text/markdown": [
       "\n",
       "| Sepal.Length | Petal.Length | Species |\n",
       "|---|---|---|\n",
       "| 5.1    | 1.4    | setosa |\n",
       "| 4.9    | 1.4    | setosa |\n",
       "| 4.7    | 1.3    | setosa |\n",
       "| 4.6    | 1.5    | setosa |\n",
       "| 5.0    | 1.4    | setosa |\n",
       "| 5.4    | 1.7    | setosa |\n",
       "| 4.6    | 1.4    | setosa |\n",
       "| 5.0    | 1.5    | setosa |\n",
       "| 4.4    | 1.4    | setosa |\n",
       "| 4.9    | 1.5    | setosa |\n",
       "| 5.4    | 1.5    | setosa |\n",
       "| 4.8    | 1.6    | setosa |\n",
       "| 4.8    | 1.4    | setosa |\n",
       "| 4.3    | 1.1    | setosa |\n",
       "| 5.8    | 1.2    | setosa |\n",
       "| 5.7    | 1.5    | setosa |\n",
       "| 5.4    | 1.3    | setosa |\n",
       "| 5.1    | 1.4    | setosa |\n",
       "| 5.7    | 1.7    | setosa |\n",
       "| 5.1    | 1.5    | setosa |\n",
       "| 5.4    | 1.7    | setosa |\n",
       "| 5.1    | 1.5    | setosa |\n",
       "| 4.6    | 1.0    | setosa |\n",
       "| 5.1    | 1.7    | setosa |\n",
       "| 4.8    | 1.9    | setosa |\n",
       "| 5.0    | 1.6    | setosa |\n",
       "| 5.0    | 1.6    | setosa |\n",
       "| 5.2    | 1.5    | setosa |\n",
       "| 5.2    | 1.4    | setosa |\n",
       "| 4.7    | 1.6    | setosa |\n",
       "| ... | ... | ... |\n",
       "| 6.9       | 5.7       | virginica |\n",
       "| 5.6       | 4.9       | virginica |\n",
       "| 7.7       | 6.7       | virginica |\n",
       "| 6.3       | 4.9       | virginica |\n",
       "| 6.7       | 5.7       | virginica |\n",
       "| 7.2       | 6.0       | virginica |\n",
       "| 6.2       | 4.8       | virginica |\n",
       "| 6.1       | 4.9       | virginica |\n",
       "| 6.4       | 5.6       | virginica |\n",
       "| 7.2       | 5.8       | virginica |\n",
       "| 7.4       | 6.1       | virginica |\n",
       "| 7.9       | 6.4       | virginica |\n",
       "| 6.4       | 5.6       | virginica |\n",
       "| 6.3       | 5.1       | virginica |\n",
       "| 6.1       | 5.6       | virginica |\n",
       "| 7.7       | 6.1       | virginica |\n",
       "| 6.3       | 5.6       | virginica |\n",
       "| 6.4       | 5.5       | virginica |\n",
       "| 6.0       | 4.8       | virginica |\n",
       "| 6.9       | 5.4       | virginica |\n",
       "| 6.7       | 5.6       | virginica |\n",
       "| 6.9       | 5.1       | virginica |\n",
       "| 5.8       | 5.1       | virginica |\n",
       "| 6.8       | 5.9       | virginica |\n",
       "| 6.7       | 5.7       | virginica |\n",
       "| 6.7       | 5.2       | virginica |\n",
       "| 6.3       | 5.0       | virginica |\n",
       "| 6.5       | 5.2       | virginica |\n",
       "| 6.2       | 5.4       | virginica |\n",
       "| 5.9       | 5.1       | virginica |\n",
       "\n"
      ],
      "text/plain": [
       "    Sepal.Length Petal.Length Species  \n",
       "1   5.1          1.4          setosa   \n",
       "2   4.9          1.4          setosa   \n",
       "3   4.7          1.3          setosa   \n",
       "4   4.6          1.5          setosa   \n",
       "5   5.0          1.4          setosa   \n",
       "6   5.4          1.7          setosa   \n",
       "7   4.6          1.4          setosa   \n",
       "8   5.0          1.5          setosa   \n",
       "9   4.4          1.4          setosa   \n",
       "10  4.9          1.5          setosa   \n",
       "11  5.4          1.5          setosa   \n",
       "12  4.8          1.6          setosa   \n",
       "13  4.8          1.4          setosa   \n",
       "14  4.3          1.1          setosa   \n",
       "15  5.8          1.2          setosa   \n",
       "16  5.7          1.5          setosa   \n",
       "17  5.4          1.3          setosa   \n",
       "18  5.1          1.4          setosa   \n",
       "19  5.7          1.7          setosa   \n",
       "20  5.1          1.5          setosa   \n",
       "21  5.4          1.7          setosa   \n",
       "22  5.1          1.5          setosa   \n",
       "23  4.6          1.0          setosa   \n",
       "24  5.1          1.7          setosa   \n",
       "25  4.8          1.9          setosa   \n",
       "26  5.0          1.6          setosa   \n",
       "27  5.0          1.6          setosa   \n",
       "28  5.2          1.5          setosa   \n",
       "29  5.2          1.4          setosa   \n",
       "30  4.7          1.6          setosa   \n",
       "... ...          ...          ...      \n",
       "121 6.9          5.7          virginica\n",
       "122 5.6          4.9          virginica\n",
       "123 7.7          6.7          virginica\n",
       "124 6.3          4.9          virginica\n",
       "125 6.7          5.7          virginica\n",
       "126 7.2          6.0          virginica\n",
       "127 6.2          4.8          virginica\n",
       "128 6.1          4.9          virginica\n",
       "129 6.4          5.6          virginica\n",
       "130 7.2          5.8          virginica\n",
       "131 7.4          6.1          virginica\n",
       "132 7.9          6.4          virginica\n",
       "133 6.4          5.6          virginica\n",
       "134 6.3          5.1          virginica\n",
       "135 6.1          5.6          virginica\n",
       "136 7.7          6.1          virginica\n",
       "137 6.3          5.6          virginica\n",
       "138 6.4          5.5          virginica\n",
       "139 6.0          4.8          virginica\n",
       "140 6.9          5.4          virginica\n",
       "141 6.7          5.6          virginica\n",
       "142 6.9          5.1          virginica\n",
       "143 5.8          5.1          virginica\n",
       "144 6.8          5.9          virginica\n",
       "145 6.7          5.7          virginica\n",
       "146 6.7          5.2          virginica\n",
       "147 6.3          5.0          virginica\n",
       "148 6.5          5.2          virginica\n",
       "149 6.2          5.4          virginica\n",
       "150 5.9          5.1          virginica"
      ]
     },
     "metadata": {},
     "output_type": "display_data"
    }
   ],
   "source": [
    "iris[,c(1,3,5)]\n",
    "# anuncios_manova"
   ]
  },
  {
   "cell_type": "markdown",
   "metadata": {},
   "source": [
    "# [Statmethods](https://www.statmethods.net/stats/anova.html)"
   ]
  },
  {
   "cell_type": "code",
   "execution_count": 12,
   "metadata": {},
   "outputs": [
    {
     "ename": "ERROR",
     "evalue": "Error in cbind(y1, y2, y3): objeto 'y1' no encontrado\n",
     "output_type": "error",
     "traceback": [
      "Error in cbind(y1, y2, y3): objeto 'y1' no encontrado\nTraceback:\n",
      "1. cbind(y1, y2, y3)"
     ]
    }
   ],
   "source": [
    "Y <- cbind(y1,y2,y3)\n",
    "fit <- manova(Y ~ A*B)\n",
    "summary(fit, test=\"Pillai\")"
   ]
  }
 ],
 "metadata": {
  "kernelspec": {
   "display_name": "R",
   "language": "R",
   "name": "ir"
  },
  "language_info": {
   "codemirror_mode": "r",
   "file_extension": ".r",
   "mimetype": "text/x-r-source",
   "name": "R",
   "pygments_lexer": "r",
   "version": "3.5.2"
  }
 },
 "nbformat": 4,
 "nbformat_minor": 4
}
