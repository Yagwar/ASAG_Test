{
 "cells": [
  {
   "cell_type": "code",
   "execution_count": 1,
   "metadata": {},
   "outputs": [],
   "source": [
    "import pandas as pd\n",
    "import numpy as np\n",
    "import glob\n",
    "\n",
    "import xml.etree.ElementTree as ET"
   ]
  },
  {
   "cell_type": "code",
   "execution_count": 2,
   "metadata": {},
   "outputs": [],
   "source": [
    "routes=[\"dataset/sciEntsBank/*.xml\",\"dataset/beetle/*.xml\"]\n",
    "dataset=[\"SciEntsBank\",\"Beetle\"]"
   ]
  },
  {
   "cell_type": "code",
   "execution_count": 3,
   "metadata": {},
   "outputs": [
    {
     "data": {
      "text/plain": [
       "22167"
      ]
     },
     "execution_count": 3,
     "metadata": {},
     "output_type": "execute_result"
    }
   ],
   "source": [
    "quest_ans=[]\n",
    "\n",
    "for i_dtst,path in enumerate(routes):\n",
    "    files = glob.glob(path)\n",
    "    for name in files:\n",
    "        tree = ET.parse(name)\n",
    "        root = tree.getroot()\n",
    "        dtset=dataset[i_dtst]\n",
    "        quest_id=root.attrib[\"id\"]\n",
    "        question=root[0].text\n",
    "        try:\n",
    "            qtype=root.attrib[\"qtype\"]\n",
    "        except:\n",
    "            qtype=None\n",
    "        try:\n",
    "            stype=root.attrib[\"stype\"]\n",
    "        except:\n",
    "            stype=None\n",
    "        \n",
    "        grade_st=[branch.attrib[\"accuracy\"] for branch in root[2]]\n",
    "        answers_st=[branch.text for branch in root[2]]\n",
    "        answers_ref=[branch.text for branch in root[1]]# If there are more of 1 reference answer it will give an array of an answers. Make sure you integrate it before processing\n",
    "        for ith_ans,st_answ in enumerate(answers_st):\n",
    "            for ith_ref_ans,ref_ans in enumerate(answers_ref):\n",
    "                st_ans_calif=(grade_st[ith_ans]==\"correct\")*1\n",
    "                quest_ans.append([dtset,qtype,stype,quest_id,question,ref_ans,st_answ,st_ans_calif])\n",
    "\n",
    "len(quest_ans)"
   ]
  },
  {
   "cell_type": "code",
   "execution_count": 22,
   "metadata": {},
   "outputs": [
    {
     "data": {
      "text/plain": [
       "['SciEntsBank',\n",
       " None,\n",
       " None,\n",
       " 'SE_46',\n",
       " \"Amber predicted that a black covered box would heat up faster than a white covered box. She took 2 identical shoe boxes and wrapped one with white paper and the other with black paper. She punched a hole in each box, stuck a thermometer into each hole, and put both boxes in the sun. Every 5 minutes, Amber recorded the temperature in each box. Will the data support Amber's prediction? Explain your answer.\",\n",
       " 'Yes. Black absorbs more heat (energy) than white. White reflects more heat (energy) than black. Therefore the black covered box will heat up faster than the white covered box.',\n",
       " 'Yes. Because black heats up faster and white reflects.',\n",
       " 1]"
      ]
     },
     "execution_count": 22,
     "metadata": {},
     "output_type": "execute_result"
    }
   ],
   "source": [
    "quest_ans[4245]"
   ]
  },
  {
   "cell_type": "code",
   "execution_count": 4,
   "metadata": {},
   "outputs": [
    {
     "data": {
      "text/plain": [
       "(22167, 8)"
      ]
     },
     "execution_count": 4,
     "metadata": {},
     "output_type": "execute_result"
    }
   ],
   "source": [
    "vars_table=[\"dtset\",\"qtype\",\"stype\",\"quest_id\",\"question\",\"ref_ans\",\"st_answ\",\"st_ans_calif\"]\n",
    "answers=pd.DataFrame(quest_ans, columns=vars_table)\n",
    "answers.shape"
   ]
  },
  {
   "cell_type": "code",
   "execution_count": 29,
   "metadata": {},
   "outputs": [],
   "source": [
    "answers.to_csv(\"answers.csv\", sep=\";\")"
   ]
  },
  {
   "cell_type": "code",
   "execution_count": null,
   "metadata": {},
   "outputs": [],
   "source": []
  },
  {
   "cell_type": "code",
   "execution_count": 20,
   "metadata": {},
   "outputs": [],
   "source": [
    "tst_ans=answers.sample(1)"
   ]
  },
  {
   "cell_type": "code",
   "execution_count": 21,
   "metadata": {},
   "outputs": [
    {
     "data": {
      "text/html": [
       "<div>\n",
       "<style scoped>\n",
       "    .dataframe tbody tr th:only-of-type {\n",
       "        vertical-align: middle;\n",
       "    }\n",
       "\n",
       "    .dataframe tbody tr th {\n",
       "        vertical-align: top;\n",
       "    }\n",
       "\n",
       "    .dataframe thead th {\n",
       "        text-align: right;\n",
       "    }\n",
       "</style>\n",
       "<table border=\"1\" class=\"dataframe\">\n",
       "  <thead>\n",
       "    <tr style=\"text-align: right;\">\n",
       "      <th></th>\n",
       "      <th>dtset</th>\n",
       "      <th>qtype</th>\n",
       "      <th>stype</th>\n",
       "      <th>quest_id</th>\n",
       "      <th>question</th>\n",
       "      <th>ref_ans</th>\n",
       "      <th>st_answ</th>\n",
       "      <th>st_ans_calif</th>\n",
       "    </tr>\n",
       "  </thead>\n",
       "  <tbody>\n",
       "    <tr>\n",
       "      <th>4245</th>\n",
       "      <td>SciEntsBank</td>\n",
       "      <td>None</td>\n",
       "      <td>None</td>\n",
       "      <td>SE_46</td>\n",
       "      <td>Amber predicted that a black covered box would...</td>\n",
       "      <td>Yes. Black absorbs more heat (energy) than whi...</td>\n",
       "      <td>Yes. Because black heats up faster and white r...</td>\n",
       "      <td>1</td>\n",
       "    </tr>\n",
       "  </tbody>\n",
       "</table>\n",
       "</div>"
      ],
      "text/plain": [
       "            dtset qtype stype quest_id  \\\n",
       "4245  SciEntsBank  None  None    SE_46   \n",
       "\n",
       "                                               question  \\\n",
       "4245  Amber predicted that a black covered box would...   \n",
       "\n",
       "                                                ref_ans  \\\n",
       "4245  Yes. Black absorbs more heat (energy) than whi...   \n",
       "\n",
       "                                                st_answ  st_ans_calif  \n",
       "4245  Yes. Because black heats up faster and white r...             1  "
      ]
     },
     "execution_count": 21,
     "metadata": {},
     "output_type": "execute_result"
    }
   ],
   "source": [
    "tst_ans"
   ]
  },
  {
   "cell_type": "code",
   "execution_count": 17,
   "metadata": {},
   "outputs": [
    {
     "data": {
      "text/plain": [
       "['dtset',\n",
       " 'qtype',\n",
       " 'stype',\n",
       " 'quest_id',\n",
       " 'question',\n",
       " 'ref_ans',\n",
       " 'st_answ',\n",
       " 'st_ans_calif']"
      ]
     },
     "execution_count": 17,
     "metadata": {},
     "output_type": "execute_result"
    }
   ],
   "source": [
    "[dat for dat in tst_ans]"
   ]
  },
  {
   "cell_type": "code",
   "execution_count": 28,
   "metadata": {},
   "outputs": [
    {
     "data": {
      "text/plain": [
       "[\"Amber predicted that a black covered box would heat up faster than a white covered box. She took 2 identical shoe boxes and wrapped one with white paper and the other with black paper. She punched a hole in each box, stuck a thermometer into each hole, and put both boxes in the sun. Every 5 minutes, Amber recorded the temperature in each box. Will the data support Amber's prediction? Explain your answer.\"]"
      ]
     },
     "execution_count": 28,
     "metadata": {},
     "output_type": "execute_result"
    }
   ],
   "source": [
    "list(tst_ans.question)"
   ]
  }
 ],
 "metadata": {
  "kernelspec": {
   "display_name": "Python 3",
   "language": "python",
   "name": "python3"
  },
  "language_info": {
   "codemirror_mode": {
    "name": "ipython",
    "version": 3
   },
   "file_extension": ".py",
   "mimetype": "text/x-python",
   "name": "python",
   "nbconvert_exporter": "python",
   "pygments_lexer": "ipython3",
   "version": "3.7.1"
  }
 },
 "nbformat": 4,
 "nbformat_minor": 2
}
