{
 "cells": [
  {
   "cell_type": "code",
   "execution_count": 1,
   "metadata": {},
   "outputs": [],
   "source": [
    "import pandas as pd\n",
    "import numpy as np\n",
    "import glob\n",
    "\n",
    "import xml.etree.ElementTree as ET"
   ]
  },
  {
   "cell_type": "code",
   "execution_count": 2,
   "metadata": {},
   "outputs": [],
   "source": [
    "def dataset_xml_reader(routes, dataset):\n",
    "    quest_ans=[]\n",
    "\n",
    "    for i_dtst,path in enumerate(routes):\n",
    "        files = glob.glob(path)\n",
    "        for name in files:\n",
    "            tree = ET.parse(name)\n",
    "            root = tree.getroot()\n",
    "            dtset=dataset[i_dtst]\n",
    "            quest_id=root.attrib[\"id\"]\n",
    "            question=root[0].text\n",
    "            try:\n",
    "                qtype=root.attrib[\"qtype\"]\n",
    "            except:\n",
    "                qtype=None\n",
    "            try:\n",
    "                stype=root.attrib[\"stype\"]\n",
    "            except:\n",
    "                stype=None\n",
    "\n",
    "            grade_st=[branch.attrib[\"accuracy\"] for branch in root[2]]\n",
    "            id_st=[branch.attrib[\"id\"] for branch in root[2]]\n",
    "            answers_st=[branch.text for branch in root[2]]\n",
    "            answers_ref=[branch.text for branch in root[1]]# If there are more of 1 reference answer it will give an array of an answers. Make sure you integrate it before processing\n",
    "            for ith_ans,st_answ in enumerate(answers_st):\n",
    "                for ith_ref_ans,ref_ans in enumerate(answers_ref):\n",
    "                    st_ans_calif=(grade_st[ith_ans]==\"correct\")*1\n",
    "                    quest_ans.append([dtset,qtype,stype,quest_id,question,ref_ans,st_answ,id_st[ith_ans],st_ans_calif])\n",
    "\n",
    "    return(quest_ans)"
   ]
  },
  {
   "cell_type": "markdown",
   "metadata": {},
   "source": [
    "# Trainning Dataset"
   ]
  },
  {
   "cell_type": "code",
   "execution_count": 3,
   "metadata": {},
   "outputs": [],
   "source": [
    "routes_train=[\"dataset/training/2way/sciEntsBank/*.xml\",\"dataset/training/2way/beetle/*.xml\"]\n",
    "dataset_train=[\"TRAIN SciEntsBank\",\"TRAIN Beetle\"]"
   ]
  },
  {
   "cell_type": "code",
   "execution_count": 4,
   "metadata": {},
   "outputs": [],
   "source": [
    "train_quest_ans=dataset_xml_reader(routes_train,dataset_train)"
   ]
  },
  {
   "cell_type": "code",
   "execution_count": 5,
   "metadata": {},
   "outputs": [
    {
     "data": {
      "text/plain": [
       "(22167, 9)"
      ]
     },
     "execution_count": 5,
     "metadata": {},
     "output_type": "execute_result"
    }
   ],
   "source": [
    "vars_table=[\"dtset\",\"qtype\",\"stype\",\"quest_id\",\"question\",\"ref_ans\",\"st_answ\",\"id_st\",\"st_ans_calif\"]\n",
    "answers=pd.DataFrame(train_quest_ans, columns=vars_table)\n",
    "answers.shape"
   ]
  },
  {
   "cell_type": "code",
   "execution_count": 6,
   "metadata": {},
   "outputs": [],
   "source": [
    "answers.to_csv(\"train_answers.csv\", sep=\";\")"
   ]
  },
  {
   "cell_type": "markdown",
   "metadata": {},
   "source": [
    "# Evaluation Dataset"
   ]
  },
  {
   "cell_type": "code",
   "execution_count": 7,
   "metadata": {},
   "outputs": [],
   "source": [
    "test_routes=[\"dataset/test/2way/sciEntsBank/test-unseen-answers/*.xml\",\n",
    "             \"dataset/test/2way/sciEntsBank/test-unseen-domains/*.xml\",\n",
    "             \"dataset/test/2way/sciEntsBank/test-unseen-questions/*.xml\",\n",
    "             \"dataset/test/2way/beetle/test-unseen-answers/*.xml\",\n",
    "             \"dataset/test/2way/beetle/test-unseen-questions/*.xml\"]\n",
    "test_datasets=[\"TEST sciEntsBank Unseen Answers\",\n",
    "               \"TEST sciEntsBank Unseen Domains\",\n",
    "               \"TEST sciEntsBank Unseen Questions\",\n",
    "               \"TEST Beetle Unseen Answers\",\n",
    "               \"TEST Beetle Unseen Questions\"]"
   ]
  },
  {
   "cell_type": "code",
   "execution_count": 8,
   "metadata": {},
   "outputs": [],
   "source": [
    "test_quest_ans=dataset_xml_reader(test_routes,test_datasets)"
   ]
  },
  {
   "cell_type": "code",
   "execution_count": 9,
   "metadata": {},
   "outputs": [
    {
     "data": {
      "text/plain": [
       "(11596, 9)"
      ]
     },
     "execution_count": 9,
     "metadata": {},
     "output_type": "execute_result"
    }
   ],
   "source": [
    "test_answers=pd.DataFrame(test_quest_ans, columns=vars_table)\n",
    "test_answers.shape"
   ]
  },
  {
   "cell_type": "code",
   "execution_count": 10,
   "metadata": {},
   "outputs": [],
   "source": [
    "test_answers.to_csv(\"test_answers.csv\", sep=\";\")"
   ]
  }
 ],
 "metadata": {
  "kernelspec": {
   "display_name": "Python 3",
   "language": "python",
   "name": "python3"
  },
  "language_info": {
   "codemirror_mode": {
    "name": "ipython",
    "version": 3
   },
   "file_extension": ".py",
   "mimetype": "text/x-python",
   "name": "python",
   "nbconvert_exporter": "python",
   "pygments_lexer": "ipython3",
   "version": "3.7.1"
  }
 },
 "nbformat": 4,
 "nbformat_minor": 2
}
