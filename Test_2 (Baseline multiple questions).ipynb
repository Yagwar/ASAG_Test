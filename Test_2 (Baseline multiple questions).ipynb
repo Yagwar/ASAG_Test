{
 "cells": [
  {
   "cell_type": "markdown",
   "metadata": {},
   "source": [
    "# Automatic Short Answer Grading\n",
    "\n",
    "Calificación de una base de preguntas dataset de semeval'13\n"
   ]
  },
  {
   "cell_type": "code",
   "execution_count": 13,
   "metadata": {
    "collapsed": false
   },
   "outputs": [],
   "source": [
    "# Libraries\n",
    "import random\n",
    "import sys\n",
    "import xml.etree.ElementTree as ET\n",
    "#import sswe\n",
    "import pandas as pd\n",
    "import numpy as np\n",
    "import keras\n",
    "import theano\n",
    "import nltk\n",
    "import matplotlib.pyplot as plt\n",
    "%matplotlib inline\n",
    "from sklearn.cross_validation import train_test_split\n",
    "from scipy.spatial import distance\n",
    "from sklearn.metrics import accuracy_score\n",
    "\n",
    "\n",
    "# Text\n",
    "import gensim, logging\n",
    "from nltk.tokenize import word_tokenize\n",
    "from sklearn.cross_validation import StratifiedKFold\n",
    "from sklearn.metrics import f1_score as f1\n",
    "from sklearn import cross_validation\n",
    "import re\n",
    "from nltk.util import ngrams\n",
    "from collections import *\n",
    "from sklearn.preprocessing import StandardScaler\n",
    "from sklearn.feature_extraction.text import CountVectorizer, TfidfTransformer\n",
    "from gensim.models import Doc2Vec\n",
    "from gensim.models.keyedvectors import KeyedVectors# Ubuntu@Wolf\n",
    "\n",
    "\n",
    "\n",
    "# Clasifiers\n",
    "from sklearn.naive_bayes import GaussianNB\n",
    "from sklearn.linear_model import LogisticRegression\n",
    "from sklearn.ensemble import RandomForestClassifier\n",
    "from sklearn.svm import LinearSVC\n",
    "from sklearn import svm\n",
    "from sklearn.linear_model import SGDClassifier\n",
    "\n",
    "\n",
    "# LSTM \n",
    "from __future__ import print_function\n",
    "from keras.models import Sequential\n",
    "from keras.layers import Dense, Activation, Dropout\n",
    "from keras.layers import LSTM\n",
    "from keras.optimizers import RMSprop\n",
    "from keras.utils.data_utils import get_file\n",
    "from keras.layers.wrappers import TimeDistributed\n",
    "from keras.preprocessing import sequence\n",
    "\n",
    "# xml reader\n",
    "import glob"
   ]
  },
  {
   "cell_type": "markdown",
   "metadata": {},
   "source": [
    "https://docs.continuum.io/anaconda/license-installation#nix-license"
   ]
  },
  {
   "cell_type": "code",
   "execution_count": 4,
   "metadata": {
    "collapsed": false,
    "scrolled": true
   },
   "outputs": [
    {
     "name": "stdout",
     "output_type": "stream",
     "text": [
      "135\n"
     ]
    }
   ],
   "source": [
    "path_prep_files = 'Training/' # 2-way scientist dataset (trainning)\n",
    "all_files =  glob.glob(path_prep_files+'*.xml')\n",
    "print (len(all_files))\n",
    "#(all_files)\n",
    "#token_arr = []\n",
    "#path = 'Training/'"
   ]
  },
  {
   "cell_type": "code",
   "execution_count": 3,
   "metadata": {
    "collapsed": false
   },
   "outputs": [],
   "source": [
    "#tree = ET.parse('Training/LF-inv1-39.xml')\n",
    "#root = tree.getroot()\n",
    "#question=root[0].text\n",
    "#grade_st=[branch.attrib[\"accuracy\"] for branch in root[2]]\n",
    "#answers_st=[branch.text for branch in root[2]]\n",
    "#answers_ref=[branch.text for branch in root[1]]### If there are more of 1 reference answer it will give an array of an answers. Make sure you integrate it before processing"
   ]
  },
  {
   "cell_type": "code",
   "execution_count": 15,
   "metadata": {
    "collapsed": false
   },
   "outputs": [],
   "source": [
    "# Word2vec\n",
    "#_fname = \"/home/aecarrillor/ASAG/GoogleNews-vectors-negative300.bin\"# Servidor Lisi Unal\n",
    "#w2vModel = Doc2Vec.load_word2vec_format(_fname, binary=True)# Servidor Lisi Unal\n",
    "_fname = \"/home/yagwar/data/GoogleNews-vectors-negative300.bin\"# Ubuntu@Wolf\n",
    "w2vModel = KeyedVectors.load_word2vec_format(_fname, binary=True)# Ubuntu@Wolf"
   ]
  },
  {
   "cell_type": "markdown",
   "metadata": {},
   "source": [
    "## Medidas de desempeño\n",
    "\n",
    "### Visualizaciones\n",
    "- http://scikit-learn.org/stable/modules/model_evaluation.html\n",
    "- Curva ROC\n",
    "- Matriz de confusión.\n",
    "\n",
    "\n",
    "### Scikit-learn basics\n",
    "\n",
    "- Proporción de aciertos (score)\n",
    "- F1 measure\n",
    "\n",
    "### Semeval'13 Task 7\n",
    "- \n",
    "\n"
   ]
  },
  {
   "cell_type": "markdown",
   "metadata": {},
   "source": [
    "# Approach 1 \n",
    "### Combinar respuesta, con respuesta de referencia y pregunta en un solovector de embeddings. Luego correr los clasificadores (evaluar desempeño...)"
   ]
  },
  {
   "cell_type": "code",
   "execution_count": 16,
   "metadata": {
    "collapsed": false,
    "scrolled": false
   },
   "outputs": [],
   "source": [
    "# crear array con id de pregunta, textos combinados y calificación.\n",
    "\n",
    "id_question=[]# Identificador de la pregunta (etiqueta de clase).\n",
    "calif=[]# Marca de criterio.\n",
    "quest=[]#Pregunta.\n",
    "ref_answer=[]#Respuesta de referencia.\n",
    "stud_answ=[]#Respuesta de estudiante.\n",
    "#text_data=[]#pregunta + resp refer + resp est.\n",
    "#txdt_Pr_REst=[]#Pregunta + Resp Estudiante.\n",
    "#txdt_RRef_REst=[]#Pregunta + Resp Estudiante.\n",
    "\n",
    "for doc in all_files:\n",
    "    tree = ET.parse(doc)\n",
    "    root = tree.getroot()\n",
    "    question=root[0].text\n",
    "    grade_st=[branch.attrib[\"accuracy\"] for branch in root[2]]\n",
    "    answers_st=[branch.text for branch in root[2]]\n",
    "    answers_ref=[branch.text for branch in root[1]]# If there are more of 1 reference answer it will give an array of an answers. Make sure you integrate it before processing\n",
    "    for ith_ans,st_answ in enumerate(answers_st):\n",
    "        quest.append(question)\n",
    "        ref_answer.append(answers_ref[0])\n",
    "        stud_answ.append(st_answ)\n",
    "        # Unir pregunta + respuesta de referencia + Respuesta estudiante.\n",
    "        #unif_str=''.join([question,\" \", answers_ref[0],\" \", st_answ])\n",
    "        #text_data.append(unif_str)\n",
    "        # unir pregunta + respuesta estudiante.\n",
    "        #unif_str_Pr_REst=''.join([question,\" \", st_answ])\n",
    "        #txdt_Pr_REst.append(unif_str_Pr_REst)\n",
    "        # Unir Respuesta de referencia + Respuesta estudiante.\n",
    "        #unif_str_RRef_REst=''.join([answers_ref[0],\" \", st_answ])\n",
    "        #txdt_RRef_REst.append(unif_str_RRef_REst)\n",
    "        \n",
    "        id_question.append(root.attrib[\"id\"])\n",
    "        st_ans_calif=str(grade_st[ith_ans])\n",
    "        calif.extend([1 if st_ans_calif==\"correct\" else 0])\n",
    "        \n",
    "    #print (doc, \"respuestas referencia= \",len(root[1]))#[0].text)"
   ]
  },
  {
   "cell_type": "code",
   "execution_count": 17,
   "metadata": {
    "collapsed": false
   },
   "outputs": [
    {
     "name": "stdout",
     "output_type": "stream",
     "text": [
      "mean= 13.9454618636\n",
      "stdev= 8.72338513491\n",
      "max= 128\n"
     ]
    },
    {
     "data": {
      "image/png": "[encoded data removed]",
      "text/plain": [
       "<matplotlib.figure.Figure at 0x7f7071ae3c90>"
      ]
     },
     "metadata": {},
     "output_type": "display_data"
    }
   ],
   "source": [
    "ext_resp=[len(nltk.word_tokenize(StAns)) for StAns in stud_answ]\n",
    "plt.hist(ext_resp)\n",
    "print (\"mean=\",np.mean(ext_resp))\n",
    "print (\"stdev=\",np.std(ext_resp))\n",
    "print (\"max=\",max(ext_resp))"
   ]
  },
  {
   "cell_type": "code",
   "execution_count": 18,
   "metadata": {
    "collapsed": false
   },
   "outputs": [
    {
     "name": "stdout",
     "output_type": "stream",
     "text": [
      "mean= 50.7409941638\n",
      "stdev= 33.4756534216\n",
      "max= 213\n"
     ]
    },
    {
     "data": {
      "image/png": "[encoded data removed]",
      "text/plain": [
       "<matplotlib.figure.Figure at 0x7f71b4525750>"
      ]
     },
     "metadata": {},
     "output_type": "display_data"
    }
   ],
   "source": [
    "ext_qt=[len(nltk.word_tokenize(qt)) for qt in quest]\n",
    "plt.hist(ext_qt)\n",
    "print (\"mean=\",np.mean(ext_qt))\n",
    "print (\"stdev=\",np.std(ext_qt))\n",
    "print (\"max=\",max(ext_qt))"
   ]
  },
  {
   "cell_type": "code",
   "execution_count": 19,
   "metadata": {
    "collapsed": false
   },
   "outputs": [
    {
     "name": "stdout",
     "output_type": "stream",
     "text": [
      "mean= 19.6168243107\n",
      "stdev= 10.6489231378\n",
      "max= 57\n"
     ]
    },
    {
     "data": {
      "image/png": "[encoded data removed]",
      "text/plain": [
       "<matplotlib.figure.Figure at 0x7f70719adb90>"
      ]
     },
     "metadata": {},
     "output_type": "display_data"
    }
   ],
   "source": [
    "ext_refans=[len(nltk.word_tokenize(RefAns)) for RefAns in ref_answer]\n",
    "plt.hist(ext_refans)\n",
    "print (\"mean=\",np.mean(ext_refans))\n",
    "print (\"stdev=\",np.std(ext_refans))\n",
    "print (\"max=\",max(ext_refans))"
   ]
  },
  {
   "cell_type": "code",
   "execution_count": 20,
   "metadata": {
    "collapsed": false,
    "scrolled": true
   },
   "outputs": [
    {
     "name": "stdout",
     "output_type": "stream",
     "text": [
      "919 ****||Question id:  II_20b || Question:  When Sarah did the chromatography test, she saw that one black ink stayed black and didn't separate. She discovered that she had used a permanent marker. She wondered what would happen if she used a different liquid. She wrote in her science notebook, What if I used vinegar in place of the water? Can I get the pigments in permanent ink to separate? How will Sarah know if vinegar separated the permanent ink? || Reference Answer:  Seeing multiple colors would show that vinegar can separate the permanent ink. || Student Answer:  Because it will start to do like a mountain. || Accuracy:  0\n"
     ]
    },
    {
     "data": {
      "text/plain": [
       "[None]"
      ]
     },
     "execution_count": 20,
     "metadata": {},
     "output_type": "execute_result"
    }
   ],
   "source": [
    "sample=[random.randint(0,len(id_question)) for i in xrange(1)]\n",
    "[print (ith,\"****||Question id: \",id_question[ith],\n",
    "        \"|| Question: \", quest[ith],\n",
    "        \"|| Reference Answer: \",ref_answer[ith],\n",
    "        \"|| Student Answer: \",stud_answ[ith],\n",
    "        \"|| Accuracy: \",calif[ith]) for ith in sample]"
   ]
  },
  {
   "cell_type": "markdown",
   "metadata": {
    "collapsed": false
   },
   "source": [
    "### 1.1 w2vec preg+ref_ans+st_ans\n",
    "Crear función para transformar los textos a los embeddings de w2vec.\n",
    "- Tokenizar.\n",
    "- to lower.\n"
   ]
  },
  {
   "cell_type": "code",
   "execution_count": 21,
   "metadata": {
    "collapsed": false
   },
   "outputs": [],
   "source": [
    "def w2vec_txts(txts):\n",
    "    return np.array([(sum([w2vModel[word.lower()] for word in nltk.word_tokenize(StAns) if word.lower() in w2vModel ])/\n",
    "                       len([w2vModel[word.lower()] for word in nltk.word_tokenize(StAns) if word.lower() in w2vModel])) \n",
    "                       for StAns in txts])\n",
    "\n",
    "def w2vec_txts_unorm(txts):\n",
    "    return np.array([(sum([w2vModel[word.lower()] for word in nltk.word_tokenize(StAns) if word.lower() in w2vModel ]))\n",
    "                       for StAns in txts])"
   ]
  },
  {
   "cell_type": "code",
   "execution_count": 33,
   "metadata": {
    "collapsed": false
   },
   "outputs": [],
   "source": [
    "w2v_questions=w2vec_txts(quest)\n",
    "w2v_RefAns=w2vec_txts(ref_answer)\n",
    "w2v_StudAns=w2vec_txts(stud_answ)\n",
    "\n",
    "# w2v_questions=w2vec_txts_unorm(quest)\n",
    "# w2v_RefAns=w2vec_txts_unorm(ref_answer)\n",
    "# w2v_StudAns=w2vec_txts_unorm(stud_answ)"
   ]
  },
  {
   "cell_type": "code",
   "execution_count": 34,
   "metadata": {
    "collapsed": false
   },
   "outputs": [],
   "source": [
    "Preg_RefAns_StAns=[]\n",
    "for i in xrange(len(w2v_questions)):\n",
    "    vec_900=[]\n",
    "    vec_900.extend(w2v_questions[i])\n",
    "    vec_900.extend(w2v_RefAns[i])\n",
    "    vec_900.extend(w2v_StudAns[i])\n",
    "    Preg_RefAns_StAns.append(vec_900)"
   ]
  },
  {
   "cell_type": "code",
   "execution_count": 35,
   "metadata": {
    "collapsed": false
   },
   "outputs": [
    {
     "name": "stdout",
     "output_type": "stream",
     "text": [
      " Dimensiones: 900  Respuestas: 4969\n"
     ]
    }
   ],
   "source": [
    "print (\" Dimensiones:\",len (Preg_RefAns_StAns[0]),\" Respuestas:\",len (Preg_RefAns_StAns))"
   ]
  },
  {
   "cell_type": "code",
   "execution_count": 36,
   "metadata": {
    "collapsed": false
   },
   "outputs": [
    {
     "name": "stdout",
     "output_type": "stream",
     "text": [
      "3940 1\n"
     ]
    },
    {
     "data": {
      "text/plain": [
       "<matplotlib.collections.PathCollection at 0x7f703608add0>"
      ]
     },
     "execution_count": 36,
     "metadata": {},
     "output_type": "execute_result"
    },
    {
     "data": {
      "image/png": "[encoded data removed]",
      "text/plain": [
       "<matplotlib.figure.Figure at 0x7f717757ded0>"
      ]
     },
     "metadata": {},
     "output_type": "display_data"
    }
   ],
   "source": [
    "plt.figure(figsize=(15,8))\n",
    "sample_quest=random.randint(0,len(id_question))\n",
    "print (sample_quest, calif[sample_quest])\n",
    "plt.scatter(range(len(Preg_RefAns_StAns[sample_quest])),Preg_RefAns_StAns[sample_quest], c=str(calif[sample_quest]))"
   ]
  },
  {
   "cell_type": "code",
   "execution_count": 37,
   "metadata": {
    "collapsed": false,
    "scrolled": false
   },
   "outputs": [
    {
     "data": {
      "text/html": [
       "<div>\n",
       "<table border=\"1\" class=\"dataframe\">\n",
       "  <thead>\n",
       "    <tr style=\"text-align: right;\">\n",
       "      <th></th>\n",
       "      <th>Score</th>\n",
       "      <th>F1 test</th>\n",
       "    </tr>\n",
       "  </thead>\n",
       "  <tbody>\n",
       "    <tr>\n",
       "      <th>Logistic</th>\n",
       "      <td>0.7200</td>\n",
       "      <td>0.7124</td>\n",
       "    </tr>\n",
       "    <tr>\n",
       "      <th>Naive Bayes</th>\n",
       "      <td>0.5937</td>\n",
       "      <td>0.5954</td>\n",
       "    </tr>\n",
       "    <tr>\n",
       "      <th>SVM -Lineal</th>\n",
       "      <td>0.7233</td>\n",
       "      <td>0.7203</td>\n",
       "    </tr>\n",
       "    <tr>\n",
       "      <th>Random Forest</th>\n",
       "      <td>0.7763</td>\n",
       "      <td>0.7716</td>\n",
       "    </tr>\n",
       "  </tbody>\n",
       "</table>\n",
       "</div>"
      ],
      "text/plain": [
       "                Score  F1 test\n",
       "Logistic       0.7200   0.7124\n",
       "Naive Bayes    0.5937   0.5954\n",
       "SVM -Lineal    0.7233   0.7203\n",
       "Random Forest  0.7763   0.7716"
      ]
     },
     "execution_count": 37,
     "metadata": {},
     "output_type": "execute_result"
    }
   ],
   "source": [
    "# #split data\n",
    "X_train_w2v, X_test_w2v, y_train_w2v, y_test_w2v= train_test_split(Preg_RefAns_StAns,calif, test_size=0.25, random_state=42)\n",
    "\n",
    "# Create classifiers\n",
    "lr = LogisticRegression()\n",
    "gnb = GaussianNB()\n",
    "svc = SGDClassifier(loss=\"hinge\", penalty=\"l2\", n_iter=1500)\n",
    "#svr = svm.SVC(kernel='rbf')\n",
    "#svp = svm.SVC(kernel='poly')\n",
    "rfc = RandomForestClassifier(n_estimators=100)\n",
    "\n",
    "clf_scores_w2v=[]\n",
    "f1_eval_w2v=[]\n",
    "\n",
    "clasifs_w2v=[]\n",
    "\n",
    "for clf, name in [(lr, 'Logistic'),\n",
    "                  (gnb, 'Naive Bayes'),\n",
    "                  (svc, 'SVM -Lineal'),\n",
    " #                 (svr, 'SVM -Gauss Kernel'),\n",
    " #                 (svp, 'SVM -Poly Kernel'),\n",
    "                  (rfc, 'Random Forest')]:\n",
    "    clf.fit(X_train_w2v, y_train_w2v)\n",
    "    yhat = clf.predict(X_test_w2v)\n",
    "    clf_scores_w2v.append(clf.score(X_test_w2v,y_test_w2v))\n",
    "    f1_eval_w2v.append(f1(y_test_w2v, yhat, average='weighted'))####### F1 weighted Average parameter\n",
    "    clasifs_w2v.append(name)\n",
    "\n",
    "results_w2v=pd.DataFrame(np.column_stack(([round(scr,4) for scr in clf_scores_w2v],[round(scr,4) for scr in f1_eval_w2v])),columns=[\"Score\",\"F1 test\"], index=clasifs_w2v)\n",
    "results_w2v"
   ]
  },
  {
   "cell_type": "markdown",
   "metadata": {},
   "source": [
    "### 1.2 preg + st_ans"
   ]
  },
  {
   "cell_type": "code",
   "execution_count": 38,
   "metadata": {
    "collapsed": true
   },
   "outputs": [],
   "source": [
    "Preg_StAns=[]\n",
    "for i in xrange(len(w2v_questions)):\n",
    "    vec_600=[]\n",
    "    vec_600.extend(w2v_questions[i])\n",
    "    vec_600.extend(w2v_StudAns[i])\n",
    "    Preg_StAns.append(vec_600)"
   ]
  },
  {
   "cell_type": "code",
   "execution_count": 39,
   "metadata": {
    "collapsed": false
   },
   "outputs": [
    {
     "name": "stdout",
     "output_type": "stream",
     "text": [
      " Dimensiones: 600  Respuestas: 4969\n"
     ]
    }
   ],
   "source": [
    "print (\" Dimensiones:\",len (Preg_StAns[0]),\" Respuestas:\",len (Preg_StAns))"
   ]
  },
  {
   "cell_type": "code",
   "execution_count": 40,
   "metadata": {
    "collapsed": false
   },
   "outputs": [
    {
     "name": "stdout",
     "output_type": "stream",
     "text": [
      "4685 1\n"
     ]
    },
    {
     "data": {
      "text/plain": [
       "<matplotlib.collections.PathCollection at 0x7f702f78a090>"
      ]
     },
     "execution_count": 40,
     "metadata": {},
     "output_type": "execute_result"
    },
    {
     "data": {
      "image/png": "[encoded data removed]",
      "text/plain": [
       "<matplotlib.figure.Figure at 0x7f7036084e10>"
      ]
     },
     "metadata": {},
     "output_type": "display_data"
    }
   ],
   "source": [
    "plt.figure(figsize=(12,6))\n",
    "sample_quest=random.randint(0,len(id_question))\n",
    "print (sample_quest, calif[sample_quest])\n",
    "plt.scatter(range(len(Preg_StAns[sample_quest])),Preg_StAns[sample_quest], c=str(calif[sample_quest]))"
   ]
  },
  {
   "cell_type": "code",
   "execution_count": 41,
   "metadata": {
    "collapsed": false
   },
   "outputs": [
    {
     "data": {
      "text/html": [
       "<div>\n",
       "<table border=\"1\" class=\"dataframe\">\n",
       "  <thead>\n",
       "    <tr style=\"text-align: right;\">\n",
       "      <th></th>\n",
       "      <th>Score</th>\n",
       "      <th>F1 test</th>\n",
       "    </tr>\n",
       "  </thead>\n",
       "  <tbody>\n",
       "    <tr>\n",
       "      <th>Logistic</th>\n",
       "      <td>0.7168</td>\n",
       "      <td>0.5839</td>\n",
       "    </tr>\n",
       "    <tr>\n",
       "      <th>Naive Bayes</th>\n",
       "      <td>0.5326</td>\n",
       "      <td>0.5575</td>\n",
       "    </tr>\n",
       "    <tr>\n",
       "      <th>SVM -Lineal</th>\n",
       "      <td>0.7047</td>\n",
       "      <td>0.5890</td>\n",
       "    </tr>\n",
       "    <tr>\n",
       "      <th>Random Forest</th>\n",
       "      <td>0.7723</td>\n",
       "      <td>0.6838</td>\n",
       "    </tr>\n",
       "  </tbody>\n",
       "</table>\n",
       "</div>"
      ],
      "text/plain": [
       "                Score  F1 test\n",
       "Logistic       0.7168   0.5839\n",
       "Naive Bayes    0.5326   0.5575\n",
       "SVM -Lineal    0.7047   0.5890\n",
       "Random Forest  0.7723   0.6838"
      ]
     },
     "execution_count": 41,
     "metadata": {},
     "output_type": "execute_result"
    }
   ],
   "source": [
    "# #split data\n",
    "X_train_w2v_Pr_REst, X_test_w2v_Pr_REst, y_train_w2v_Pr_REst, y_test_w2v_Pr_REst= train_test_split(Preg_StAns,calif, test_size=0.25, random_state=42)\n",
    "\n",
    "clf_scores_w2v_Pr_REst=[]\n",
    "f1_eval_w2v_Pr_REst=[]\n",
    "clasifs_w2v_Pr_REst=[]\n",
    "\n",
    "for clf, name in [(lr, 'Logistic'),\n",
    "                  (gnb, 'Naive Bayes'),\n",
    "                  (svc, 'SVM -Lineal'),\n",
    "#                  (svr, 'SVM -Gauss Kernel'),\n",
    "#                  (svp, 'SVM -Poly Kernel'),\n",
    "                  (rfc, 'Random Forest')]:\n",
    "    clf.fit(X_train_w2v_Pr_REst, y_train_w2v_Pr_REst)\n",
    "    yhat_Pr_REst = clf.predict(X_test_w2v_Pr_REst)\n",
    "    clf_scores_w2v_Pr_REst.append(clf.score(X_test_w2v_Pr_REst,y_test_w2v_Pr_REst))\n",
    "    f1_eval_w2v_Pr_REst.append(f1(y_test_w2v_Pr_REst, yhat_Pr_REst))\n",
    "    clasifs_w2v_Pr_REst.append(name)\n",
    "\n",
    "results_w2v_Pr_REst=pd.DataFrame(np.column_stack(([round(scr,4) for scr in clf_scores_w2v_Pr_REst],[round(scr,4) for scr in f1_eval_w2v_Pr_REst])),columns=[\"Score\",\"F1 test\"], index=clasifs_w2v)\n",
    "results_w2v_Pr_REst"
   ]
  },
  {
   "cell_type": "markdown",
   "metadata": {
    "collapsed": true
   },
   "source": [
    "# Approach 2\n",
    "### Asignar la pregunta a la clase y utilizar un clasificador multiclases\n",
    "- Sólo la respuesta correcta (generar nuevo dataset).\n",
    "- La respuesta incorrecta va sin clase."
   ]
  },
  {
   "cell_type": "code",
   "execution_count": null,
   "metadata": {
    "collapsed": true
   },
   "outputs": [],
   "source": []
  },
  {
   "cell_type": "code",
   "execution_count": null,
   "metadata": {
    "collapsed": true
   },
   "outputs": [],
   "source": []
  },
  {
   "cell_type": "markdown",
   "metadata": {
    "collapsed": true
   },
   "source": [
    "# Approach 3\n",
    "\n",
    "### MDP"
   ]
  },
  {
   "cell_type": "code",
   "execution_count": 1,
   "metadata": {
    "collapsed": true
   },
   "outputs": [],
   "source": [
    "from sklearn.neural_network import MLPClassifier"
   ]
  },
  {
   "cell_type": "code",
   "execution_count": 4,
   "metadata": {
    "collapsed": false
   },
   "outputs": [
    {
     "data": {
      "text/plain": [
       "MLPClassifier(activation='relu', alpha=0.1, batch_size='auto', beta_1=0.9,\n",
       "       beta_2=0.999, early_stopping=False, epsilon=1e-08,\n",
       "       hidden_layer_sizes=(5, 2), learning_rate='constant',\n",
       "       learning_rate_init=0.001, max_iter=200, momentum=0.9,\n",
       "       nesterovs_momentum=True, power_t=0.5, random_state=1, shuffle=True,\n",
       "       solver='lbfgs', tol=0.0001, validation_fraction=0.1, verbose=False,\n",
       "       warm_start=False)"
      ]
     },
     "execution_count": 4,
     "metadata": {},
     "output_type": "execute_result"
    }
   ],
   "source": [
    "X = [[0., 0.], [1., 1.]]\n",
    "y = [0, 1]\n",
    "clf = MLPClassifier(solver='lbfgs', alpha=0.1,\n",
    "                    hidden_layer_sizes=(5, 2), random_state=1)\n",
    "\n",
    "clf.fit(X, y)                         "
   ]
  },
  {
   "cell_type": "code",
   "execution_count": 5,
   "metadata": {
    "collapsed": false
   },
   "outputs": [
    {
     "data": {
      "text/plain": [
       "array([1, 0])"
      ]
     },
     "execution_count": 5,
     "metadata": {},
     "output_type": "execute_result"
    }
   ],
   "source": [
    "clf.predict([[2., 2.], [-1., -2.]])"
   ]
  },
  {
   "cell_type": "code",
   "execution_count": null,
   "metadata": {
    "collapsed": true
   },
   "outputs": [],
   "source": []
  },
  {
   "cell_type": "code",
   "execution_count": null,
   "metadata": {
    "collapsed": true
   },
   "outputs": [],
   "source": []
  }
 ],
 "metadata": {
  "kernelspec": {
   "display_name": "Python [conda env:tensorflow]",
   "language": "python",
   "name": "conda-env-tensorflow-py"
  },
  "language_info": {
   "codemirror_mode": {
    "name": "ipython",
    "version": 2
   },
   "file_extension": ".py",
   "mimetype": "text/x-python",
   "name": "python",
   "nbconvert_exporter": "python",
   "pygments_lexer": "ipython2",
   "version": "2.7.12"
  }
 },
 "nbformat": 4,
 "nbformat_minor": 0
}
