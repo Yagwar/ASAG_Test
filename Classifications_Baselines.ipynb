{
 "cells": [
  {
   "cell_type": "code",
   "execution_count": 1,
   "metadata": {},
   "outputs": [],
   "source": [
    "import pandas as pd\n",
    "import numpy as np\n",
    "import matplotlib.pyplot as plt\n",
    "import seaborn as sns\n",
    "\n",
    "from sklearn.metrics import f1_score\n",
    "\n",
    "from sklearn.feature_extraction.text import CountVectorizer\n",
    "from sklearn.feature_extraction.text import TfidfTransformer\n",
    "\n",
    "from sklearn.naive_bayes import GaussianNB\n",
    "from sklearn.linear_model import LogisticRegression\n",
    "from sklearn.neural_network import MLPClassifier"
   ]
  },
  {
   "cell_type": "code",
   "execution_count": 2,
   "metadata": {},
   "outputs": [],
   "source": [
    "train_answers=pd.read_csv(\"train_answers.csv\", sep=\";\",index_col=0)\n",
    "test_answers=pd.read_csv(\"test_answers.csv\", sep=\";\",index_col=0)"
   ]
  },
  {
   "cell_type": "code",
   "execution_count": 3,
   "metadata": {},
   "outputs": [],
   "source": [
    "test_divs=['TEST Beetle Unseen Answers',\n",
    "           'TEST Beetle Unseen Questions',\n",
    "           'TEST sciEntsBank Unseen Answers',\n",
    "           'TEST sciEntsBank Unseen Questions',\n",
    "           'TEST sciEntsBank Unseen Domains']"
   ]
  },
  {
   "cell_type": "markdown",
   "metadata": {},
   "source": [
    "## Explore Data"
   ]
  },
  {
   "cell_type": "code",
   "execution_count": 4,
   "metadata": {},
   "outputs": [
    {
     "name": "stdout",
     "output_type": "stream",
     "text": [
      "Index(['dtset', 'qtype', 'stype', 'quest_id', 'question', 'ref_ans', 'st_answ',\n",
      "       'id_st', 'st_ans_calif'],\n",
      "      dtype='object')\n",
      "<class 'pandas.core.frame.DataFrame'>\n",
      "Int64Index: 22167 entries, 0 to 22166\n",
      "Data columns (total 9 columns):\n",
      "dtset           22167 non-null object\n",
      "qtype           17198 non-null object\n",
      "stype           17198 non-null object\n",
      "quest_id        22167 non-null object\n",
      "question        22167 non-null object\n",
      "ref_ans         22167 non-null object\n",
      "st_answ         22167 non-null object\n",
      "id_st           22167 non-null object\n",
      "st_ans_calif    22167 non-null int64\n",
      "dtypes: int64(1), object(8)\n",
      "memory usage: 1.7+ MB\n"
     ]
    }
   ],
   "source": [
    "print(train_answers.columns)\n",
    "train_answers.info()"
   ]
  },
  {
   "cell_type": "code",
   "execution_count": 5,
   "metadata": {},
   "outputs": [
    {
     "data": {
      "text/plain": [
       "[['TRAIN Beetle'],\n",
       " ['Q_EXPLAIN_SPECIFIC'],\n",
       " ['EVALUATE'],\n",
       " ['BULB_C_VOLTAGE_EXPLAIN_WHY1'],\n",
       " ['Explain why you got a voltage reading of 1.5 for terminal 1 and the positive terminal.'],\n",
       " ['terminal 1 is not separated from the negative battery terminal'],\n",
       " ['Because they are not damaged.'],\n",
       " ['FaultFinding-BULB_C_VOLTAGE_EXPLAIN_WHY1.sbjb25-l1.qa164'],\n",
       " [0]]"
      ]
     },
     "execution_count": 5,
     "metadata": {},
     "output_type": "execute_result"
    }
   ],
   "source": [
    "trn_smpl=train_answers.sample(1)\n",
    "[list(trn_smpl[dat]) for dat in trn_smpl]"
   ]
  },
  {
   "cell_type": "code",
   "execution_count": 6,
   "metadata": {},
   "outputs": [
    {
     "data": {
      "text/plain": [
       "[['TEST Beetle Unseen Questions'],\n",
       " ['Q_EXPLAIN_SPECIFIC'],\n",
       " ['EVALUATE'],\n",
       " ['HYBRID_BURNED_OUT_WHY_Q1'],\n",
       " ['Why do both bulbs B and C go out when bulb A is burned out?'],\n",
       " ['If bulb A burns out, there is no longer a closed path containing B, C and the battery'],\n",
       " ['they were on the same closed path'],\n",
       " ['SwitchesBulbsParallel-HYBRID_BURNED_OUT_WHY_Q1.sbjb32-l2.qa101'],\n",
       " [1]]"
      ]
     },
     "execution_count": 6,
     "metadata": {},
     "output_type": "execute_result"
    }
   ],
   "source": [
    "tst_smpl=test_answers.sample(1)\n",
    "[list(tst_smpl[dat]) for dat in tst_smpl]"
   ]
  },
  {
   "cell_type": "markdown",
   "metadata": {},
   "source": [
    "Baseline: \n",
    "http://homepages.inf.ed.ac.uk/mdzikovs/papers/dzikovska-naacl2012.pdf\n",
    "\n",
    "# 3.2  Lexical similarity baseline\n",
    "To   provide   a   higher   baseline   that   is   comparable   across   both   subsets   of   the   data,   we   built a  simple  decision  tree  classifier  using  the  Weka 3.6.2 implementation of C4.5 pruned decision trees (weka.classifiers.trees.J48  class),  with  default  parameters. As  features,  we  used  lexical  similarity scores computed by theText::Similarity package with default parameters. The code computes  four similarity  metrics  –  the  raw  number  ofoverlapping words, F1 score, Lesk score and cosine score.  We compared the learner response to the expected answer(s) and the question, resulting in eight total features (the four values indicated above for the comparison with the question and the highest of each value from the comparisons with each possible expected answer).\n",
    "\n",
    "This baseline is based on the lexical overlap baseline used in RTE tasks (Bentivogli et al., 2009). However, we measured overlap with the question text in addition to the overlap with the expected answers. Students often repeat parts of the question in their answer and this needs to be taken into account to differentiate, for example, “partially correct incomplete” and “correct” answers."
   ]
  },
  {
   "cell_type": "code",
   "execution_count": 7,
   "metadata": {},
   "outputs": [
    {
     "data": {
      "text/html": [
       "<div>\n",
       "<style scoped>\n",
       "    .dataframe tbody tr th:only-of-type {\n",
       "        vertical-align: middle;\n",
       "    }\n",
       "\n",
       "    .dataframe tbody tr th {\n",
       "        vertical-align: top;\n",
       "    }\n",
       "\n",
       "    .dataframe thead th {\n",
       "        text-align: right;\n",
       "    }\n",
       "</style>\n",
       "<table border=\"1\" class=\"dataframe\">\n",
       "  <thead>\n",
       "    <tr style=\"text-align: right;\">\n",
       "      <th></th>\n",
       "      <th>dtset</th>\n",
       "      <th>qtype</th>\n",
       "      <th>stype</th>\n",
       "      <th>quest_id</th>\n",
       "      <th>question</th>\n",
       "      <th>ref_ans</th>\n",
       "      <th>st_answ</th>\n",
       "      <th>id_st</th>\n",
       "      <th>st_ans_calif</th>\n",
       "    </tr>\n",
       "  </thead>\n",
       "  <tbody>\n",
       "    <tr>\n",
       "      <th>5407</th>\n",
       "      <td>TRAIN Beetle</td>\n",
       "      <td>Q_EXPLAIN_SPECIFIC</td>\n",
       "      <td>EVALUATE</td>\n",
       "      <td>BULB_C_VOLTAGE_EXPLAIN_WHY1</td>\n",
       "      <td>Explain why you got a voltage reading of 1.5 f...</td>\n",
       "      <td>terminal 1 is not separated from the negative ...</td>\n",
       "      <td>Because they are not damaged.</td>\n",
       "      <td>FaultFinding-BULB_C_VOLTAGE_EXPLAIN_WHY1.sbjb2...</td>\n",
       "      <td>0</td>\n",
       "    </tr>\n",
       "  </tbody>\n",
       "</table>\n",
       "</div>"
      ],
      "text/plain": [
       "             dtset               qtype     stype                     quest_id  \\\n",
       "5407  TRAIN Beetle  Q_EXPLAIN_SPECIFIC  EVALUATE  BULB_C_VOLTAGE_EXPLAIN_WHY1   \n",
       "\n",
       "                                               question  \\\n",
       "5407  Explain why you got a voltage reading of 1.5 f...   \n",
       "\n",
       "                                                ref_ans  \\\n",
       "5407  terminal 1 is not separated from the negative ...   \n",
       "\n",
       "                            st_answ  \\\n",
       "5407  Because they are not damaged.   \n",
       "\n",
       "                                                  id_st  st_ans_calif  \n",
       "5407  FaultFinding-BULB_C_VOLTAGE_EXPLAIN_WHY1.sbjb2...             0  "
      ]
     },
     "execution_count": 7,
     "metadata": {},
     "output_type": "execute_result"
    }
   ],
   "source": [
    "trn_smpl"
   ]
  },
  {
   "cell_type": "markdown",
   "metadata": {},
   "source": [
    "# Preprocessing all data"
   ]
  },
  {
   "cell_type": "code",
   "execution_count": 8,
   "metadata": {},
   "outputs": [],
   "source": [
    "complete_dataset=pd.concat([train_answers,test_answers], keys=['train', 'test'])# MultiIndexing Pandas"
   ]
  },
  {
   "cell_type": "code",
   "execution_count": 9,
   "metadata": {
    "scrolled": false
   },
   "outputs": [],
   "source": [
    "texts=np.array(complete_dataset[\"question\"]+\" \"+complete_dataset[\"ref_ans\"]+\" \"+complete_dataset[\"st_answ\"])"
   ]
  },
  {
   "cell_type": "markdown",
   "metadata": {},
   "source": [
    "## tf-idf matrix"
   ]
  },
  {
   "cell_type": "code",
   "execution_count": 10,
   "metadata": {},
   "outputs": [
    {
     "data": {
      "text/plain": [
       "(33763, 3931)"
      ]
     },
     "execution_count": 10,
     "metadata": {},
     "output_type": "execute_result"
    }
   ],
   "source": [
    "count_vect = CountVectorizer()\n",
    "txt_freqs = count_vect.fit_transform(texts)\n",
    "txt_freqs.shape\n"
   ]
  },
  {
   "cell_type": "code",
   "execution_count": 11,
   "metadata": {},
   "outputs": [
    {
     "data": {
      "text/plain": [
       "<33763x3931 sparse matrix of type '<class 'numpy.int64'>'\n",
       "\twith 907433 stored elements in Compressed Sparse Row format>"
      ]
     },
     "execution_count": 11,
     "metadata": {},
     "output_type": "execute_result"
    }
   ],
   "source": [
    "txt_freqs"
   ]
  },
  {
   "cell_type": "code",
   "execution_count": 12,
   "metadata": {},
   "outputs": [],
   "source": [
    "tfidf_transformer = TfidfTransformer().fit(txt_freqs)\n",
    "txt_tfidf=tfidf_transformer.transform(txt_freqs)"
   ]
  },
  {
   "cell_type": "code",
   "execution_count": 13,
   "metadata": {},
   "outputs": [],
   "source": [
    "train_tfidf=txt_tfidf[complete_dataset.index.labels[0]==0,:]\n",
    "train_tfidf_Y=train_answers[\"st_ans_calif\"]\n",
    "test_tfidf=txt_tfidf[complete_dataset.index.labels[0]==1,:]\n",
    "test_tfidf_Y=test_answers[\"st_ans_calif\"]"
   ]
  },
  {
   "cell_type": "code",
   "execution_count": 14,
   "metadata": {},
   "outputs": [
    {
     "data": {
      "text/plain": [
       "[['the', 128985],\n",
       " ['and', 48205],\n",
       " ['is', 38743],\n",
       " ['in', 33215],\n",
       " ['of', 31076],\n",
       " ['terminal', 30816],\n",
       " ['to', 28797],\n",
       " ['bulb', 25137],\n",
       " ['are', 20014],\n",
       " ['why', 18688],\n",
       " ['path', 16850],\n",
       " ['battery', 16727],\n",
       " ['you', 15946],\n",
       " ['water', 15856],\n",
       " ['voltage', 13473],\n",
       " ['not', 13384],\n",
       " ['it', 13204],\n",
       " ['gap', 12946],\n",
       " ['was', 12880],\n",
       " ['closed', 12180],\n",
       " ['explain', 12001],\n",
       " ['on', 10622],\n",
       " ['there', 10506],\n",
       " ['when', 10017],\n",
       " ['same', 9967],\n",
       " ['positive', 9940],\n",
       " ['for', 9537],\n",
       " ['switch', 9513],\n",
       " ['what', 9280],\n",
       " ['that', 9012],\n",
       " ['because', 8761],\n",
       " ['with', 8446],\n",
       " ['out', 8393],\n",
       " ['terminals', 8251],\n",
       " ['circuit', 8022],\n",
       " ['does', 8000],\n",
       " ['reading', 7517],\n",
       " ['electrical', 7179],\n",
       " ['connected', 7145],\n",
       " ['one', 6281],\n",
       " ['or', 6146],\n",
       " ['if', 6121],\n",
       " ['got', 6121],\n",
       " ['between', 6011],\n",
       " ['open', 5672],\n",
       " ['different', 5651],\n",
       " ['no', 5602],\n",
       " ['from', 5334],\n",
       " ['by', 5193],\n",
       " ['states', 5162],\n",
       " ['will', 5090],\n",
       " ['bulbs', 5054],\n",
       " ['be', 4915],\n",
       " ['she', 4895],\n",
       " ['how', 4803],\n",
       " ['they', 4786],\n",
       " ['burned', 4608],\n",
       " ['your', 4424],\n",
       " ['an', 4366],\n",
       " ['at', 4309],\n",
       " ['damaged', 4143],\n",
       " ['do', 4103],\n",
       " ['both', 4085],\n",
       " ['negative', 4050],\n",
       " ['still', 4011],\n",
       " ['so', 3911],\n",
       " ['other', 3853],\n",
       " ['would', 3782],\n",
       " ['each', 3726],\n",
       " ['her', 3717],\n",
       " ['than', 3664],\n",
       " ['have', 3634],\n",
       " ['separated', 3595],\n",
       " ['more', 3470],\n",
       " ['answer', 3438],\n",
       " ['up', 3321],\n",
       " ['he', 3291],\n",
       " ['as', 3276],\n",
       " ['make', 3265],\n",
       " ['has', 3260],\n",
       " ['milliliters', 3199],\n",
       " ['contained', 3189],\n",
       " ['which', 3167],\n",
       " ['can', 3134],\n",
       " ['reasoning', 3048],\n",
       " ['paths', 2961],\n",
       " ['measuring', 2796],\n",
       " ['state', 2702],\n",
       " ['did', 2417],\n",
       " ['his', 2396],\n",
       " ['had', 2367],\n",
       " ['light', 2352],\n",
       " ['go', 2328],\n",
       " ['means', 2304],\n",
       " ['cup', 2292],\n",
       " ['tell', 2257],\n",
       " ['containing', 2225],\n",
       " ['help', 2220],\n",
       " ['string', 2188],\n",
       " ['then', 2095],\n",
       " ['were', 2088],\n",
       " ['locate', 2086],\n",
       " ['connections', 2058],\n",
       " ['their', 2056],\n",
       " ['know', 2055],\n",
       " ['two', 2010],\n",
       " ['look', 1981],\n",
       " ['drop', 1978],\n",
       " ['all', 1971],\n",
       " ['try', 1958],\n",
       " ['describe', 1935],\n",
       " ['terms', 1932],\n",
       " ['solid', 1927],\n",
       " ['zero', 1927],\n",
       " ['about', 1923],\n",
       " ['used', 1876],\n",
       " ['pot', 1854],\n",
       " ['solution', 1850],\n",
       " ['after', 1840],\n",
       " ['salt', 1833],\n",
       " ['temperature', 1828],\n",
       " ['longer', 1792],\n",
       " ['put', 1776],\n",
       " ['bottom', 1754],\n",
       " ['this', 1710],\n",
       " ['could', 1697],\n",
       " ['ball', 1679],\n",
       " ['move', 1638],\n",
       " ['time', 1630],\n",
       " ['made', 1622],\n",
       " ['short', 1617],\n",
       " ['container', 1589],\n",
       " ['think', 1577],\n",
       " ['difference', 1574],\n",
       " ['clear', 1573],\n",
       " ['amount', 1559],\n",
       " ['connection', 1559],\n",
       " ['right', 1507],\n",
       " ['but', 1472],\n",
       " ['into', 1465],\n",
       " ['surface', 1457],\n",
       " ['found', 1453],\n",
       " ['creates', 1448],\n",
       " ['change', 1435],\n",
       " ['them', 1435],\n",
       " ['less', 1417],\n",
       " ['material', 1385],\n",
       " ['where', 1380],\n",
       " ['only', 1371],\n",
       " ['picture', 1343]]"
      ]
     },
     "execution_count": 14,
     "metadata": {},
     "output_type": "execute_result"
    }
   ],
   "source": [
    "top_n=150\n",
    "txt_freqs_sum= txt_freqs.toarray().sum(axis=0)\n",
    "indices = np.argsort(txt_freqs_sum)[::-1]#np.argsort(vectorizer.idf_)[::-1]\n",
    "features =count_vect.get_feature_names()# vectorizer.get_feature_names()\n",
    "top_features = [[features[i],txt_freqs_sum[i]] for i in indices[:top_n]]\n",
    "list(top_features)"
   ]
  },
  {
   "cell_type": "markdown",
   "metadata": {},
   "source": [
    "# Basic Clasifiers"
   ]
  },
  {
   "attachments": {
    "imagen.png": {
     "image/png": "[encoded data removed]"
    }
   },
   "cell_type": "markdown",
   "metadata": {},
   "source": [
    "![imagen.png](attachment:imagen.png)"
   ]
  },
  {
   "cell_type": "markdown",
   "metadata": {},
   "source": [
    "## 1. Naïve Bayes"
   ]
  },
  {
   "cell_type": "code",
   "execution_count": 15,
   "metadata": {},
   "outputs": [
    {
     "name": "stdout",
     "output_type": "stream",
     "text": [
      "Number of mislabeled points out of a total 22167 points : 9394\n"
     ]
    }
   ],
   "source": [
    "gnb = GaussianNB()\n",
    "predictor_GaussianNB= gnb.fit(train_tfidf.toarray(), train_tfidf_Y)\n",
    "y_pred_GaussianNB= predictor_GaussianNB.predict(train_tfidf.toarray())\n",
    "print(\"Number of mislabeled points out of a total %d points : %d\" % (train_tfidf.shape[0],(train_tfidf_Y != y_pred_GaussianNB).sum()))"
   ]
  },
  {
   "cell_type": "code",
   "execution_count": 16,
   "metadata": {},
   "outputs": [
    {
     "name": "stdout",
     "output_type": "stream",
     "text": [
      "0.5282955841529756\n"
     ]
    }
   ],
   "source": [
    "print (f1_score(train_tfidf_Y, y_pred_GaussianNB, average='weighted'))"
   ]
  },
  {
   "cell_type": "code",
   "execution_count": 17,
   "metadata": {},
   "outputs": [
    {
     "name": "stdout",
     "output_type": "stream",
     "text": [
      "0.5371742724126949\n"
     ]
    }
   ],
   "source": [
    "y_test_GaussianNB = predictor_GaussianNB.predict(test_tfidf.toarray())\n",
    "print (f1_score(test_tfidf_Y, y_test_GaussianNB, average='weighted'))"
   ]
  },
  {
   "cell_type": "code",
   "execution_count": 18,
   "metadata": {},
   "outputs": [],
   "source": [
    "test_divs=['TEST Beetle Unseen Answers',\n",
    "           'TEST Beetle Unseen Questions',\n",
    "           'TEST sciEntsBank Unseen Answers',\n",
    "           'TEST sciEntsBank Unseen Questions',\n",
    "           'TEST sciEntsBank Unseen Domains']"
   ]
  },
  {
   "cell_type": "code",
   "execution_count": 19,
   "metadata": {},
   "outputs": [
    {
     "name": "stdout",
     "output_type": "stream",
     "text": [
      "TEST Beetle Unseen Answers 0.42554311959521074\n",
      "st_ans_calif     0    1   All\n",
      "row_0                        \n",
      "0              195   16   211\n",
      "1              911  740  1651\n",
      "All           1106  756  1862\n",
      "***********************************************************************\n",
      "TEST Beetle Unseen Questions 0.4752690184528084\n",
      "st_ans_calif     0     1   All\n",
      "row_0                         \n",
      "0              420   261   681\n",
      "1             1570  1648  3218\n",
      "All           1990  1909  3899\n",
      "***********************************************************************\n",
      "TEST sciEntsBank Unseen Answers 0.46807920454060514\n",
      "st_ans_calif    0    1  All\n",
      "row_0                      \n",
      "0              84   47  131\n",
      "1             223  186  409\n",
      "All           307  233  540\n",
      "***********************************************************************\n",
      "TEST sciEntsBank Unseen Questions 0.5168486617535006\n",
      "st_ans_calif    0    1  All\n",
      "row_0                      \n",
      "0             224  149  373\n",
      "1             208  152  360\n",
      "All           432  301  733\n",
      "***********************************************************************\n",
      "TEST sciEntsBank Unseen Domains 0.5856861625694988\n",
      "st_ans_calif     0     1   All\n",
      "row_0                         \n",
      "0             1730   971  2701\n",
      "1              915   946  1861\n",
      "All           2645  1917  4562\n",
      "***********************************************************************\n"
     ]
    }
   ],
   "source": [
    "for test_class in test_divs:\n",
    "    y_test_GaussianNB_class = predictor_GaussianNB.predict(test_tfidf.toarray()[test_answers[\"dtset\"]==test_class])\n",
    "    print(test_class, f1_score(test_tfidf_Y[test_answers[\"dtset\"]==test_class], y_test_GaussianNB_class, average='weighted'))\n",
    "    print(pd.crosstab(columns=test_tfidf_Y[test_answers[\"dtset\"]==test_class], index=y_test_GaussianNB_class,margins=True))\n",
    "    print(\"***********************************************************************\")"
   ]
  },
  {
   "cell_type": "markdown",
   "metadata": {},
   "source": [
    "## 2. Logistic Regression"
   ]
  },
  {
   "cell_type": "code",
   "execution_count": 20,
   "metadata": {},
   "outputs": [
    {
     "name": "stdout",
     "output_type": "stream",
     "text": [
      "Number of mislabeled points out of a total 22167 points : 5217\n"
     ]
    }
   ],
   "source": [
    "LogReg = LogisticRegression(solver='lbfgs', n_jobs=-1)\n",
    "predictor_LogReg= LogReg.fit(train_tfidf.toarray(), train_tfidf_Y)\n",
    "y_pred_LogReg= predictor_LogReg.predict(train_tfidf.toarray())\n",
    "print(\"Number of mislabeled points out of a total %d points : %d\" % (train_tfidf.shape[0],(train_tfidf_Y != y_pred_LogReg).sum()))"
   ]
  },
  {
   "cell_type": "code",
   "execution_count": 21,
   "metadata": {},
   "outputs": [
    {
     "name": "stdout",
     "output_type": "stream",
     "text": [
      "0.7621680715554362\n"
     ]
    }
   ],
   "source": [
    "print (f1_score(train_tfidf_Y, y_pred_LogReg, average='weighted'))"
   ]
  },
  {
   "cell_type": "code",
   "execution_count": 22,
   "metadata": {},
   "outputs": [
    {
     "name": "stdout",
     "output_type": "stream",
     "text": [
      "0.5605262170288648\n"
     ]
    }
   ],
   "source": [
    "y_test_LogReg = predictor_LogReg.predict(test_tfidf.toarray())\n",
    "print (f1_score(test_tfidf_Y, y_test_LogReg, average='weighted'))"
   ]
  },
  {
   "cell_type": "code",
   "execution_count": 23,
   "metadata": {},
   "outputs": [
    {
     "name": "stdout",
     "output_type": "stream",
     "text": [
      "TEST Beetle Unseen Answers 0.7358858706223297\n",
      "st_ans_calif     0    1   All\n",
      "row_0                        \n",
      "0              893  275  1168\n",
      "1              213  481   694\n",
      "All           1106  756  1862\n",
      "***********************************************************************\n",
      "TEST Beetle Unseen Questions 0.5732755925260097\n",
      "st_ans_calif     0     1   All\n",
      "row_0                         \n",
      "0             1309   971  2280\n",
      "1              681   938  1619\n",
      "All           1990  1909  3899\n",
      "***********************************************************************\n",
      "TEST sciEntsBank Unseen Answers 0.6013040695016004\n",
      "st_ans_calif    0    1  All\n",
      "row_0                      \n",
      "0             233  135  368\n",
      "1              74   98  172\n",
      "All           307  233  540\n",
      "***********************************************************************\n",
      "TEST sciEntsBank Unseen Questions 0.5061535949562466\n",
      "st_ans_calif    0    1  All\n",
      "row_0                      \n",
      "0             297  215  512\n",
      "1             135   86  221\n",
      "All           432  301  733\n",
      "***********************************************************************\n",
      "TEST sciEntsBank Unseen Domains 0.4192273907772012\n",
      "st_ans_calif     0     1   All\n",
      "row_0                         \n",
      "0             2424  1879  4303\n",
      "1              221    38   259\n",
      "All           2645  1917  4562\n",
      "***********************************************************************\n"
     ]
    }
   ],
   "source": [
    "for test_class in test_divs:\n",
    "    y_test_LogReg_class = predictor_LogReg.predict(test_tfidf.toarray()[test_answers[\"dtset\"]==test_class])\n",
    "    print(test_class, f1_score(test_tfidf_Y[test_answers[\"dtset\"]==test_class], y_test_LogReg_class, average='weighted'))\n",
    "    print(pd.crosstab(columns=test_tfidf_Y[test_answers[\"dtset\"]==test_class], index=y_test_LogReg_class,margins=True))\n",
    "    print(\"***********************************************************************\")"
   ]
  },
  {
   "cell_type": "markdown",
   "metadata": {},
   "source": [
    "## 3. FeedForward Fully conected ANN"
   ]
  },
  {
   "cell_type": "code",
   "execution_count": 24,
   "metadata": {},
   "outputs": [
    {
     "name": "stdout",
     "output_type": "stream",
     "text": [
      "Number of mislabeled points out of a total 22167 points : 5217\n"
     ]
    }
   ],
   "source": [
    "ANN_clf= MLPClassifier(solver='lbfgs', alpha=1e-5,hidden_layer_sizes=(2000,200), random_state=1)\n",
    "predictor_ANN_clf= ANN_clf.fit(train_tfidf.toarray(), train_tfidf_Y)\n",
    "y_pred_ANN_clf= predictor_ANN_clf.predict(train_tfidf.toarray())\n",
    "print(\"Number of mislabeled points out of a total %d points : %d\" % (train_tfidf.shape[0],(train_tfidf_Y != y_pred_ANN_clf).sum()))"
   ]
  },
  {
   "cell_type": "code",
   "execution_count": 25,
   "metadata": {},
   "outputs": [
    {
     "name": "stdout",
     "output_type": "stream",
     "text": [
      "0.9220340771190451\n"
     ]
    }
   ],
   "source": [
    "print (f1_score(train_tfidf_Y, y_pred_ANN_clf, average='weighted'))"
   ]
  },
  {
   "cell_type": "code",
   "execution_count": 26,
   "metadata": {},
   "outputs": [
    {
     "name": "stdout",
     "output_type": "stream",
     "text": [
      "0.5605262170288648\n"
     ]
    }
   ],
   "source": [
    "y_test_LogReg = predictor_LogReg.predict(test_tfidf.toarray())\n",
    "print (f1_score(test_tfidf_Y, y_test_LogReg, average='weighted'))"
   ]
  },
  {
   "cell_type": "code",
   "execution_count": 27,
   "metadata": {},
   "outputs": [
    {
     "name": "stdout",
     "output_type": "stream",
     "text": [
      "TEST Beetle Unseen Answers 0.7358858706223297\n",
      "st_ans_calif     0    1   All\n",
      "row_0                        \n",
      "0              893  275  1168\n",
      "1              213  481   694\n",
      "All           1106  756  1862\n",
      "***********************************************************************\n",
      "TEST Beetle Unseen Questions 0.5732755925260097\n",
      "st_ans_calif     0     1   All\n",
      "row_0                         \n",
      "0             1309   971  2280\n",
      "1              681   938  1619\n",
      "All           1990  1909  3899\n",
      "***********************************************************************\n",
      "TEST sciEntsBank Unseen Answers 0.6013040695016004\n",
      "st_ans_calif    0    1  All\n",
      "row_0                      \n",
      "0             233  135  368\n",
      "1              74   98  172\n",
      "All           307  233  540\n",
      "***********************************************************************\n",
      "TEST sciEntsBank Unseen Questions 0.5061535949562466\n",
      "st_ans_calif    0    1  All\n",
      "row_0                      \n",
      "0             297  215  512\n",
      "1             135   86  221\n",
      "All           432  301  733\n",
      "***********************************************************************\n",
      "TEST sciEntsBank Unseen Domains 0.4192273907772012\n",
      "st_ans_calif     0     1   All\n",
      "row_0                         \n",
      "0             2424  1879  4303\n",
      "1              221    38   259\n",
      "All           2645  1917  4562\n",
      "***********************************************************************\n"
     ]
    }
   ],
   "source": [
    "for test_class in test_divs:\n",
    "    y_test_LogReg_class = predictor_LogReg.predict(test_tfidf.toarray()[test_answers[\"dtset\"]==test_class])\n",
    "    print(test_class, f1_score(test_tfidf_Y[test_answers[\"dtset\"]==test_class], y_test_LogReg_class, average='weighted'))\n",
    "    print(pd.crosstab(columns=test_tfidf_Y[test_answers[\"dtset\"]==test_class], index=y_test_LogReg_class,margins=True))\n",
    "    print(\"***********************************************************************\")"
   ]
  },
  {
   "cell_type": "markdown",
   "metadata": {},
   "source": [
    "# SKlearn Classifier Comparisson"
   ]
  },
  {
   "cell_type": "code",
   "execution_count": 28,
   "metadata": {},
   "outputs": [],
   "source": [
    "from sklearn.neural_network import MLPClassifier\n",
    "from sklearn.neighbors import KNeighborsClassifier\n",
    "from sklearn.svm import SVC\n",
    "from sklearn.gaussian_process import GaussianProcessClassifier\n",
    "from sklearn.gaussian_process.kernels import RBF\n",
    "from sklearn.tree import DecisionTreeClassifier\n",
    "from sklearn.ensemble import RandomForestClassifier, AdaBoostClassifier\n",
    "from sklearn.naive_bayes import GaussianNB\n",
    "from sklearn.discriminant_analysis import QuadraticDiscriminantAnalysis"
   ]
  },
  {
   "cell_type": "code",
   "execution_count": 29,
   "metadata": {},
   "outputs": [],
   "source": [
    "h = .02  # step size in the mesh\n",
    "\n",
    "names = [\n",
    "    \"Nearest Neighbors\", \n",
    "#     \"Linear SVM\", \n",
    "    \"RBF SVM\", \n",
    "#     \"Gaussian Process\",\n",
    "    \"Decision Tree\", \n",
    "    \"Random Forest\", \n",
    "    \"Neural Net\", \n",
    "    \"AdaBoost\",\n",
    "    \"Naive Bayes\", \n",
    "    \"QDA\"]\n",
    "\n",
    "classifiers = [\n",
    "    KNeighborsClassifier(3,n_jobs=-1),\n",
    "#     SVC(kernel=\"linear\", C=0.025),\n",
    "    SVC(gamma=2, C=1),\n",
    "#     GaussianProcessClassifier(1.0 * RBF(1.0)),\n",
    "    DecisionTreeClassifier(max_depth=5),\n",
    "    RandomForestClassifier(max_depth=5, n_estimators=10, max_features=1),\n",
    "    MLPClassifier(alpha=1),\n",
    "    AdaBoostClassifier(),\n",
    "    GaussianNB(),\n",
    "    QuadraticDiscriminantAnalysis()]"
   ]
  },
  {
   "cell_type": "code",
   "execution_count": 30,
   "metadata": {
    "scrolled": false
   },
   "outputs": [
    {
     "name": "stdout",
     "output_type": "stream",
     "text": [
      "Nearest Neighbors\n",
      "Train Clasif: 0.9318645431748587\n",
      "Number of mislabeled points out of a total 22167 points : 1512\n",
      "TEST Beetle Unseen Answers 0.787112733398022\n",
      "st_ans_calif     0    1   All\n",
      "row_0                        \n",
      "0              865  158  1023\n",
      "1              241  598   839\n",
      "All           1106  756  1862\n",
      "-----------------------------------------------------\n",
      "TEST Beetle Unseen Questions 0.5838420728294598\n",
      "st_ans_calif     0     1   All\n",
      "row_0                         \n",
      "0              934   543  1477\n",
      "1             1056  1366  2422\n",
      "All           1990  1909  3899\n",
      "-----------------------------------------------------\n",
      "TEST sciEntsBank Unseen Answers 0.7308712121212121\n",
      "st_ans_calif    0    1  All\n",
      "row_0                      \n",
      "0             248   85  333\n",
      "1              59  148  207\n",
      "All           307  233  540\n",
      "-----------------------------------------------------\n",
      "TEST sciEntsBank Unseen Questions 0.5620836646701345\n",
      "st_ans_calif    0    1  All\n",
      "row_0                      \n",
      "0             264  154  418\n",
      "1             168  147  315\n",
      "All           432  301  733\n",
      "-----------------------------------------------------\n",
      "TEST sciEntsBank Unseen Domains 0.4914699221309699\n",
      "st_ans_calif     0     1   All\n",
      "row_0                         \n",
      "0             1471  1148  2619\n",
      "1             1174   769  1943\n",
      "All           2645  1917  4562\n",
      "-----------------------------------------------------\n",
      "***********************************************************************************************\n",
      "RBF SVM\n",
      "Train Clasif: 0.9077160724180041\n",
      "Number of mislabeled points out of a total 22167 points : 2045\n",
      "TEST Beetle Unseen Answers 0.8196234822458234\n",
      "st_ans_calif     0    1   All\n",
      "row_0                        \n",
      "0              936  166  1102\n",
      "1              170  590   760\n",
      "All           1106  756  1862\n",
      "-----------------------------------------------------\n",
      "TEST Beetle Unseen Questions 0.63706818920818\n",
      "st_ans_calif     0     1   All\n",
      "row_0                         \n",
      "0             1457   869  2326\n",
      "1              533  1040  1573\n",
      "All           1990  1909  3899\n",
      "-----------------------------------------------------\n",
      "TEST sciEntsBank Unseen Answers 0.6644979662681494\n",
      "st_ans_calif    0    1  All\n",
      "row_0                      \n",
      "0             249  118  367\n",
      "1              58  115  173\n",
      "All           307  233  540\n",
      "-----------------------------------------------------\n",
      "TEST sciEntsBank Unseen Questions 0.5702569621674781\n",
      "st_ans_calif    0    1  All\n",
      "row_0                      \n",
      "0             352  213  565\n",
      "1              80   88  168\n",
      "All           432  301  733\n",
      "-----------------------------------------------------\n"
     ]
    },
    {
     "name": "stderr",
     "output_type": "stream",
     "text": [
      "C:\\ProgramData\\Anaconda3\\lib\\site-packages\\sklearn\\metrics\\classification.py:1143: UndefinedMetricWarning: F-score is ill-defined and being set to 0.0 in labels with no predicted samples.\n",
      "  'precision', 'predicted', average, warn_for)\n"
     ]
    },
    {
     "name": "stdout",
     "output_type": "stream",
     "text": [
      "TEST sciEntsBank Unseen Domains 0.42557052921233784\n",
      "st_ans_calif     0     1   All\n",
      "row_0                         \n",
      "0             2645  1917  4562\n",
      "All           2645  1917  4562\n",
      "-----------------------------------------------------\n",
      "***********************************************************************************************\n",
      "Decision Tree\n",
      "Train Clasif: 0.6773214868318811\n",
      "Number of mislabeled points out of a total 22167 points : 6991\n",
      "TEST Beetle Unseen Answers 0.6973574646975925\n",
      "st_ans_calif     0    1   All\n",
      "row_0                        \n",
      "0              765  227   992\n",
      "1              341  529   870\n",
      "All           1106  756  1862\n",
      "-----------------------------------------------------\n",
      "TEST Beetle Unseen Questions 0.5710337022442812\n",
      "st_ans_calif     0     1   All\n",
      "row_0                         \n",
      "0             1422  1072  2494\n",
      "1              568   837  1405\n",
      "All           1990  1909  3899\n",
      "-----------------------------------------------------\n",
      "TEST sciEntsBank Unseen Answers 0.4121255848528576\n",
      "st_ans_calif    0    1  All\n",
      "row_0                      \n",
      "0             307  233  540\n",
      "All           307  233  540\n",
      "-----------------------------------------------------\n"
     ]
    },
    {
     "name": "stderr",
     "output_type": "stream",
     "text": [
      "C:\\ProgramData\\Anaconda3\\lib\\site-packages\\sklearn\\metrics\\classification.py:1143: UndefinedMetricWarning: F-score is ill-defined and being set to 0.0 in labels with no predicted samples.\n",
      "  'precision', 'predicted', average, warn_for)\n",
      "C:\\ProgramData\\Anaconda3\\lib\\site-packages\\sklearn\\metrics\\classification.py:1143: UndefinedMetricWarning: F-score is ill-defined and being set to 0.0 in labels with no predicted samples.\n",
      "  'precision', 'predicted', average, warn_for)\n"
     ]
    },
    {
     "name": "stdout",
     "output_type": "stream",
     "text": [
      "TEST sciEntsBank Unseen Questions 0.4370866976210412\n",
      "st_ans_calif    0    1  All\n",
      "row_0                      \n",
      "0             432  301  733\n",
      "All           432  301  733\n",
      "-----------------------------------------------------\n"
     ]
    },
    {
     "name": "stderr",
     "output_type": "stream",
     "text": [
      "C:\\ProgramData\\Anaconda3\\lib\\site-packages\\sklearn\\metrics\\classification.py:1143: UndefinedMetricWarning: F-score is ill-defined and being set to 0.0 in labels with no predicted samples.\n",
      "  'precision', 'predicted', average, warn_for)\n"
     ]
    },
    {
     "name": "stdout",
     "output_type": "stream",
     "text": [
      "TEST sciEntsBank Unseen Domains 0.42557052921233784\n",
      "st_ans_calif     0     1   All\n",
      "row_0                         \n",
      "0             2645  1917  4562\n",
      "All           2645  1917  4562\n",
      "-----------------------------------------------------\n",
      "***********************************************************************************************\n",
      "Random Forest\n",
      "Train Clasif: 0.4286608916972399\n",
      "Number of mislabeled points out of a total 22167 points : 9287\n",
      "TEST Beetle Unseen Answers 0.44268690594410554\n"
     ]
    },
    {
     "name": "stderr",
     "output_type": "stream",
     "text": [
      "C:\\ProgramData\\Anaconda3\\lib\\site-packages\\sklearn\\metrics\\classification.py:1143: UndefinedMetricWarning: F-score is ill-defined and being set to 0.0 in labels with no predicted samples.\n",
      "  'precision', 'predicted', average, warn_for)\n"
     ]
    },
    {
     "name": "stdout",
     "output_type": "stream",
     "text": [
      "st_ans_calif     0    1   All\n",
      "row_0                        \n",
      "0             1106  756  1862\n",
      "All           1106  756  1862\n",
      "-----------------------------------------------------\n"
     ]
    },
    {
     "name": "stderr",
     "output_type": "stream",
     "text": [
      "C:\\ProgramData\\Anaconda3\\lib\\site-packages\\sklearn\\metrics\\classification.py:1143: UndefinedMetricWarning: F-score is ill-defined and being set to 0.0 in labels with no predicted samples.\n",
      "  'precision', 'predicted', average, warn_for)\n"
     ]
    },
    {
     "name": "stdout",
     "output_type": "stream",
     "text": [
      "TEST Beetle Unseen Questions 0.34493825260348854\n",
      "st_ans_calif     0     1   All\n",
      "row_0                         \n",
      "0             1990  1909  3899\n",
      "All           1990  1909  3899\n",
      "-----------------------------------------------------\n",
      "TEST sciEntsBank Unseen Answers 0.42456035439407597\n",
      "st_ans_calif    0    1  All\n",
      "row_0                      \n",
      "0             307  230  537\n",
      "1               0    3    3\n",
      "All           307  233  540\n",
      "-----------------------------------------------------\n"
     ]
    },
    {
     "name": "stderr",
     "output_type": "stream",
     "text": [
      "C:\\ProgramData\\Anaconda3\\lib\\site-packages\\sklearn\\metrics\\classification.py:1143: UndefinedMetricWarning: F-score is ill-defined and being set to 0.0 in labels with no predicted samples.\n",
      "  'precision', 'predicted', average, warn_for)\n"
     ]
    },
    {
     "name": "stdout",
     "output_type": "stream",
     "text": [
      "TEST sciEntsBank Unseen Questions 0.4370866976210412\n",
      "st_ans_calif    0    1  All\n",
      "row_0                      \n",
      "0             432  301  733\n",
      "All           432  301  733\n",
      "-----------------------------------------------------\n"
     ]
    },
    {
     "name": "stderr",
     "output_type": "stream",
     "text": [
      "C:\\ProgramData\\Anaconda3\\lib\\site-packages\\sklearn\\metrics\\classification.py:1143: UndefinedMetricWarning: F-score is ill-defined and being set to 0.0 in labels with no predicted samples.\n",
      "  'precision', 'predicted', average, warn_for)\n"
     ]
    },
    {
     "name": "stdout",
     "output_type": "stream",
     "text": [
      "TEST sciEntsBank Unseen Domains 0.42557052921233784\n",
      "st_ans_calif     0     1   All\n",
      "row_0                         \n",
      "0             2645  1917  4562\n",
      "All           2645  1917  4562\n",
      "-----------------------------------------------------\n",
      "***********************************************************************************************\n",
      "Neural Net\n",
      "Train Clasif: 0.6998880790486987\n",
      "Number of mislabeled points out of a total 22167 points : 6496\n",
      "TEST Beetle Unseen Answers 0.6946646685458853\n",
      "st_ans_calif     0    1   All\n",
      "row_0                        \n",
      "0              856  314  1170\n",
      "1              250  442   692\n",
      "All           1106  756  1862\n",
      "-----------------------------------------------------\n",
      "TEST Beetle Unseen Questions 0.6093711864336417\n",
      "st_ans_calif     0     1   All\n",
      "row_0                         \n",
      "0             1232   765  1997\n",
      "1              758  1144  1902\n",
      "All           1990  1909  3899\n",
      "-----------------------------------------------------\n",
      "TEST sciEntsBank Unseen Answers 0.5481310242190628\n",
      "st_ans_calif    0    1  All\n",
      "row_0                      \n",
      "0             263  176  439\n",
      "1              44   57  101\n",
      "All           307  233  540\n",
      "-----------------------------------------------------\n",
      "TEST sciEntsBank Unseen Questions 0.4624841208529302\n",
      "st_ans_calif    0    1  All\n",
      "row_0                      \n",
      "0             414  288  702\n",
      "1              18   13   31\n",
      "All           432  301  733\n",
      "-----------------------------------------------------\n",
      "TEST sciEntsBank Unseen Domains 0.42536677942670353\n",
      "st_ans_calif     0     1   All\n",
      "row_0                         \n",
      "0             2643  1917  4560\n",
      "1                2     0     2\n",
      "All           2645  1917  4562\n",
      "-----------------------------------------------------\n",
      "***********************************************************************************************\n",
      "AdaBoost\n",
      "Train Clasif: 0.7211208900469726\n",
      "Number of mislabeled points out of a total 22167 points : 6093\n",
      "TEST Beetle Unseen Answers 0.7248791116813923\n",
      "st_ans_calif     0    1   All\n",
      "row_0                        \n",
      "0              831  239  1070\n",
      "1              275  517   792\n",
      "All           1106  756  1862\n",
      "-----------------------------------------------------\n",
      "TEST Beetle Unseen Questions 0.6067536739145571\n",
      "st_ans_calif     0     1   All\n",
      "row_0                         \n",
      "0             1236   779  2015\n",
      "1              754  1130  1884\n",
      "All           1990  1909  3899\n",
      "-----------------------------------------------------\n",
      "TEST sciEntsBank Unseen Answers 0.5678998521892842\n",
      "st_ans_calif    0    1  All\n",
      "row_0                      \n",
      "0             247  159  406\n",
      "1              60   74  134\n",
      "All           307  233  540\n",
      "-----------------------------------------------------\n",
      "TEST sciEntsBank Unseen Questions 0.4695104722143299\n",
      "st_ans_calif    0    1  All\n",
      "row_0                      \n",
      "0             416  286  702\n",
      "1              16   15   31\n",
      "All           432  301  733\n",
      "-----------------------------------------------------\n",
      "TEST sciEntsBank Unseen Domains 0.44436224934155294\n",
      "st_ans_calif     0     1   All\n",
      "row_0                         \n",
      "0             2471  1834  4305\n",
      "1              174    83   257\n",
      "All           2645  1917  4562\n",
      "-----------------------------------------------------\n",
      "***********************************************************************************************\n",
      "Naive Bayes\n",
      "Train Clasif: 0.5282955841529756\n",
      "Number of mislabeled points out of a total 22167 points : 9394\n",
      "TEST Beetle Unseen Answers 0.42554311959521074\n",
      "st_ans_calif     0    1   All\n",
      "row_0                        \n",
      "0              195   16   211\n",
      "1              911  740  1651\n",
      "All           1106  756  1862\n",
      "-----------------------------------------------------\n",
      "TEST Beetle Unseen Questions 0.4752690184528084\n",
      "st_ans_calif     0     1   All\n",
      "row_0                         \n",
      "0              420   261   681\n",
      "1             1570  1648  3218\n",
      "All           1990  1909  3899\n",
      "-----------------------------------------------------\n",
      "TEST sciEntsBank Unseen Answers 0.46807920454060514\n",
      "st_ans_calif    0    1  All\n",
      "row_0                      \n",
      "0              84   47  131\n",
      "1             223  186  409\n",
      "All           307  233  540\n",
      "-----------------------------------------------------\n",
      "TEST sciEntsBank Unseen Questions 0.5168486617535006\n",
      "st_ans_calif    0    1  All\n",
      "row_0                      \n",
      "0             224  149  373\n",
      "1             208  152  360\n",
      "All           432  301  733\n",
      "-----------------------------------------------------\n",
      "TEST sciEntsBank Unseen Domains 0.5856861625694988\n",
      "st_ans_calif     0     1   All\n",
      "row_0                         \n",
      "0             1730   971  2701\n",
      "1              915   946  1861\n",
      "All           2645  1917  4562\n",
      "-----------------------------------------------------\n",
      "***********************************************************************************************\n",
      "QDA\n"
     ]
    },
    {
     "name": "stderr",
     "output_type": "stream",
     "text": [
      "C:\\ProgramData\\Anaconda3\\lib\\site-packages\\sklearn\\discriminant_analysis.py:692: UserWarning: Variables are collinear\n",
      "  warnings.warn(\"Variables are collinear\")\n",
      "C:\\ProgramData\\Anaconda3\\lib\\site-packages\\sklearn\\discriminant_analysis.py:692: UserWarning: Variables are collinear\n",
      "  warnings.warn(\"Variables are collinear\")\n"
     ]
    },
    {
     "name": "stdout",
     "output_type": "stream",
     "text": [
      "Train Clasif: 0.6601585895406393\n",
      "Number of mislabeled points out of a total 22167 points : 7224\n",
      "TEST Beetle Unseen Answers 0.5295219549089518\n",
      "st_ans_calif     0    1   All\n",
      "row_0                        \n",
      "0              336   38   374\n",
      "1              770  718  1488\n",
      "All           1106  756  1862\n",
      "-----------------------------------------------------\n",
      "TEST Beetle Unseen Questions 0.5555733772931251\n",
      "st_ans_calif     0     1   All\n",
      "row_0                         \n",
      "0             1107   850  1957\n",
      "1              883  1059  1942\n",
      "All           1990  1909  3899\n",
      "-----------------------------------------------------\n",
      "TEST sciEntsBank Unseen Answers 0.5923759350483488\n",
      "st_ans_calif    0    1  All\n",
      "row_0                      \n",
      "0             198  111  309\n",
      "1             109  122  231\n",
      "All           307  233  540\n",
      "-----------------------------------------------------\n",
      "TEST sciEntsBank Unseen Questions 0.4903922252715478\n",
      "st_ans_calif    0    1  All\n",
      "row_0                      \n",
      "0             280  213  493\n",
      "1             152   88  240\n",
      "All           432  301  733\n",
      "-----------------------------------------------------\n",
      "TEST sciEntsBank Unseen Domains 0.5558032269958835\n",
      "st_ans_calif     0     1   All\n",
      "row_0                         \n",
      "0             1480   874  2354\n",
      "1             1165  1043  2208\n",
      "All           2645  1917  4562\n",
      "-----------------------------------------------------\n",
      "***********************************************************************************************\n"
     ]
    }
   ],
   "source": [
    "train_scores=[]\n",
    "clasif_scores=[]\n",
    "\n",
    "# iterate over classifiers\n",
    "for name, clf in zip(names, classifiers):\n",
    "    print(name)\n",
    "    clf.fit(train_tfidf.toarray(), train_tfidf_Y)\n",
    "    prediction=clf.predict(train_tfidf.toarray())\n",
    "    score = f1_score(train_tfidf_Y, prediction, average='weighted')\n",
    "    train_scores.append(score)\n",
    "    print(\"Train Clasif:\",score)\n",
    "    print(\"Number of mislabeled points out of a total %d points : %d\" % (train_tfidf.shape[0],(train_tfidf_Y != prediction).sum()))\n",
    "    test_scores=[]\n",
    "    for test_class in test_divs:\n",
    "        y_test_clf_class = clf.predict(test_tfidf.toarray()[test_answers[\"dtset\"]==test_class])\n",
    "        y_test_clf_class_f1=f1_score(test_tfidf_Y[test_answers[\"dtset\"]==test_class], y_test_clf_class, average='weighted')\n",
    "        test_scores.append(y_test_clf_class_f1)\n",
    "        print(test_class,y_test_clf_class_f1)\n",
    "        print(pd.crosstab(columns=test_tfidf_Y[test_answers[\"dtset\"]==test_class], index=y_test_clf_class,margins=True))\n",
    "        print(\"-----------------------------------------------------\")\n",
    "    clasif_scores.append(test_scores)\n",
    "    print(\"***********************************************************************************************\")"
   ]
  },
  {
   "cell_type": "markdown",
   "metadata": {},
   "source": [
    "    primera_ronda=[\n",
    "    [0.787112733398022,0.5838420728294598,0.7308712121212121,0.5620836646701345,0.4914699221309699],\n",
    "    [0.5859916188801279,0.4530869571407395,0.44167411724716754,0.4370866976210412,0.42557052921233784],\n",
    "    [0.8196234822458234,0.63706818920818,0.6644979662681494,0.5702569621674781,0.42557052921233784]]"
   ]
  },
  {
   "cell_type": "code",
   "execution_count": 31,
   "metadata": {},
   "outputs": [
    {
     "data": {
      "text/plain": [
       "[[0.787112733398022,\n",
       "  0.5838420728294598,\n",
       "  0.7308712121212121,\n",
       "  0.5620836646701345,\n",
       "  0.4914699221309699],\n",
       " [0.8196234822458234,\n",
       "  0.63706818920818,\n",
       "  0.6644979662681494,\n",
       "  0.5702569621674781,\n",
       "  0.42557052921233784],\n",
       " [0.6973574646975925,\n",
       "  0.5710337022442812,\n",
       "  0.4121255848528576,\n",
       "  0.4370866976210412,\n",
       "  0.42557052921233784],\n",
       " [0.44268690594410554,\n",
       "  0.34493825260348854,\n",
       "  0.42456035439407597,\n",
       "  0.4370866976210412,\n",
       "  0.42557052921233784],\n",
       " [0.6946646685458853,\n",
       "  0.6093711864336417,\n",
       "  0.5481310242190628,\n",
       "  0.4624841208529302,\n",
       "  0.42536677942670353],\n",
       " [0.7248791116813923,\n",
       "  0.6067536739145571,\n",
       "  0.5678998521892842,\n",
       "  0.4695104722143299,\n",
       "  0.44436224934155294],\n",
       " [0.42554311959521074,\n",
       "  0.4752690184528084,\n",
       "  0.46807920454060514,\n",
       "  0.5168486617535006,\n",
       "  0.5856861625694988],\n",
       " [0.5295219549089518,\n",
       "  0.5555733772931251,\n",
       "  0.5923759350483488,\n",
       "  0.4903922252715478,\n",
       "  0.5558032269958835]]"
      ]
     },
     "execution_count": 31,
     "metadata": {},
     "output_type": "execute_result"
    }
   ],
   "source": [
    "clasif_scores"
   ]
  },
  {
   "cell_type": "code",
   "execution_count": 32,
   "metadata": {},
   "outputs": [],
   "source": [
    "results=pd.DataFrame(np.array(clasif_scores), columns=test_divs, index=names)#[\"KNN\",\"Linear_SVM\",\"RBF_SVM\"])\n",
    "# results[\"mean\"]=results.mean(axis=1)\n",
    "# results[\"train performance\"]=train_scores"
   ]
  },
  {
   "cell_type": "code",
   "execution_count": 35,
   "metadata": {},
   "outputs": [
    {
     "data": {
      "text/html": [
       "<div>\n",
       "<style scoped>\n",
       "    .dataframe tbody tr th:only-of-type {\n",
       "        vertical-align: middle;\n",
       "    }\n",
       "\n",
       "    .dataframe tbody tr th {\n",
       "        vertical-align: top;\n",
       "    }\n",
       "\n",
       "    .dataframe thead th {\n",
       "        text-align: right;\n",
       "    }\n",
       "</style>\n",
       "<table border=\"1\" class=\"dataframe\">\n",
       "  <thead>\n",
       "    <tr style=\"text-align: right;\">\n",
       "      <th></th>\n",
       "      <th>TEST Beetle Unseen Answers</th>\n",
       "      <th>TEST Beetle Unseen Questions</th>\n",
       "      <th>TEST sciEntsBank Unseen Answers</th>\n",
       "      <th>TEST sciEntsBank Unseen Questions</th>\n",
       "      <th>TEST sciEntsBank Unseen Domains</th>\n",
       "    </tr>\n",
       "  </thead>\n",
       "  <tbody>\n",
       "    <tr>\n",
       "      <th>Nearest Neighbors</th>\n",
       "      <td>0.787113</td>\n",
       "      <td>0.583842</td>\n",
       "      <td>0.730871</td>\n",
       "      <td>0.562084</td>\n",
       "      <td>0.491470</td>\n",
       "    </tr>\n",
       "    <tr>\n",
       "      <th>RBF SVM</th>\n",
       "      <td>0.819623</td>\n",
       "      <td>0.637068</td>\n",
       "      <td>0.664498</td>\n",
       "      <td>0.570257</td>\n",
       "      <td>0.425571</td>\n",
       "    </tr>\n",
       "    <tr>\n",
       "      <th>Decision Tree</th>\n",
       "      <td>0.697357</td>\n",
       "      <td>0.571034</td>\n",
       "      <td>0.412126</td>\n",
       "      <td>0.437087</td>\n",
       "      <td>0.425571</td>\n",
       "    </tr>\n",
       "    <tr>\n",
       "      <th>Random Forest</th>\n",
       "      <td>0.442687</td>\n",
       "      <td>0.344938</td>\n",
       "      <td>0.424560</td>\n",
       "      <td>0.437087</td>\n",
       "      <td>0.425571</td>\n",
       "    </tr>\n",
       "    <tr>\n",
       "      <th>Neural Net</th>\n",
       "      <td>0.694665</td>\n",
       "      <td>0.609371</td>\n",
       "      <td>0.548131</td>\n",
       "      <td>0.462484</td>\n",
       "      <td>0.425367</td>\n",
       "    </tr>\n",
       "    <tr>\n",
       "      <th>AdaBoost</th>\n",
       "      <td>0.724879</td>\n",
       "      <td>0.606754</td>\n",
       "      <td>0.567900</td>\n",
       "      <td>0.469510</td>\n",
       "      <td>0.444362</td>\n",
       "    </tr>\n",
       "    <tr>\n",
       "      <th>Naive Bayes</th>\n",
       "      <td>0.425543</td>\n",
       "      <td>0.475269</td>\n",
       "      <td>0.468079</td>\n",
       "      <td>0.516849</td>\n",
       "      <td>0.585686</td>\n",
       "    </tr>\n",
       "    <tr>\n",
       "      <th>QDA</th>\n",
       "      <td>0.529522</td>\n",
       "      <td>0.555573</td>\n",
       "      <td>0.592376</td>\n",
       "      <td>0.490392</td>\n",
       "      <td>0.555803</td>\n",
       "    </tr>\n",
       "  </tbody>\n",
       "</table>\n",
       "</div>"
      ],
      "text/plain": [
       "                   TEST Beetle Unseen Answers  TEST Beetle Unseen Questions  \\\n",
       "Nearest Neighbors                    0.787113                      0.583842   \n",
       "RBF SVM                              0.819623                      0.637068   \n",
       "Decision Tree                        0.697357                      0.571034   \n",
       "Random Forest                        0.442687                      0.344938   \n",
       "Neural Net                           0.694665                      0.609371   \n",
       "AdaBoost                             0.724879                      0.606754   \n",
       "Naive Bayes                          0.425543                      0.475269   \n",
       "QDA                                  0.529522                      0.555573   \n",
       "\n",
       "                   TEST sciEntsBank Unseen Answers  \\\n",
       "Nearest Neighbors                         0.730871   \n",
       "RBF SVM                                   0.664498   \n",
       "Decision Tree                             0.412126   \n",
       "Random Forest                             0.424560   \n",
       "Neural Net                                0.548131   \n",
       "AdaBoost                                  0.567900   \n",
       "Naive Bayes                               0.468079   \n",
       "QDA                                       0.592376   \n",
       "\n",
       "                   TEST sciEntsBank Unseen Questions  \\\n",
       "Nearest Neighbors                           0.562084   \n",
       "RBF SVM                                     0.570257   \n",
       "Decision Tree                               0.437087   \n",
       "Random Forest                               0.437087   \n",
       "Neural Net                                  0.462484   \n",
       "AdaBoost                                    0.469510   \n",
       "Naive Bayes                                 0.516849   \n",
       "QDA                                         0.490392   \n",
       "\n",
       "                   TEST sciEntsBank Unseen Domains  \n",
       "Nearest Neighbors                         0.491470  \n",
       "RBF SVM                                   0.425571  \n",
       "Decision Tree                             0.425571  \n",
       "Random Forest                             0.425571  \n",
       "Neural Net                                0.425367  \n",
       "AdaBoost                                  0.444362  \n",
       "Naive Bayes                               0.585686  \n",
       "QDA                                       0.555803  "
      ]
     },
     "execution_count": 35,
     "metadata": {},
     "output_type": "execute_result"
    }
   ],
   "source": [
    "results"
   ]
  },
  {
   "cell_type": "code",
   "execution_count": 33,
   "metadata": {},
   "outputs": [],
   "source": [
    "results.to_csv(\"primeros_resultados.csv\")"
   ]
  },
  {
   "cell_type": "code",
   "execution_count": 34,
   "metadata": {},
   "outputs": [
    {
     "data": {
      "text/plain": [
       "<matplotlib.axes._subplots.AxesSubplot at 0x261201e5b38>"
      ]
     },
     "execution_count": 34,
     "metadata": {},
     "output_type": "execute_result"
    },
    {
     "data": {
      "image/png": "[encoded data removed]",
      "text/plain": [
       "<Figure size 1152x648 with 1 Axes>"
      ]
     },
     "metadata": {
      "needs_background": "light"
     },
     "output_type": "display_data"
    }
   ],
   "source": [
    "results.T.plot(figsize=(16,9))\n",
    "# plt.line()"
   ]
  },
  {
   "cell_type": "code",
   "execution_count": null,
   "metadata": {},
   "outputs": [],
   "source": []
  },
  {
   "cell_type": "code",
   "execution_count": null,
   "metadata": {},
   "outputs": [],
   "source": []
  }
 ],
 "metadata": {
  "kernelspec": {
   "display_name": "Python 3",
   "language": "python",
   "name": "python3"
  },
  "language_info": {
   "codemirror_mode": {
    "name": "ipython",
    "version": 3
   },
   "file_extension": ".py",
   "mimetype": "text/x-python",
   "name": "python",
   "nbconvert_exporter": "python",
   "pygments_lexer": "ipython3",
   "version": "3.7.1"
  }
 },
 "nbformat": 4,
 "nbformat_minor": 2
}
